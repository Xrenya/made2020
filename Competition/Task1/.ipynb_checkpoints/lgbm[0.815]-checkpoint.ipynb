{
 "cells": [
  {
   "cell_type": "code",
   "execution_count": 2,
   "metadata": {
    "ExecuteTime": {
     "end_time": "2020-08-02T10:41:37.075806Z",
     "start_time": "2020-08-02T10:41:32.339643Z"
    }
   },
   "outputs": [],
   "source": [
    "import numpy as np\n",
    "import pandas as pd\n",
    "\n",
    "%matplotlib inline\n",
    "import matplotlib.pyplot as plt\n",
    "import seaborn as sns"
   ]
  },
  {
   "cell_type": "code",
   "execution_count": 33,
   "metadata": {
    "ExecuteTime": {
     "end_time": "2020-08-02T10:56:29.548254Z",
     "start_time": "2020-08-02T10:56:29.399404Z"
    }
   },
   "outputs": [],
   "source": [
    "X_train = pd.read_csv('input/train.csv', header=None, prefix='col')\n",
    "X_test = pd.read_csv('input/test.csv', header=None, prefix='col') \n",
    "y_train = pd.read_csv('input/train-target.csv', header=None, names=['target']) \n",
    "subm = pd.read_csv('input/sample-submission.csv', header=None) \n",
    "\n",
    "df = pd.concat([X_train, y_train], axis=1)"
   ]
  },
  {
   "cell_type": "markdown",
   "metadata": {},
   "source": [
    "# Preproc"
   ]
  },
  {
   "cell_type": "code",
   "execution_count": 34,
   "metadata": {},
   "outputs": [],
   "source": [
    "drop_cols = ['col17', 'col22', 'col26', 'col9', 'col15', 'col16']\n",
    "X_train = X_train.drop(columns=drop_cols)\n",
    "X_test = X_test.drop(columns=drop_cols)"
   ]
  },
  {
   "cell_type": "markdown",
   "metadata": {},
   "source": [
    "# Model"
   ]
  },
  {
   "cell_type": "code",
   "execution_count": 5,
   "metadata": {
    "ExecuteTime": {
     "end_time": "2020-08-02T10:49:54.642243Z",
     "start_time": "2020-08-02T10:49:54.638247Z"
    }
   },
   "outputs": [],
   "source": [
    "from sklearn.model_selection import KFold, StratifiedKFold\n",
    "from sklearn.metrics import roc_auc_score\n",
    "import lightgbm as lgb\n",
    "\n",
    "import time"
   ]
  },
  {
   "cell_type": "code",
   "execution_count": 93,
   "metadata": {
    "ExecuteTime": {
     "end_time": "2020-08-02T10:51:56.429113Z",
     "start_time": "2020-08-02T10:51:56.410132Z"
    }
   },
   "outputs": [],
   "source": [
    "def train_model(X, X_test, y, params, folds, model_type='lgb', plot_feature_importance=False, \n",
    "                averaging='usual', model=None):\n",
    "    oof = np.zeros(len(X))\n",
    "    prediction = np.zeros(len(X_test))\n",
    "    scores = []\n",
    "    feature_importance = pd.DataFrame()\n",
    "    for fold_n, (train_index, valid_index) in enumerate(folds.split(X, y)):\n",
    "        print('Fold', fold_n, 'started at', time.ctime())\n",
    "        X_train, X_valid = X[train_index], X[valid_index]\n",
    "        y_train, y_valid = y[train_index], y[valid_index]\n",
    "        \n",
    "        if model_type == 'lgb':\n",
    "            train_data = lgb.Dataset(X_train, label=y_train)\n",
    "            valid_data = lgb.Dataset(X_valid, label=y_valid)\n",
    "            \n",
    "            model = lgb.train(params,\n",
    "                    train_data,\n",
    "                    num_boost_round=20000,\n",
    "                    valid_sets = [train_data, valid_data],\n",
    "                    verbose_eval=1000,\n",
    "                    early_stopping_rounds = 200)\n",
    "            \n",
    "            y_pred_valid = model.predict(X_valid)\n",
    "            y_pred = model.predict(X_test, num_iteration=model.best_iteration)\n",
    "            \n",
    "        oof[valid_index] = y_pred_valid.reshape(-1,)\n",
    "        scores.append(roc_auc_score(y_valid, y_pred_valid))\n",
    "\n",
    "        if averaging == 'usual':\n",
    "            prediction += y_pred\n",
    "        elif averaging == 'rank':\n",
    "            prediction += pd.Series(y_pred).rank().values  \n",
    "        \n",
    "        if model_type == 'lgb':\n",
    "            # feature importance\n",
    "            fold_importance = pd.DataFrame()\n",
    "            fold_importance[\"feature\"] = [f'col{ncol}' for ncol in range(X.shape[-1])]\n",
    "            fold_importance[\"importance\"] = model.feature_importance()\n",
    "            fold_importance[\"fold\"] = fold_n + 1\n",
    "            feature_importance = pd.concat([feature_importance, fold_importance], axis=0)\n",
    "\n",
    "    prediction /= n_fold\n",
    "    \n",
    "    print('CV mean score: {0:.4f}, std: {1:.4f}.'.format(np.mean(scores), np.std(scores)))\n",
    "    \n",
    "    if model_type == 'lgb':\n",
    "        feature_importance[\"importance\"] /= n_fold\n",
    "        if plot_feature_importance:\n",
    "            cols = feature_importance[[\"feature\", \"importance\"]].groupby(\"feature\").mean().sort_values(\n",
    "                   by=\"importance\", ascending=False)[:50].index\n",
    "\n",
    "            best_features = feature_importance.loc[feature_importance.feature.isin(cols)]\n",
    "\n",
    "            plt.figure(figsize=(16, 12));\n",
    "            sns.barplot(x=\"importance\", y=\"feature\", data=best_features.sort_values(by=\"importance\", ascending=False));\n",
    "            plt.title('LGB Features (avg over folds)');\n",
    "        \n",
    "            return oof, prediction, feature_importance\n",
    "        return oof, prediction, scores\n",
    "    \n",
    "    else:\n",
    "        return oof, prediction, scores"
   ]
  },
  {
   "cell_type": "code",
   "execution_count": 59,
   "metadata": {
    "ExecuteTime": {
     "end_time": "2020-08-02T10:51:57.731335Z",
     "start_time": "2020-08-02T10:51:57.728338Z"
    }
   },
   "outputs": [],
   "source": [
    "n_fold = 5\n",
    "folds = KFold(n_splits=n_fold, shuffle=True, random_state=42)"
   ]
  },
  {
   "cell_type": "code",
   "execution_count": 100,
   "metadata": {
    "ExecuteTime": {
     "end_time": "2020-08-02T11:02:42.179210Z",
     "start_time": "2020-08-02T11:02:42.174216Z"
    }
   },
   "outputs": [],
   "source": [
    "params = {'boost': 'gbdt',\n",
    "#           'feature_fraction': 0.5,\n",
    "          'learning_rate': 0.01,\n",
    "          'max_depth': -1,  \n",
    "          'metric':'auc',\n",
    "          'min_data_in_leaf': 21,\n",
    "          'num_leaves': 150,\n",
    "          'num_threads': -1,\n",
    "          'verbosity': 1,\n",
    "          'objective': 'binary'\n",
    "         }"
   ]
  },
  {
   "cell_type": "code",
   "execution_count": 101,
   "metadata": {
    "ExecuteTime": {
     "end_time": "2020-08-02T11:02:48.642243Z",
     "start_time": "2020-08-02T11:02:42.940513Z"
    }
   },
   "outputs": [
    {
     "name": "stdout",
     "output_type": "stream",
     "text": [
      "Fold 0 started at Sun Aug  2 18:07:05 2020\n",
      "Training until validation scores don't improve for 200 rounds\n",
      "[1000]\ttraining's auc: 1\tvalid_1's auc: 0.822014\n",
      "Early stopping, best iteration is:\n",
      "[1019]\ttraining's auc: 1\tvalid_1's auc: 0.822207\n",
      "Fold 1 started at Sun Aug  2 18:07:22 2020\n",
      "Training until validation scores don't improve for 200 rounds\n",
      "Early stopping, best iteration is:\n",
      "[419]\ttraining's auc: 0.998865\tvalid_1's auc: 0.825783\n",
      "Fold 2 started at Sun Aug  2 18:07:31 2020\n",
      "Training until validation scores don't improve for 200 rounds\n",
      "Early stopping, best iteration is:\n",
      "[345]\ttraining's auc: 0.99559\tvalid_1's auc: 0.841751\n",
      "Fold 3 started at Sun Aug  2 18:07:39 2020\n",
      "Training until validation scores don't improve for 200 rounds\n",
      "Early stopping, best iteration is:\n",
      "[673]\ttraining's auc: 1\tvalid_1's auc: 0.804916\n",
      "Fold 4 started at Sun Aug  2 18:07:52 2020\n",
      "Training until validation scores don't improve for 200 rounds\n",
      "[1000]\ttraining's auc: 1\tvalid_1's auc: 0.827758\n",
      "Early stopping, best iteration is:\n",
      "[916]\ttraining's auc: 1\tvalid_1's auc: 0.827915\n",
      "CV mean score: 0.8245, std: 0.0118.\n"
     ]
    }
   ],
   "source": [
    "# CV mean score: 0.8245, std: 0.0118.\n",
    "\n",
    "X = X_train.values\n",
    "y = y_train.values.flatten()\n",
    "X_test_np = X_test.values\n",
    "\n",
    "oof_lgb, prediction_lgb, scores = train_model(X, X_test_np, y, params=params, \n",
    "                                              folds=folds, model_type='lgb', \n",
    "                                              plot_feature_importance=False)"
   ]
  },
  {
   "cell_type": "code",
   "execution_count": 102,
   "metadata": {
    "ExecuteTime": {
     "end_time": "2020-08-02T11:01:29.272915Z",
     "start_time": "2020-08-02T11:01:29.262925Z"
    }
   },
   "outputs": [
    {
     "data": {
      "text/plain": [
       "0.822086529882569"
      ]
     },
     "execution_count": 102,
     "metadata": {},
     "output_type": "execute_result"
    }
   ],
   "source": [
    "roc_auc_score(y, oof_lgb)"
   ]
  },
  {
   "cell_type": "code",
   "execution_count": 103,
   "metadata": {
    "ExecuteTime": {
     "end_time": "2020-08-02T10:52:21.695139Z",
     "start_time": "2020-08-02T10:52:21.690144Z"
    }
   },
   "outputs": [
    {
     "data": {
      "text/plain": [
       "array([0.09219256, 0.36178835, 0.12861747, ..., 0.2321156 , 0.16645781,\n",
       "       0.84054615])"
      ]
     },
     "execution_count": 103,
     "metadata": {},
     "output_type": "execute_result"
    }
   ],
   "source": [
    "prediction_lgb"
   ]
  },
  {
   "cell_type": "code",
   "execution_count": 104,
   "metadata": {
    "ExecuteTime": {
     "end_time": "2020-08-02T10:56:36.987850Z",
     "start_time": "2020-08-02T10:56:36.982855Z"
    }
   },
   "outputs": [],
   "source": [
    "subm.iloc[:, 0] = prediction_lgb"
   ]
  },
  {
   "cell_type": "code",
   "execution_count": 105,
   "metadata": {
    "ExecuteTime": {
     "end_time": "2020-08-02T10:56:37.435532Z",
     "start_time": "2020-08-02T10:56:37.422545Z"
    }
   },
   "outputs": [],
   "source": [
    "subm.to_csv('input/subm004.csv', header=None, index=None)"
   ]
  },
  {
   "cell_type": "code",
   "execution_count": null,
   "metadata": {},
   "outputs": [],
   "source": []
  }
 ],
 "metadata": {
  "kernelspec": {
   "display_name": "Python 3",
   "language": "python",
   "name": "python3"
  },
  "language_info": {
   "codemirror_mode": {
    "name": "ipython",
    "version": 3
   },
   "file_extension": ".py",
   "mimetype": "text/x-python",
   "name": "python",
   "nbconvert_exporter": "python",
   "pygments_lexer": "ipython3",
   "version": "3.7.6"
  },
  "varInspector": {
   "cols": {
    "lenName": 16,
    "lenType": 16,
    "lenVar": 40
   },
   "kernels_config": {
    "python": {
     "delete_cmd_postfix": "",
     "delete_cmd_prefix": "del ",
     "library": "var_list.py",
     "varRefreshCmd": "print(var_dic_list())"
    },
    "r": {
     "delete_cmd_postfix": ") ",
     "delete_cmd_prefix": "rm(",
     "library": "var_list.r",
     "varRefreshCmd": "cat(var_dic_list()) "
    }
   },
   "types_to_exclude": [
    "module",
    "function",
    "builtin_function_or_method",
    "instance",
    "_Feature"
   ],
   "window_display": false
  }
 },
 "nbformat": 4,
 "nbformat_minor": 2
}
