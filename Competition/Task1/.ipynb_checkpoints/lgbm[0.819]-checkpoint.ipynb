{
 "cells": [
  {
   "cell_type": "code",
   "execution_count": 2,
   "metadata": {
    "ExecuteTime": {
     "end_time": "2020-08-02T10:41:37.075806Z",
     "start_time": "2020-08-02T10:41:32.339643Z"
    }
   },
   "outputs": [],
   "source": [
    "import numpy as np\n",
    "import pandas as pd\n",
    "\n",
    "%matplotlib inline\n",
    "import matplotlib.pyplot as plt\n",
    "import seaborn as sns"
   ]
  },
  {
   "cell_type": "code",
   "execution_count": 33,
   "metadata": {
    "ExecuteTime": {
     "end_time": "2020-08-02T10:56:29.548254Z",
     "start_time": "2020-08-02T10:56:29.399404Z"
    }
   },
   "outputs": [],
   "source": [
    "X_train = pd.read_csv('input/train.csv', header=None, prefix='col')\n",
    "X_test = pd.read_csv('input/test.csv', header=None, prefix='col') \n",
    "y_train = pd.read_csv('input/train-target.csv', header=None, names=['target']) \n",
    "subm = pd.read_csv('input/sample-submission.csv', header=None) \n",
    "\n",
    "df = pd.concat([X_train, y_train], axis=1)"
   ]
  },
  {
   "cell_type": "markdown",
   "metadata": {},
   "source": [
    "# Preproc"
   ]
  },
  {
   "cell_type": "code",
   "execution_count": 34,
   "metadata": {},
   "outputs": [],
   "source": [
    "drop_cols = ['col17', 'col22', 'col26', 'col9', 'col15', 'col16']\n",
    "X_train = X_train.drop(columns=drop_cols)\n",
    "X_test = X_test.drop(columns=drop_cols)"
   ]
  },
  {
   "cell_type": "code",
   "execution_count": 208,
   "metadata": {},
   "outputs": [],
   "source": [
    "from sklearn.decomposition import PCA\n",
    "pca = PCA(n_components=11, random_state=12)\n",
    "X_train_pca = pca.fit_transform(X_train)\n",
    "X_test_pca = pca.transform(X_test)"
   ]
  },
  {
   "cell_type": "code",
   "execution_count": 209,
   "metadata": {},
   "outputs": [],
   "source": [
    "# oof_lgb, prediction_lgb, scores = train_model(X_train_pca, X_test_pca, y, params=params, \n",
    "#                                               folds=folds, model_type='lgb', \n",
    "#                                               plot_feature_importance=False)"
   ]
  },
  {
   "cell_type": "code",
   "execution_count": null,
   "metadata": {},
   "outputs": [
    {
     "name": "stdout",
     "output_type": "stream",
     "text": [
      "Fold 0 started at Mon Aug  3 00:39:33 2020\n",
      "Fold 1 started at Mon Aug  3 00:40:00 2020\n",
      "Fold 2 started at Mon Aug  3 00:40:39 2020\n",
      "Fold 3 started at Mon Aug  3 00:41:42 2020\n",
      "Fold 4 started at Mon Aug  3 00:41:56 2020\n"
     ]
    }
   ],
   "source": [
    "# CV mean score: 0.8323, std: 0.0106. n=11\n",
    "\n",
    "X = np.concatenate([X_train.values, X_train_pca], axis=1)\n",
    "y = y_train.values.flatten()\n",
    "X_test_np = np.concatenate([X_test.values, X_test_pca], axis=1)\n",
    "\n",
    "oof_lgb, prediction_lgb, scores = train_model(X, X_test_np, y, params=params, \n",
    "                                              folds=folds, model_type='lgb', \n",
    "                                              plot_feature_importance=False)"
   ]
  },
  {
   "cell_type": "code",
   "execution_count": 186,
   "metadata": {},
   "outputs": [],
   "source": [
    "from sklearn.preprocessing import PolynomialFeatures\n",
    "pf = PolynomialFeatures(degree=2, interaction_only=True, include_bias=False)\n",
    "\n",
    "X_train_pca = pf.fit_transform(X_train)\n",
    "X_test_pca = pf.transform(X_test)"
   ]
  },
  {
   "cell_type": "code",
   "execution_count": 189,
   "metadata": {},
   "outputs": [],
   "source": [
    "params_pf = {'boost': 'gbdt',\n",
    "          'learning_rate': 0.03,\n",
    "          'max_depth': -1,  \n",
    "          'metric':'auc',\n",
    "          'min_data_in_leaf': 21,\n",
    "          'num_leaves': 251,\n",
    "          'num_threads': -1,\n",
    "          'verbosity': -1,\n",
    "          'objective': 'binary',\n",
    "         }"
   ]
  },
  {
   "cell_type": "code",
   "execution_count": 190,
   "metadata": {},
   "outputs": [
    {
     "name": "stdout",
     "output_type": "stream",
     "text": [
      "Fold 0 started at Mon Aug  3 00:09:47 2020\n",
      "Fold 1 started at Mon Aug  3 00:11:09 2020\n",
      "Fold 2 started at Mon Aug  3 00:13:56 2020\n",
      "Fold 3 started at Mon Aug  3 00:16:30 2020\n",
      "Fold 4 started at Mon Aug  3 00:19:46 2020\n",
      "CV mean score: 0.8258, std: 0.0096.\n"
     ]
    }
   ],
   "source": [
    "X = np.concatenate([X_train.values, X_train_pca], axis=1)\n",
    "y = y_train.values.flatten()\n",
    "X_test_np = np.concatenate([X_test.values, X_test_pca], axis=1)\n",
    "\n",
    "oof_lgb, prediction_lgb, scores = train_model(X, X_test_np, y, params=params_pf, \n",
    "                                              folds=folds, model_type='lgb', \n",
    "                                              plot_feature_importance=False)"
   ]
  },
  {
   "cell_type": "code",
   "execution_count": 198,
   "metadata": {},
   "outputs": [],
   "source": [
    "X_train_round = ((X_train / X_train.max(axis=0)) * 10).round()\n",
    "X_test_round = ((X_test / X_test.max(axis=0)) * 10).round()"
   ]
  },
  {
   "cell_type": "code",
   "execution_count": 199,
   "metadata": {},
   "outputs": [
    {
     "name": "stdout",
     "output_type": "stream",
     "text": [
      "Fold 0 started at Mon Aug  3 00:30:40 2020\n",
      "Fold 1 started at Mon Aug  3 00:31:06 2020\n",
      "Fold 2 started at Mon Aug  3 00:31:17 2020\n",
      "Fold 3 started at Mon Aug  3 00:31:33 2020\n",
      "Fold 4 started at Mon Aug  3 00:31:58 2020\n",
      "CV mean score: 0.8258, std: 0.0111.\n"
     ]
    }
   ],
   "source": [
    "X = np.concatenate([X_train.values, X_train_round], axis=1)\n",
    "y = y_train.values.flatten()\n",
    "X_test_np = np.concatenate([X_test.values, X_test_round], axis=1)\n",
    "\n",
    "oof_lgb, prediction_lgb, scores = train_model(X, X_test_np, y, params=params_pf, \n",
    "                                              folds=folds, model_type='lgb', \n",
    "                                              plot_feature_importance=False)"
   ]
  },
  {
   "cell_type": "code",
   "execution_count": null,
   "metadata": {},
   "outputs": [],
   "source": []
  },
  {
   "cell_type": "markdown",
   "metadata": {},
   "source": [
    "# Model"
   ]
  },
  {
   "cell_type": "code",
   "execution_count": 141,
   "metadata": {
    "ExecuteTime": {
     "end_time": "2020-08-02T10:49:54.642243Z",
     "start_time": "2020-08-02T10:49:54.638247Z"
    }
   },
   "outputs": [],
   "source": [
    "from sklearn.model_selection import KFold, StratifiedKFold, TimeSeriesSplit\n",
    "from sklearn.metrics import roc_auc_score\n",
    "import lightgbm as lgb\n",
    "\n",
    "import time"
   ]
  },
  {
   "cell_type": "code",
   "execution_count": 170,
   "metadata": {
    "ExecuteTime": {
     "end_time": "2020-08-02T10:51:56.429113Z",
     "start_time": "2020-08-02T10:51:56.410132Z"
    }
   },
   "outputs": [],
   "source": [
    "def train_model(X, X_test, y, params, folds, model_type='lgb', plot_feature_importance=False, \n",
    "                averaging='usual', model=None):\n",
    "    oof = np.zeros(len(X))\n",
    "    prediction = np.zeros(len(X_test))\n",
    "    scores = []\n",
    "    feature_importance = pd.DataFrame()\n",
    "    for fold_n, (train_index, valid_index) in enumerate(folds.split(X, y)):\n",
    "        print('Fold', fold_n, 'started at', time.ctime())\n",
    "        X_train, X_valid = X[train_index], X[valid_index]\n",
    "        y_train, y_valid = y[train_index], y[valid_index]\n",
    "        \n",
    "        if model_type == 'lgb':\n",
    "            train_data = lgb.Dataset(X_train, label=y_train, params={'verbose': -1})\n",
    "            valid_data = lgb.Dataset(X_valid, label=y_valid, params={'verbose': -1})\n",
    "            \n",
    "            model = lgb.train(params,\n",
    "                    train_data,\n",
    "                    num_boost_round=20000,\n",
    "                    valid_sets = [train_data, valid_data],\n",
    "                    verbose_eval=False,\n",
    "                    early_stopping_rounds = 200)\n",
    "            \n",
    "            y_pred_valid = model.predict(X_valid)\n",
    "            y_pred = model.predict(X_test, num_iteration=model.best_iteration)\n",
    "            \n",
    "        oof[valid_index] = y_pred_valid.reshape(-1,)\n",
    "        scores.append(roc_auc_score(y_valid, y_pred_valid))\n",
    "\n",
    "        if averaging == 'usual':\n",
    "            prediction += y_pred\n",
    "        elif averaging == 'rank':\n",
    "            prediction += pd.Series(y_pred).rank().values  \n",
    "        \n",
    "        if model_type == 'lgb':\n",
    "            # feature importance\n",
    "            fold_importance = pd.DataFrame()\n",
    "            fold_importance[\"feature\"] = [f'col{ncol}' for ncol in range(X.shape[-1])]\n",
    "            fold_importance[\"importance\"] = model.feature_importance()\n",
    "            fold_importance[\"fold\"] = fold_n + 1\n",
    "            feature_importance = pd.concat([feature_importance, fold_importance], axis=0)\n",
    "\n",
    "    prediction /= n_fold\n",
    "    \n",
    "    print('CV mean score: {0:.4f}, std: {1:.4f}.'.format(np.mean(scores), np.std(scores)))\n",
    "    \n",
    "    if model_type == 'lgb':\n",
    "        feature_importance[\"importance\"] /= n_fold\n",
    "        if plot_feature_importance:\n",
    "            cols = feature_importance[[\"feature\", \"importance\"]].groupby(\"feature\").mean().sort_values(\n",
    "                   by=\"importance\", ascending=False)[:50].index\n",
    "\n",
    "            best_features = feature_importance.loc[feature_importance.feature.isin(cols)]\n",
    "\n",
    "            plt.figure(figsize=(16, 12));\n",
    "            sns.barplot(x=\"importance\", y=\"feature\", data=best_features.sort_values(by=\"importance\", ascending=False));\n",
    "            plt.title('LGB Features (avg over folds)');\n",
    "        \n",
    "            return oof, prediction, feature_importance\n",
    "        return oof, prediction, scores\n",
    "    \n",
    "    else:\n",
    "        return oof, prediction, scores"
   ]
  },
  {
   "cell_type": "code",
   "execution_count": 157,
   "metadata": {
    "ExecuteTime": {
     "end_time": "2020-08-02T10:51:57.731335Z",
     "start_time": "2020-08-02T10:51:57.728338Z"
    }
   },
   "outputs": [],
   "source": [
    "n_fold = 5\n",
    "folds = KFold(n_splits=n_fold, shuffle=True, random_state=42)\n",
    "# folds = StratifiedKFold(n_splits=n_fold, shuffle=True, random_state=42)\n",
    "# folds = TimeSeriesSplit(n_splits=n_fold)"
   ]
  },
  {
   "cell_type": "code",
   "execution_count": 173,
   "metadata": {
    "ExecuteTime": {
     "end_time": "2020-08-02T11:02:42.179210Z",
     "start_time": "2020-08-02T11:02:42.174216Z"
    }
   },
   "outputs": [],
   "source": [
    "params = {'boost': 'gbdt',\n",
    "#           'feature_fraction': 0.5,\n",
    "          'learning_rate': 0.01,\n",
    "          'max_depth': -1,  \n",
    "          'metric':'auc',\n",
    "          'min_data_in_leaf': 21,\n",
    "          'num_leaves': 251,\n",
    "          'num_threads': -1,\n",
    "          'verbosity': -1,\n",
    "          'objective': 'binary',\n",
    "         }"
   ]
  },
  {
   "cell_type": "code",
   "execution_count": 159,
   "metadata": {
    "ExecuteTime": {
     "end_time": "2020-08-02T11:02:48.642243Z",
     "start_time": "2020-08-02T11:02:42.940513Z"
    }
   },
   "outputs": [
    {
     "name": "stdout",
     "output_type": "stream",
     "text": [
      "Fold 0 started at Sun Aug  2 23:37:55 2020\n",
      "Training until validation scores don't improve for 200 rounds\n",
      "[1000]\ttraining's auc: 1\tvalid_1's auc: 0.823243\n",
      "[2000]\ttraining's auc: 1\tvalid_1's auc: 0.825826\n",
      "Early stopping, best iteration is:\n",
      "[1982]\ttraining's auc: 1\tvalid_1's auc: 0.825934\n",
      "Fold 1 started at Sun Aug  2 23:38:37 2020\n",
      "Training until validation scores don't improve for 200 rounds\n",
      "Early stopping, best iteration is:\n",
      "[688]\ttraining's auc: 1\tvalid_1's auc: 0.826597\n",
      "Fold 2 started at Sun Aug  2 23:38:53 2020\n",
      "Training until validation scores don't improve for 200 rounds\n",
      "[1000]\ttraining's auc: 1\tvalid_1's auc: 0.842033\n",
      "Early stopping, best iteration is:\n",
      "[1144]\ttraining's auc: 1\tvalid_1's auc: 0.842717\n",
      "Fold 3 started at Sun Aug  2 23:39:18 2020\n",
      "Training until validation scores don't improve for 200 rounds\n",
      "Early stopping, best iteration is:\n",
      "[458]\ttraining's auc: 1\tvalid_1's auc: 0.808969\n",
      "Fold 4 started at Sun Aug  2 23:39:30 2020\n",
      "Training until validation scores don't improve for 200 rounds\n",
      "[1000]\ttraining's auc: 1\tvalid_1's auc: 0.82714\n",
      "Early stopping, best iteration is:\n",
      "[891]\ttraining's auc: 1\tvalid_1's auc: 0.827495\n",
      "CV mean score: 0.8263, std: 0.0107.\n"
     ]
    }
   ],
   "source": [
    "# CV mean score: 0.8263, std: 0.0107.\n",
    "\n",
    "X = X_train.values\n",
    "y = y_train.values.flatten()\n",
    "X_test_np = X_test.values\n",
    "\n",
    "oof_lgb, prediction_lgb, scores = train_model(X, X_test_np, y, params=params, \n",
    "                                              folds=folds, model_type='lgb', \n",
    "                                              plot_feature_importance=False)"
   ]
  },
  {
   "cell_type": "code",
   "execution_count": 204,
   "metadata": {
    "ExecuteTime": {
     "end_time": "2020-08-02T11:01:29.272915Z",
     "start_time": "2020-08-02T11:01:29.262925Z"
    }
   },
   "outputs": [
    {
     "data": {
      "text/plain": [
       "0.8306480206200654"
      ]
     },
     "execution_count": 204,
     "metadata": {},
     "output_type": "execute_result"
    }
   ],
   "source": [
    "roc_auc_score(y, oof_lgb)"
   ]
  },
  {
   "cell_type": "code",
   "execution_count": 205,
   "metadata": {
    "ExecuteTime": {
     "end_time": "2020-08-02T10:52:21.695139Z",
     "start_time": "2020-08-02T10:52:21.690144Z"
    }
   },
   "outputs": [
    {
     "data": {
      "text/plain": [
       "array([0.04249949, 0.28468248, 0.02818954, ..., 0.03819107, 0.04477126,\n",
       "       0.9581301 ])"
      ]
     },
     "execution_count": 205,
     "metadata": {},
     "output_type": "execute_result"
    }
   ],
   "source": [
    "prediction_lgb"
   ]
  },
  {
   "cell_type": "code",
   "execution_count": 206,
   "metadata": {
    "ExecuteTime": {
     "end_time": "2020-08-02T10:56:36.987850Z",
     "start_time": "2020-08-02T10:56:36.982855Z"
    }
   },
   "outputs": [],
   "source": [
    "subm.iloc[:, 0] = prediction_lgb"
   ]
  },
  {
   "cell_type": "code",
   "execution_count": 207,
   "metadata": {
    "ExecuteTime": {
     "end_time": "2020-08-02T10:56:37.435532Z",
     "start_time": "2020-08-02T10:56:37.422545Z"
    }
   },
   "outputs": [],
   "source": [
    "subm.to_csv('input/subm007.csv', header=None, index=None)"
   ]
  },
  {
   "cell_type": "code",
   "execution_count": null,
   "metadata": {},
   "outputs": [],
   "source": []
  }
 ],
 "metadata": {
  "kernelspec": {
   "display_name": "Python 3",
   "language": "python",
   "name": "python3"
  },
  "language_info": {
   "codemirror_mode": {
    "name": "ipython",
    "version": 3
   },
   "file_extension": ".py",
   "mimetype": "text/x-python",
   "name": "python",
   "nbconvert_exporter": "python",
   "pygments_lexer": "ipython3",
   "version": "3.7.6"
  },
  "varInspector": {
   "cols": {
    "lenName": 16,
    "lenType": 16,
    "lenVar": 40
   },
   "kernels_config": {
    "python": {
     "delete_cmd_postfix": "",
     "delete_cmd_prefix": "del ",
     "library": "var_list.py",
     "varRefreshCmd": "print(var_dic_list())"
    },
    "r": {
     "delete_cmd_postfix": ") ",
     "delete_cmd_prefix": "rm(",
     "library": "var_list.r",
     "varRefreshCmd": "cat(var_dic_list()) "
    }
   },
   "types_to_exclude": [
    "module",
    "function",
    "builtin_function_or_method",
    "instance",
    "_Feature"
   ],
   "window_display": false
  }
 },
 "nbformat": 4,
 "nbformat_minor": 2
}
