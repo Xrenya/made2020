{
 "cells": [
  {
   "cell_type": "code",
   "execution_count": 31,
   "metadata": {
    "ExecuteTime": {
     "end_time": "2020-08-05T05:12:26.329490Z",
     "start_time": "2020-08-05T05:12:26.283389Z"
    }
   },
   "outputs": [],
   "source": [
    "import pandas as pd\n",
    "import numpy as np\n",
    "\n",
    "%matplotlib inline\n",
    "import matplotlib.pyplot as plt\n",
    "import seaborn as sns"
   ]
  },
  {
   "cell_type": "code",
   "execution_count": 32,
   "metadata": {
    "ExecuteTime": {
     "end_time": "2020-08-05T05:12:26.754289Z",
     "start_time": "2020-08-05T05:12:26.695239Z"
    }
   },
   "outputs": [],
   "source": [
    "train = pd.read_csv('input/train.csv')\n",
    "test = pd.read_csv('input/test.csv')\n",
    "df_item = pd.read_csv('input/item-features.csv')\n",
    "df_user = pd.read_csv('input/user-features.csv')\n",
    "subm = pd.read_csv('input/sample-submission.csv')"
   ]
  },
  {
   "cell_type": "code",
   "execution_count": 33,
   "metadata": {
    "ExecuteTime": {
     "end_time": "2020-08-05T05:12:27.498814Z",
     "start_time": "2020-08-05T05:12:27.487925Z"
    }
   },
   "outputs": [],
   "source": [
    "df_item = df_item.drop(columns=['19','27','30','9'])\n",
    "df_item = df_item.sort_values('item_id').reset_index(drop=True)\n",
    "\n",
    "df_user = df_user.iloc[:, :2]\n",
    "df_user = df_user.sort_values('user_id').reset_index(drop=True)"
   ]
  },
  {
   "cell_type": "code",
   "execution_count": 4,
   "metadata": {
    "ExecuteTime": {
     "end_time": "2020-08-04T14:58:13.281001Z",
     "start_time": "2020-08-04T14:58:13.234376Z"
    }
   },
   "outputs": [
    {
     "data": {
      "text/html": [
       "<div>\n",
       "<style scoped>\n",
       "    .dataframe tbody tr th:only-of-type {\n",
       "        vertical-align: middle;\n",
       "    }\n",
       "\n",
       "    .dataframe tbody tr th {\n",
       "        vertical-align: top;\n",
       "    }\n",
       "\n",
       "    .dataframe thead th {\n",
       "        text-align: right;\n",
       "    }\n",
       "</style>\n",
       "<table border=\"1\" class=\"dataframe\">\n",
       "  <thead>\n",
       "    <tr style=\"text-align: right;\">\n",
       "      <th></th>\n",
       "      <th>0</th>\n",
       "      <th>month</th>\n",
       "      <th>day</th>\n",
       "      <th>hour</th>\n",
       "      <th>minute</th>\n",
       "      <th>dayofyear</th>\n",
       "      <th>week</th>\n",
       "      <th>dayofweek</th>\n",
       "      <th>quarter</th>\n",
       "    </tr>\n",
       "  </thead>\n",
       "  <tbody>\n",
       "    <tr>\n",
       "      <th>0</th>\n",
       "      <td>0.0013</td>\n",
       "      <td>3</td>\n",
       "      <td>31</td>\n",
       "      <td>5</td>\n",
       "      <td>3</td>\n",
       "      <td>90</td>\n",
       "      <td>13</td>\n",
       "      <td>4</td>\n",
       "      <td>1</td>\n",
       "    </tr>\n",
       "    <tr>\n",
       "      <th>1</th>\n",
       "      <td>0.0013</td>\n",
       "      <td>3</td>\n",
       "      <td>31</td>\n",
       "      <td>6</td>\n",
       "      <td>52</td>\n",
       "      <td>90</td>\n",
       "      <td>13</td>\n",
       "      <td>4</td>\n",
       "      <td>1</td>\n",
       "    </tr>\n",
       "    <tr>\n",
       "      <th>2</th>\n",
       "      <td>0.0013</td>\n",
       "      <td>3</td>\n",
       "      <td>31</td>\n",
       "      <td>8</td>\n",
       "      <td>29</td>\n",
       "      <td>90</td>\n",
       "      <td>13</td>\n",
       "      <td>4</td>\n",
       "      <td>1</td>\n",
       "    </tr>\n",
       "    <tr>\n",
       "      <th>3</th>\n",
       "      <td>0.0013</td>\n",
       "      <td>3</td>\n",
       "      <td>31</td>\n",
       "      <td>16</td>\n",
       "      <td>50</td>\n",
       "      <td>90</td>\n",
       "      <td>13</td>\n",
       "      <td>4</td>\n",
       "      <td>1</td>\n",
       "    </tr>\n",
       "    <tr>\n",
       "      <th>4</th>\n",
       "      <td>0.0013</td>\n",
       "      <td>3</td>\n",
       "      <td>31</td>\n",
       "      <td>19</td>\n",
       "      <td>46</td>\n",
       "      <td>90</td>\n",
       "      <td>13</td>\n",
       "      <td>4</td>\n",
       "      <td>1</td>\n",
       "    </tr>\n",
       "  </tbody>\n",
       "</table>\n",
       "</div>"
      ],
      "text/plain": [
       "        0  month  day  hour  minute  dayofyear  week  dayofweek  quarter\n",
       "0  0.0013      3   31     5       3         90    13          4        1\n",
       "1  0.0013      3   31     6      52         90    13          4        1\n",
       "2  0.0013      3   31     8      29         90    13          4        1\n",
       "3  0.0013      3   31    16      50         90    13          4        1\n",
       "4  0.0013      3   31    19      46         90    13          4        1"
      ]
     },
     "execution_count": 4,
     "metadata": {},
     "output_type": "execute_result"
    }
   ],
   "source": [
    "def preproc(df, cols_to_drop=None):\n",
    "    X = df.merge(df_user, on='user_id')\n",
    "#     if 'item_id' in df.columns:\n",
    "#         X = X.merge(df_item, on='item_id')\n",
    "\n",
    "    X['timestamp'] = pd.to_datetime(X['timestamp'], unit='s')\n",
    "    X['month'] = X['timestamp'].dt.month\n",
    "    X['day'] = X['timestamp'].dt.day\n",
    "    X['hour'] = X['timestamp'].dt.hour\n",
    "    X['minute'] = X['timestamp'].dt.minute\n",
    "    X['dayofyear'] = X['timestamp'].dt.dayofyear\n",
    "    X['week'] = X['timestamp'].dt.week\n",
    "    X['dayofweek'] = X['timestamp'].dt.dayofweek\n",
    "    X['quarter'] = X['timestamp'].dt.quarter\n",
    "\n",
    "    X = X.drop(columns=cols_to_drop)\n",
    "    return X\n",
    "\n",
    "y = train['like']\n",
    "\n",
    "X_train = preproc(train, cols_to_drop=['user_id', 'item_id', 'like', 'timestamp'])\n",
    "X_test = preproc(test, cols_to_drop=['user_id', 'timestamp'])\n",
    "\n",
    "X_train.head()"
   ]
  },
  {
   "cell_type": "markdown",
   "metadata": {},
   "source": [
    "# First try"
   ]
  },
  {
   "cell_type": "code",
   "execution_count": 34,
   "metadata": {
    "ExecuteTime": {
     "end_time": "2020-08-05T05:12:32.249907Z",
     "start_time": "2020-08-05T05:12:32.245939Z"
    }
   },
   "outputs": [],
   "source": [
    "from scipy.sparse import csr_matrix\n",
    "\n",
    "from lightfm import LightFM\n",
    "from lightfm.evaluation import precision_at_k"
   ]
  },
  {
   "cell_type": "code",
   "execution_count": 35,
   "metadata": {
    "ExecuteTime": {
     "end_time": "2020-08-05T05:12:33.894958Z",
     "start_time": "2020-08-05T05:12:33.877571Z"
    }
   },
   "outputs": [],
   "source": [
    "from sklearn.preprocessing import StandardScaler\n",
    "\n",
    "scaler = StandardScaler()\n",
    "df_item_np = csr_matrix(scaler.fit_transform(df_item.iloc[:, 1:]))\n",
    "\n",
    "df_user_np = csr_matrix(df_user.iloc[:, [1]].values)\n",
    "\n",
    "y_np = y.map({0:-1, 1:1}).values\n",
    "\n",
    "data_csr = csr_matrix((y_np, (train['user_id'] , train['item_id'])))"
   ]
  },
  {
   "cell_type": "code",
   "execution_count": 7,
   "metadata": {
    "ExecuteTime": {
     "end_time": "2020-08-04T14:58:18.400642Z",
     "start_time": "2020-08-04T14:58:18.355804Z"
    }
   },
   "outputs": [],
   "source": [
    "from sklearn.metrics.pairwise import linear_kernel\n",
    "\n",
    "# Compute the cosine similarity matrix\n",
    "item_sim = linear_kernel(df_item_np, df_item_np)\n",
    "item_sim = csr_matrix(item_sim)"
   ]
  },
  {
   "cell_type": "code",
   "execution_count": 8,
   "metadata": {
    "ExecuteTime": {
     "end_time": "2020-08-04T14:58:20.138407Z",
     "start_time": "2020-08-04T14:58:20.135929Z"
    }
   },
   "outputs": [],
   "source": [
    "model = LightFM(no_components=30, loss='warp')"
   ]
  },
  {
   "cell_type": "code",
   "execution_count": 171,
   "metadata": {
    "ExecuteTime": {
     "end_time": "2020-08-03T16:33:34.120359Z",
     "start_time": "2020-08-03T16:33:32.447804Z"
    }
   },
   "outputs": [
    {
     "name": "stdout",
     "output_type": "stream",
     "text": [
      "0.08209256\n"
     ]
    }
   ],
   "source": [
    "# 0.08118712\n",
    "\n",
    "model = LightFM(no_components=30, loss='warp', random_state=11)\n",
    "model.fit(data_csr,\n",
    "          user_features=df_user_np,\n",
    "          item_features=df_item_np,\n",
    "          epochs=20)\n",
    "\n",
    "train_precision = precision_at_k(model, data_csr, user_features=df_user_np, item_features=df_item_np, k=20).mean()\n",
    "\n",
    "print(train_precision)"
   ]
  },
  {
   "cell_type": "code",
   "execution_count": 170,
   "metadata": {
    "ExecuteTime": {
     "end_time": "2020-08-03T16:33:17.903033Z",
     "start_time": "2020-08-03T16:33:16.196639Z"
    }
   },
   "outputs": [
    {
     "name": "stdout",
     "output_type": "stream",
     "text": [
      "0.07605634\n"
     ]
    }
   ],
   "source": [
    "# 0.02\n",
    "\n",
    "model = LightFM(no_components=30, loss='warp', random_state=11)\n",
    "model.fit(data_csr,\n",
    "          item_features=df_item_np,\n",
    "          epochs=20)\n",
    "\n",
    "train_precision = precision_at_k(model, data_csr, item_features=df_item_np, k=20).mean()\n",
    "\n",
    "print(train_precision)"
   ]
  },
  {
   "cell_type": "code",
   "execution_count": 167,
   "metadata": {
    "ExecuteTime": {
     "end_time": "2020-08-03T16:32:14.046796Z",
     "start_time": "2020-08-03T16:32:13.630850Z"
    }
   },
   "outputs": [
    {
     "name": "stdout",
     "output_type": "stream",
     "text": [
      "0.10150906\n"
     ]
    }
   ],
   "source": [
    "model = LightFM(no_components=60, loss='warp', random_state=11)\n",
    "model.fit(data_csr,\n",
    "          user_features=df_user_np,\n",
    "          epochs=20)\n",
    "\n",
    "train_precision = precision_at_k(model, data_csr, user_features=df_user_np, k=20).mean()\n",
    "\n",
    "print(train_precision)"
   ]
  },
  {
   "cell_type": "code",
   "execution_count": 9,
   "metadata": {
    "ExecuteTime": {
     "end_time": "2020-08-04T14:58:23.716998Z",
     "start_time": "2020-08-04T14:58:22.945693Z"
    }
   },
   "outputs": [
    {
     "name": "stdout",
     "output_type": "stream",
     "text": [
      "0.22072434\n"
     ]
    }
   ],
   "source": [
    "model = LightFM(no_components=60, loss='warp', random_state=11, max_sampled=250)\n",
    "model.fit(data_csr,\n",
    "          epochs=20)\n",
    "\n",
    "train_precision = precision_at_k(model, data_csr, k=20).mean()\n",
    "\n",
    "print(train_precision)"
   ]
  },
  {
   "cell_type": "code",
   "execution_count": 25,
   "metadata": {
    "ExecuteTime": {
     "end_time": "2020-08-04T15:04:04.802241Z",
     "start_time": "2020-08-04T15:04:03.945442Z"
    },
    "code_folding": []
   },
   "outputs": [],
   "source": [
    "def sample_recommendation(model, user_ids, k=20):\n",
    "    n_users, n_items = data_csr.shape\n",
    "    items = np.arange(n_items)\n",
    "    answers = list()\n",
    "\n",
    "    for user_id in user_ids:\n",
    "        scores = model.predict(user_id, items)\n",
    "        top_items = items[np.argsort(-scores)]\n",
    "        \n",
    "        former_ids = train.loc[train['user_id']==user_id, 'item_id'].tolist()\n",
    "        top_filter = [item for item in top_items if item not in former_ids]\n",
    "        answers.append(top_filter[:k])\n",
    "    return np.array(answers)\n",
    "\n",
    "pred = sample_recommendation(model, test.iloc[:, 0].to_list())"
   ]
  },
  {
   "cell_type": "code",
   "execution_count": 26,
   "metadata": {
    "ExecuteTime": {
     "end_time": "2020-08-04T15:04:04.807202Z",
     "start_time": "2020-08-04T15:04:04.803731Z"
    }
   },
   "outputs": [],
   "source": [
    "subm.iloc[:, 1:] = pred"
   ]
  },
  {
   "cell_type": "code",
   "execution_count": 27,
   "metadata": {
    "ExecuteTime": {
     "end_time": "2020-08-04T15:04:04.886765Z",
     "start_time": "2020-08-04T15:04:04.872381Z"
    }
   },
   "outputs": [
    {
     "data": {
      "text/html": [
       "<div>\n",
       "<style scoped>\n",
       "    .dataframe tbody tr th:only-of-type {\n",
       "        vertical-align: middle;\n",
       "    }\n",
       "\n",
       "    .dataframe tbody tr th {\n",
       "        vertical-align: top;\n",
       "    }\n",
       "\n",
       "    .dataframe thead th {\n",
       "        text-align: right;\n",
       "    }\n",
       "</style>\n",
       "<table border=\"1\" class=\"dataframe\">\n",
       "  <thead>\n",
       "    <tr style=\"text-align: right;\">\n",
       "      <th></th>\n",
       "      <th>user_id</th>\n",
       "      <th>0</th>\n",
       "      <th>1</th>\n",
       "      <th>2</th>\n",
       "      <th>3</th>\n",
       "      <th>4</th>\n",
       "      <th>5</th>\n",
       "      <th>6</th>\n",
       "      <th>7</th>\n",
       "      <th>8</th>\n",
       "      <th>...</th>\n",
       "      <th>10</th>\n",
       "      <th>11</th>\n",
       "      <th>12</th>\n",
       "      <th>13</th>\n",
       "      <th>14</th>\n",
       "      <th>15</th>\n",
       "      <th>16</th>\n",
       "      <th>17</th>\n",
       "      <th>18</th>\n",
       "      <th>19</th>\n",
       "    </tr>\n",
       "  </thead>\n",
       "  <tbody>\n",
       "    <tr>\n",
       "      <th>0</th>\n",
       "      <td>166</td>\n",
       "      <td>17</td>\n",
       "      <td>36</td>\n",
       "      <td>35</td>\n",
       "      <td>155</td>\n",
       "      <td>37</td>\n",
       "      <td>95</td>\n",
       "      <td>7</td>\n",
       "      <td>30</td>\n",
       "      <td>72</td>\n",
       "      <td>...</td>\n",
       "      <td>76</td>\n",
       "      <td>70</td>\n",
       "      <td>137</td>\n",
       "      <td>39</td>\n",
       "      <td>65</td>\n",
       "      <td>66</td>\n",
       "      <td>20</td>\n",
       "      <td>75</td>\n",
       "      <td>44</td>\n",
       "      <td>128</td>\n",
       "    </tr>\n",
       "    <tr>\n",
       "      <th>1</th>\n",
       "      <td>26</td>\n",
       "      <td>27</td>\n",
       "      <td>26</td>\n",
       "      <td>15</td>\n",
       "      <td>141</td>\n",
       "      <td>0</td>\n",
       "      <td>111</td>\n",
       "      <td>52</td>\n",
       "      <td>200</td>\n",
       "      <td>72</td>\n",
       "      <td>...</td>\n",
       "      <td>202</td>\n",
       "      <td>140</td>\n",
       "      <td>98</td>\n",
       "      <td>125</td>\n",
       "      <td>25</td>\n",
       "      <td>103</td>\n",
       "      <td>129</td>\n",
       "      <td>50</td>\n",
       "      <td>89</td>\n",
       "      <td>20</td>\n",
       "    </tr>\n",
       "    <tr>\n",
       "      <th>2</th>\n",
       "      <td>41</td>\n",
       "      <td>72</td>\n",
       "      <td>30</td>\n",
       "      <td>44</td>\n",
       "      <td>35</td>\n",
       "      <td>67</td>\n",
       "      <td>11</td>\n",
       "      <td>78</td>\n",
       "      <td>18</td>\n",
       "      <td>76</td>\n",
       "      <td>...</td>\n",
       "      <td>80</td>\n",
       "      <td>26</td>\n",
       "      <td>159</td>\n",
       "      <td>99</td>\n",
       "      <td>65</td>\n",
       "      <td>63</td>\n",
       "      <td>1</td>\n",
       "      <td>138</td>\n",
       "      <td>88</td>\n",
       "      <td>5</td>\n",
       "    </tr>\n",
       "    <tr>\n",
       "      <th>3</th>\n",
       "      <td>286</td>\n",
       "      <td>119</td>\n",
       "      <td>58</td>\n",
       "      <td>78</td>\n",
       "      <td>60</td>\n",
       "      <td>71</td>\n",
       "      <td>33</td>\n",
       "      <td>146</td>\n",
       "      <td>76</td>\n",
       "      <td>59</td>\n",
       "      <td>...</td>\n",
       "      <td>11</td>\n",
       "      <td>88</td>\n",
       "      <td>5</td>\n",
       "      <td>66</td>\n",
       "      <td>37</td>\n",
       "      <td>41</td>\n",
       "      <td>39</td>\n",
       "      <td>35</td>\n",
       "      <td>80</td>\n",
       "      <td>90</td>\n",
       "    </tr>\n",
       "    <tr>\n",
       "      <th>4</th>\n",
       "      <td>108</td>\n",
       "      <td>32</td>\n",
       "      <td>66</td>\n",
       "      <td>70</td>\n",
       "      <td>17</td>\n",
       "      <td>76</td>\n",
       "      <td>58</td>\n",
       "      <td>150</td>\n",
       "      <td>37</td>\n",
       "      <td>155</td>\n",
       "      <td>...</td>\n",
       "      <td>63</td>\n",
       "      <td>78</td>\n",
       "      <td>146</td>\n",
       "      <td>113</td>\n",
       "      <td>147</td>\n",
       "      <td>22</td>\n",
       "      <td>40</td>\n",
       "      <td>33</td>\n",
       "      <td>59</td>\n",
       "      <td>36</td>\n",
       "    </tr>\n",
       "  </tbody>\n",
       "</table>\n",
       "<p>5 rows × 21 columns</p>\n",
       "</div>"
      ],
      "text/plain": [
       "   user_id    0   1   2    3   4    5    6    7    8  ...   10   11   12   13  \\\n",
       "0      166   17  36  35  155  37   95    7   30   72  ...   76   70  137   39   \n",
       "1       26   27  26  15  141   0  111   52  200   72  ...  202  140   98  125   \n",
       "2       41   72  30  44   35  67   11   78   18   76  ...   80   26  159   99   \n",
       "3      286  119  58  78   60  71   33  146   76   59  ...   11   88    5   66   \n",
       "4      108   32  66  70   17  76   58  150   37  155  ...   63   78  146  113   \n",
       "\n",
       "    14   15   16   17  18   19  \n",
       "0   65   66   20   75  44  128  \n",
       "1   25  103  129   50  89   20  \n",
       "2   65   63    1  138  88    5  \n",
       "3   37   41   39   35  80   90  \n",
       "4  147   22   40   33  59   36  \n",
       "\n",
       "[5 rows x 21 columns]"
      ]
     },
     "execution_count": 27,
     "metadata": {},
     "output_type": "execute_result"
    }
   ],
   "source": [
    "subm.head()"
   ]
  },
  {
   "cell_type": "code",
   "execution_count": 28,
   "metadata": {
    "ExecuteTime": {
     "end_time": "2020-08-04T15:04:29.870359Z",
     "start_time": "2020-08-04T15:04:29.860910Z"
    }
   },
   "outputs": [],
   "source": [
    "subm.to_csv('input/subm003.csv', index=None)"
   ]
  },
  {
   "cell_type": "code",
   "execution_count": null,
   "metadata": {},
   "outputs": [],
   "source": []
  }
 ],
 "metadata": {
  "kernelspec": {
   "display_name": "Python 3",
   "language": "python",
   "name": "python3"
  },
  "language_info": {
   "codemirror_mode": {
    "name": "ipython",
    "version": 3
   },
   "file_extension": ".py",
   "mimetype": "text/x-python",
   "name": "python",
   "nbconvert_exporter": "python",
   "pygments_lexer": "ipython3",
   "version": "3.7.3"
  }
 },
 "nbformat": 4,
 "nbformat_minor": 2
}
