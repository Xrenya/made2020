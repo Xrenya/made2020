{
 "cells": [
  {
   "cell_type": "code",
   "execution_count": 1,
   "metadata": {
    "ExecuteTime": {
     "end_time": "2020-08-05T05:14:25.036534Z",
     "start_time": "2020-08-05T05:14:24.128852Z"
    }
   },
   "outputs": [],
   "source": [
    "import pandas as pd\n",
    "import numpy as np\n",
    "\n",
    "%matplotlib inline\n",
    "import matplotlib.pyplot as plt\n",
    "import seaborn as sns"
   ]
  },
  {
   "cell_type": "code",
   "execution_count": 2,
   "metadata": {
    "ExecuteTime": {
     "end_time": "2020-08-05T05:14:25.072463Z",
     "start_time": "2020-08-05T05:14:25.038027Z"
    }
   },
   "outputs": [],
   "source": [
    "train = pd.read_csv('input/train.csv')\n",
    "test = pd.read_csv('input/test.csv')\n",
    "df_item = pd.read_csv('input/item-features.csv')\n",
    "df_user = pd.read_csv('input/user-features.csv')\n",
    "subm = pd.read_csv('input/sample-submission.csv')"
   ]
  },
  {
   "cell_type": "code",
   "execution_count": 3,
   "metadata": {
    "ExecuteTime": {
     "end_time": "2020-08-05T05:14:25.079882Z",
     "start_time": "2020-08-05T05:14:25.073900Z"
    }
   },
   "outputs": [],
   "source": [
    "df_item = df_item.drop(columns=['19','27','30','9'])\n",
    "df_item = df_item.sort_values('item_id').reset_index(drop=True)\n",
    "\n",
    "df_user = df_user.iloc[:, :2]\n",
    "df_user = df_user.sort_values('user_id').reset_index(drop=True)"
   ]
  },
  {
   "cell_type": "markdown",
   "metadata": {},
   "source": [
    "# First try"
   ]
  },
  {
   "cell_type": "code",
   "execution_count": 4,
   "metadata": {
    "ExecuteTime": {
     "end_time": "2020-08-05T05:14:25.628661Z",
     "start_time": "2020-08-05T05:14:25.606806Z"
    }
   },
   "outputs": [
    {
     "name": "stderr",
     "output_type": "stream",
     "text": [
      "C:\\Users\\SakaevRF\\AppData\\Local\\Continuum\\anaconda3\\lib\\site-packages\\lightfm\\_lightfm_fast.py:9: UserWarning: LightFM was compiled without OpenMP support. Only a single thread will be used.\n",
      "  warnings.warn('LightFM was compiled without OpenMP support. '\n"
     ]
    }
   ],
   "source": [
    "from scipy.sparse import csr_matrix\n",
    "\n",
    "from lightfm import LightFM\n",
    "from lightfm.evaluation import precision_at_k"
   ]
  },
  {
   "cell_type": "code",
   "execution_count": 6,
   "metadata": {
    "ExecuteTime": {
     "end_time": "2020-08-05T05:16:30.835064Z",
     "start_time": "2020-08-05T05:16:30.825117Z"
    }
   },
   "outputs": [],
   "source": [
    "from sklearn.preprocessing import StandardScaler\n",
    "\n",
    "scaler = StandardScaler()\n",
    "df_item_np = csr_matrix(scaler.fit_transform(df_item.iloc[:, 1:]))\n",
    "\n",
    "df_user_np = csr_matrix(df_user.iloc[:, [1]].values)\n",
    "\n",
    "y_np = train['like'].values\n",
    "\n",
    "data_csr = csr_matrix((y_np, (train['user_id'] , train['item_id'])))"
   ]
  },
  {
   "cell_type": "code",
   "execution_count": 33,
   "metadata": {
    "ExecuteTime": {
     "end_time": "2020-08-05T05:20:10.188823Z",
     "start_time": "2020-08-05T05:20:10.183891Z"
    }
   },
   "outputs": [],
   "source": [
    "NUM_THREADS = 4\n",
    "NUM_COMPONENTS = 60\n",
    "NUM_EPOCHS = 30\n",
    "ITEM_ALPHA = 1e-3\n",
    "USER_ALPHA = 3e-5\n",
    "MAX_SAMPLED = 10\n",
    "LR = 0.03\n",
    "\n",
    "model = LightFM(loss='warp', user_alpha=USER_ALPHA, item_alpha=ITEM_ALPHA, max_sampled=MAX_SAMPLED,\n",
    "                no_components=NUM_COMPONENTS, learning_rate=LR, random_state=50)"
   ]
  },
  {
   "cell_type": "code",
   "execution_count": 38,
   "metadata": {
    "ExecuteTime": {
     "end_time": "2020-08-05T05:20:38.544900Z",
     "start_time": "2020-08-05T05:20:33.810060Z"
    }
   },
   "outputs": [
    {
     "name": "stdout",
     "output_type": "stream",
     "text": [
      "0.1279678\n"
     ]
    }
   ],
   "source": [
    "model.fit(data_csr,\n",
    "          user_features=df_user_np,\n",
    "          item_features=df_item_np,\n",
    "          epochs=NUM_EPOCHS)\n",
    "\n",
    "train_precision = precision_at_k(model, data_csr, user_features=df_user_np, item_features=df_item_np, k=5).mean()\n",
    "\n",
    "print(train_precision)"
   ]
  },
  {
   "cell_type": "code",
   "execution_count": 37,
   "metadata": {
    "ExecuteTime": {
     "end_time": "2020-08-05T05:20:33.808599Z",
     "start_time": "2020-08-05T05:20:29.136255Z"
    }
   },
   "outputs": [
    {
     "name": "stdout",
     "output_type": "stream",
     "text": [
      "0.122736424\n"
     ]
    }
   ],
   "source": [
    "model.fit(data_csr,\n",
    "          item_features=df_item_np,\n",
    "          epochs=NUM_EPOCHS)\n",
    "\n",
    "train_precision = precision_at_k(model, data_csr, item_features=df_item_np, k=5).mean()\n",
    "print(train_precision)"
   ]
  },
  {
   "cell_type": "code",
   "execution_count": 69,
   "metadata": {
    "ExecuteTime": {
     "end_time": "2020-08-05T05:28:04.408457Z",
     "start_time": "2020-08-05T05:28:03.715519Z"
    }
   },
   "outputs": [
    {
     "name": "stdout",
     "output_type": "stream",
     "text": [
      "0.14768614\n"
     ]
    }
   ],
   "source": [
    "model.fit(data_csr,\n",
    "          user_features=df_user_np,\n",
    "          epochs=NUM_EPOCHS)\n",
    "\n",
    "train_precision = precision_at_k(model, data_csr, user_features=df_user_np, k=5).mean()\n",
    "\n",
    "print(train_precision)"
   ]
  },
  {
   "cell_type": "code",
   "execution_count": 40,
   "metadata": {
    "ExecuteTime": {
     "end_time": "2020-08-05T05:20:55.239528Z",
     "start_time": "2020-08-05T05:20:54.810951Z"
    }
   },
   "outputs": [
    {
     "name": "stdout",
     "output_type": "stream",
     "text": [
      "0.44587526\n"
     ]
    }
   ],
   "source": [
    "model.fit(data_csr,\n",
    "          epochs=NUM_EPOCHS)\n",
    "\n",
    "train_precision = precision_at_k(model, data_csr, k=5).mean()\n",
    "\n",
    "print(train_precision)"
   ]
  },
  {
   "cell_type": "code",
   "execution_count": 70,
   "metadata": {
    "ExecuteTime": {
     "end_time": "2020-08-05T05:28:09.288135Z",
     "start_time": "2020-08-05T05:28:09.282181Z"
    }
   },
   "outputs": [],
   "source": [
    "def get_ynew():\n",
    "    def test_func(x, n, b, c):\n",
    "        return np.power(x, n) * b + c * x\n",
    "    max_id = train[train['like'] == 1].groupby('user_id')['item_id'].max().rolling(40, min_periods=1).max()\n",
    "    params = [ 0.524498,   14.42004787, -0.33037808]\n",
    "    user_ids = np.array(range(len(max_id)))\n",
    "    ynew = test_func(user_ids, params[0], params[1], params[2])\n",
    "    return ynew.round() + 21"
   ]
  },
  {
   "cell_type": "code",
   "execution_count": 72,
   "metadata": {
    "ExecuteTime": {
     "end_time": "2020-08-05T05:28:48.118063Z",
     "start_time": "2020-08-05T05:28:46.885391Z"
    },
    "code_folding": []
   },
   "outputs": [],
   "source": [
    "def sample_recommendation(model, user_ids, k=20):\n",
    "    n_users, n_items = data_csr.shape\n",
    "    items = np.arange(n_items)\n",
    "    answers = list()\n",
    "    ynew = get_ynew()\n",
    "\n",
    "    for user_id in user_ids:\n",
    "#         scores = model.predict(user_id, items)\n",
    "        scores = model.predict(user_id, items, user_features=df_user_np)\n",
    "        top_items = items[np.argsort(-scores)]\n",
    "        \n",
    "        former_ids = train.loc[train['user_id']==user_id, 'item_id'].tolist()\n",
    "        top_items = [item for item in top_items if item not in former_ids]\n",
    "        top_items = [item for item in top_items if item < ynew[user_id]]\n",
    "        answers.append(top_items[:k])\n",
    "    return np.array(answers)\n",
    "\n",
    "\n",
    "pred = sample_recommendation(model, test.iloc[:, 0].to_list())"
   ]
  },
  {
   "cell_type": "code",
   "execution_count": 73,
   "metadata": {
    "ExecuteTime": {
     "end_time": "2020-08-05T05:28:48.711417Z",
     "start_time": "2020-08-05T05:28:48.707916Z"
    }
   },
   "outputs": [],
   "source": [
    "assert min([len(k) for k in pred]) == 20"
   ]
  },
  {
   "cell_type": "code",
   "execution_count": 74,
   "metadata": {
    "ExecuteTime": {
     "end_time": "2020-08-05T05:28:50.661817Z",
     "start_time": "2020-08-05T05:28:50.658811Z"
    }
   },
   "outputs": [],
   "source": [
    "subm.iloc[:, 1:] = pred"
   ]
  },
  {
   "cell_type": "code",
   "execution_count": 66,
   "metadata": {
    "ExecuteTime": {
     "end_time": "2020-08-05T05:27:14.463487Z",
     "start_time": "2020-08-05T05:27:14.448081Z"
    }
   },
   "outputs": [
    {
     "data": {
      "text/html": [
       "<div>\n",
       "<style scoped>\n",
       "    .dataframe tbody tr th:only-of-type {\n",
       "        vertical-align: middle;\n",
       "    }\n",
       "\n",
       "    .dataframe tbody tr th {\n",
       "        vertical-align: top;\n",
       "    }\n",
       "\n",
       "    .dataframe thead th {\n",
       "        text-align: right;\n",
       "    }\n",
       "</style>\n",
       "<table border=\"1\" class=\"dataframe\">\n",
       "  <thead>\n",
       "    <tr style=\"text-align: right;\">\n",
       "      <th></th>\n",
       "      <th>user_id</th>\n",
       "      <th>0</th>\n",
       "      <th>1</th>\n",
       "      <th>2</th>\n",
       "      <th>3</th>\n",
       "      <th>4</th>\n",
       "      <th>5</th>\n",
       "      <th>6</th>\n",
       "      <th>7</th>\n",
       "      <th>8</th>\n",
       "      <th>...</th>\n",
       "      <th>10</th>\n",
       "      <th>11</th>\n",
       "      <th>12</th>\n",
       "      <th>13</th>\n",
       "      <th>14</th>\n",
       "      <th>15</th>\n",
       "      <th>16</th>\n",
       "      <th>17</th>\n",
       "      <th>18</th>\n",
       "      <th>19</th>\n",
       "    </tr>\n",
       "  </thead>\n",
       "  <tbody>\n",
       "    <tr>\n",
       "      <th>0</th>\n",
       "      <td>166</td>\n",
       "      <td>35</td>\n",
       "      <td>37</td>\n",
       "      <td>22</td>\n",
       "      <td>65</td>\n",
       "      <td>17</td>\n",
       "      <td>36</td>\n",
       "      <td>80</td>\n",
       "      <td>155</td>\n",
       "      <td>72</td>\n",
       "      <td>...</td>\n",
       "      <td>40</td>\n",
       "      <td>63</td>\n",
       "      <td>66</td>\n",
       "      <td>76</td>\n",
       "      <td>33</td>\n",
       "      <td>21</td>\n",
       "      <td>58</td>\n",
       "      <td>60</td>\n",
       "      <td>95</td>\n",
       "      <td>32</td>\n",
       "    </tr>\n",
       "    <tr>\n",
       "      <th>1</th>\n",
       "      <td>26</td>\n",
       "      <td>26</td>\n",
       "      <td>27</td>\n",
       "      <td>50</td>\n",
       "      <td>15</td>\n",
       "      <td>49</td>\n",
       "      <td>2</td>\n",
       "      <td>73</td>\n",
       "      <td>52</td>\n",
       "      <td>30</td>\n",
       "      <td>...</td>\n",
       "      <td>0</td>\n",
       "      <td>25</td>\n",
       "      <td>28</td>\n",
       "      <td>6</td>\n",
       "      <td>79</td>\n",
       "      <td>18</td>\n",
       "      <td>23</td>\n",
       "      <td>89</td>\n",
       "      <td>29</td>\n",
       "      <td>72</td>\n",
       "    </tr>\n",
       "    <tr>\n",
       "      <th>2</th>\n",
       "      <td>41</td>\n",
       "      <td>22</td>\n",
       "      <td>72</td>\n",
       "      <td>58</td>\n",
       "      <td>5</td>\n",
       "      <td>44</td>\n",
       "      <td>88</td>\n",
       "      <td>80</td>\n",
       "      <td>43</td>\n",
       "      <td>19</td>\n",
       "      <td>...</td>\n",
       "      <td>76</td>\n",
       "      <td>11</td>\n",
       "      <td>30</td>\n",
       "      <td>99</td>\n",
       "      <td>78</td>\n",
       "      <td>35</td>\n",
       "      <td>2</td>\n",
       "      <td>18</td>\n",
       "      <td>65</td>\n",
       "      <td>20</td>\n",
       "    </tr>\n",
       "    <tr>\n",
       "      <th>3</th>\n",
       "      <td>286</td>\n",
       "      <td>35</td>\n",
       "      <td>72</td>\n",
       "      <td>22</td>\n",
       "      <td>37</td>\n",
       "      <td>66</td>\n",
       "      <td>58</td>\n",
       "      <td>76</td>\n",
       "      <td>80</td>\n",
       "      <td>65</td>\n",
       "      <td>...</td>\n",
       "      <td>78</td>\n",
       "      <td>11</td>\n",
       "      <td>67</td>\n",
       "      <td>119</td>\n",
       "      <td>36</td>\n",
       "      <td>146</td>\n",
       "      <td>63</td>\n",
       "      <td>17</td>\n",
       "      <td>59</td>\n",
       "      <td>60</td>\n",
       "    </tr>\n",
       "    <tr>\n",
       "      <th>4</th>\n",
       "      <td>108</td>\n",
       "      <td>35</td>\n",
       "      <td>22</td>\n",
       "      <td>32</td>\n",
       "      <td>70</td>\n",
       "      <td>80</td>\n",
       "      <td>17</td>\n",
       "      <td>58</td>\n",
       "      <td>76</td>\n",
       "      <td>72</td>\n",
       "      <td>...</td>\n",
       "      <td>66</td>\n",
       "      <td>78</td>\n",
       "      <td>141</td>\n",
       "      <td>37</td>\n",
       "      <td>136</td>\n",
       "      <td>21</td>\n",
       "      <td>40</td>\n",
       "      <td>33</td>\n",
       "      <td>30</td>\n",
       "      <td>34</td>\n",
       "    </tr>\n",
       "  </tbody>\n",
       "</table>\n",
       "<p>5 rows × 21 columns</p>\n",
       "</div>"
      ],
      "text/plain": [
       "   user_id   0   1   2   3   4   5   6    7   8  ...  10  11   12   13   14  \\\n",
       "0      166  35  37  22  65  17  36  80  155  72  ...  40  63   66   76   33   \n",
       "1       26  26  27  50  15  49   2  73   52  30  ...   0  25   28    6   79   \n",
       "2       41  22  72  58   5  44  88  80   43  19  ...  76  11   30   99   78   \n",
       "3      286  35  72  22  37  66  58  76   80  65  ...  78  11   67  119   36   \n",
       "4      108  35  22  32  70  80  17  58   76  72  ...  66  78  141   37  136   \n",
       "\n",
       "    15  16  17  18  19  \n",
       "0   21  58  60  95  32  \n",
       "1   18  23  89  29  72  \n",
       "2   35   2  18  65  20  \n",
       "3  146  63  17  59  60  \n",
       "4   21  40  33  30  34  \n",
       "\n",
       "[5 rows x 21 columns]"
      ]
     },
     "execution_count": 66,
     "metadata": {},
     "output_type": "execute_result"
    }
   ],
   "source": [
    "subm.head()"
   ]
  },
  {
   "cell_type": "code",
   "execution_count": 76,
   "metadata": {
    "ExecuteTime": {
     "end_time": "2020-08-05T05:29:05.965154Z",
     "start_time": "2020-08-05T05:29:05.957712Z"
    }
   },
   "outputs": [],
   "source": [
    "subm.to_csv('input/subm007.csv', index=None)"
   ]
  },
  {
   "cell_type": "code",
   "execution_count": null,
   "metadata": {},
   "outputs": [],
   "source": []
  }
 ],
 "metadata": {
  "kernelspec": {
   "display_name": "Python 3",
   "language": "python",
   "name": "python3"
  },
  "language_info": {
   "codemirror_mode": {
    "name": "ipython",
    "version": 3
   },
   "file_extension": ".py",
   "mimetype": "text/x-python",
   "name": "python",
   "nbconvert_exporter": "python",
   "pygments_lexer": "ipython3",
   "version": "3.7.3"
  }
 },
 "nbformat": 4,
 "nbformat_minor": 2
}
