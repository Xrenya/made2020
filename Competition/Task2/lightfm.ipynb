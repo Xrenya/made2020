{
 "cells": [
  {
   "cell_type": "code",
   "execution_count": 1,
   "metadata": {
    "ExecuteTime": {
     "end_time": "2020-08-04T12:59:47.257512Z",
     "start_time": "2020-08-04T12:59:47.168616Z"
    }
   },
   "outputs": [],
   "source": [
    "import os\n",
    "import zipfile\n",
    "import csv\n",
    "\n",
    "import requests\n",
    "\n",
    "\n",
    "def _download(url: str, dest_path: str):\n",
    "\n",
    "    req = requests.get(url, stream=True)\n",
    "    req.raise_for_status()\n",
    "\n",
    "    with open(dest_path, \"wb\") as fd:\n",
    "        for chunk in req.iter_content(chunk_size=2 ** 20):\n",
    "            fd.write(chunk)\n",
    "\n",
    "\n",
    "def get_data():\n",
    "\n",
    "    ratings_url = (\"http://www2.informatik.uni-freiburg.de/\" \"~cziegler/BX/BX-CSV-Dump.zip\")\n",
    "\n",
    "    if not os.path.exists(\"data\"):\n",
    "        os.makedirs(\"data\")\n",
    "\n",
    "        _download(ratings_url, \"data/data.zip\")\n",
    "\n",
    "    with zipfile.ZipFile(\"data/data.zip\") as archive:\n",
    "        return (\n",
    "            csv.DictReader(\n",
    "                (x.decode(\"utf-8\", \"ignore\") for x in archive.open(\"BX-Book-Ratings.csv\")),\n",
    "                delimiter=\";\",\n",
    "            ),\n",
    "            csv.DictReader(\n",
    "                (x.decode(\"utf-8\", \"ignore\") for x in archive.open(\"BX-Books.csv\")), delimiter=\";\"\n",
    "            ),\n",
    "        )\n",
    "\n",
    "\n",
    "def get_ratings():\n",
    "\n",
    "    return get_data()[0]\n",
    "\n",
    "\n",
    "def get_book_features():\n",
    "\n",
    "    return get_data()[1]"
   ]
  },
  {
   "cell_type": "code",
   "execution_count": 2,
   "metadata": {
    "ExecuteTime": {
     "end_time": "2020-08-04T12:59:54.915639Z",
     "start_time": "2020-08-04T12:59:52.454126Z"
    }
   },
   "outputs": [],
   "source": [
    "import json\n",
    "from itertools import islice\n",
    "\n",
    "ratings, book_features = get_data()"
   ]
  },
  {
   "cell_type": "code",
   "execution_count": 3,
   "metadata": {
    "ExecuteTime": {
     "end_time": "2020-08-04T12:59:56.989415Z",
     "start_time": "2020-08-04T12:59:56.980488Z"
    }
   },
   "outputs": [
    {
     "name": "stdout",
     "output_type": "stream",
     "text": [
      "{\n",
      "    \"User-ID\": \"276725\",\n",
      "    \"ISBN\": \"034545104X\",\n",
      "    \"Book-Rating\": \"0\"\n",
      "}\n",
      "{\n",
      "    \"User-ID\": \"276726\",\n",
      "    \"ISBN\": \"0155061224\",\n",
      "    \"Book-Rating\": \"5\"\n",
      "}\n"
     ]
    }
   ],
   "source": [
    "for line in islice(ratings, 2):\n",
    "    print(json.dumps(line, indent=4))"
   ]
  },
  {
   "cell_type": "code",
   "execution_count": 4,
   "metadata": {
    "ExecuteTime": {
     "end_time": "2020-08-04T13:00:03.111260Z",
     "start_time": "2020-08-04T13:00:03.106797Z"
    }
   },
   "outputs": [
    {
     "name": "stdout",
     "output_type": "stream",
     "text": [
      "{\n",
      "    \"ISBN\": \"0195153448\",\n",
      "    \"Book-Title\": \"Classical Mythology\",\n",
      "    \"Book-Author\": \"Mark P. O. Morford\",\n",
      "    \"Year-Of-Publication\": \"2002\",\n",
      "    \"Publisher\": \"Oxford University Press\",\n",
      "    \"Image-URL-S\": \"http://images.amazon.com/images/P/0195153448.01.THUMBZZZ.jpg\",\n",
      "    \"Image-URL-M\": \"http://images.amazon.com/images/P/0195153448.01.MZZZZZZZ.jpg\",\n",
      "    \"Image-URL-L\": \"http://images.amazon.com/images/P/0195153448.01.LZZZZZZZ.jpg\"\n",
      "}\n"
     ]
    }
   ],
   "source": [
    "for line in islice(book_features, 1):\n",
    "    print(json.dumps(line, indent=4))"
   ]
  },
  {
   "cell_type": "code",
   "execution_count": 12,
   "metadata": {
    "ExecuteTime": {
     "end_time": "2020-08-04T13:03:50.890254Z",
     "start_time": "2020-08-04T13:03:45.636529Z"
    }
   },
   "outputs": [
    {
     "data": {
      "text/plain": [
       "OrderedDict([('User-ID', '276725'),\n",
       "             ('ISBN', '034545104X'),\n",
       "             ('Book-Rating', '0')])"
      ]
     },
     "execution_count": 12,
     "metadata": {},
     "output_type": "execute_result"
    }
   ],
   "source": [
    "df = [x for x in get_ratings()]\n",
    "df[0]"
   ]
  },
  {
   "cell_type": "code",
   "execution_count": 13,
   "metadata": {
    "ExecuteTime": {
     "end_time": "2020-08-04T13:03:57.897958Z",
     "start_time": "2020-08-04T13:03:55.119837Z"
    }
   },
   "outputs": [
    {
     "data": {
      "text/plain": [
       "OrderedDict([('ISBN', '0195153448'),\n",
       "             ('Book-Title', 'Classical Mythology'),\n",
       "             ('Book-Author', 'Mark P. O. Morford'),\n",
       "             ('Year-Of-Publication', '2002'),\n",
       "             ('Publisher', 'Oxford University Press'),\n",
       "             ('Image-URL-S',\n",
       "              'http://images.amazon.com/images/P/0195153448.01.THUMBZZZ.jpg'),\n",
       "             ('Image-URL-M',\n",
       "              'http://images.amazon.com/images/P/0195153448.01.MZZZZZZZ.jpg'),\n",
       "             ('Image-URL-L',\n",
       "              'http://images.amazon.com/images/P/0195153448.01.LZZZZZZZ.jpg')])"
      ]
     },
     "execution_count": 13,
     "metadata": {},
     "output_type": "execute_result"
    }
   ],
   "source": [
    "df = [x for x in get_book_features()]\n",
    "df[0]"
   ]
  },
  {
   "cell_type": "code",
   "execution_count": 5,
   "metadata": {
    "ExecuteTime": {
     "end_time": "2020-08-04T13:00:21.743283Z",
     "start_time": "2020-08-04T13:00:10.851638Z"
    }
   },
   "outputs": [
    {
     "name": "stderr",
     "output_type": "stream",
     "text": [
      "C:\\Users\\SakaevRF\\AppData\\Local\\Continuum\\anaconda3\\lib\\site-packages\\lightfm\\_lightfm_fast.py:9: UserWarning: LightFM was compiled without OpenMP support. Only a single thread will be used.\n",
      "  warnings.warn('LightFM was compiled without OpenMP support. '\n"
     ]
    }
   ],
   "source": [
    "from lightfm.data import Dataset\n",
    "\n",
    "dataset = Dataset()\n",
    "dataset.fit((x['User-ID'] for x in get_ratings()),\n",
    "            (x['ISBN'] for x in get_ratings()))"
   ]
  },
  {
   "cell_type": "code",
   "execution_count": 16,
   "metadata": {
    "ExecuteTime": {
     "end_time": "2020-08-04T13:05:14.385901Z",
     "start_time": "2020-08-04T13:05:09.171273Z"
    }
   },
   "outputs": [],
   "source": [
    "dataset.fit_partial(items=(x['ISBN'] for x in get_book_features()),\n",
    "                    item_features=(x['Book-Author'] for x in get_book_features()))"
   ]
  },
  {
   "cell_type": "code",
   "execution_count": 11,
   "metadata": {
    "ExecuteTime": {
     "end_time": "2020-08-04T13:01:45.813219Z",
     "start_time": "2020-08-04T13:01:45.809725Z"
    }
   },
   "outputs": [
    {
     "name": "stdout",
     "output_type": "stream",
     "text": [
      "Num users: 105283, num_items 340553.\n"
     ]
    }
   ],
   "source": [
    "num_users, num_items = dataset.interactions_shape()\n",
    "print('Num users: {}, num_items {}.'.format(num_users, num_items))"
   ]
  },
  {
   "cell_type": "code",
   "execution_count": 14,
   "metadata": {
    "ExecuteTime": {
     "end_time": "2020-08-04T13:04:39.479832Z",
     "start_time": "2020-08-04T13:04:32.340790Z"
    }
   },
   "outputs": [],
   "source": [
    "(interactions, weights) = dataset.build_interactions(((x['User-ID'], x['ISBN'])\n",
    "                                                      for x in get_ratings()))"
   ]
  },
  {
   "cell_type": "code",
   "execution_count": 17,
   "metadata": {
    "ExecuteTime": {
     "end_time": "2020-08-04T13:05:25.009421Z",
     "start_time": "2020-08-04T13:05:21.371281Z"
    }
   },
   "outputs": [
    {
     "name": "stdout",
     "output_type": "stream",
     "text": [
      "<341762x443805 sparse matrix of type '<class 'numpy.float32'>'\n",
      "\twith 613141 stored elements in Compressed Sparse Row format>\n"
     ]
    }
   ],
   "source": [
    "item_features = dataset.build_item_features(((x['ISBN'], [x['Book-Author']])\n",
    "                                              for x in get_book_features()))\n",
    "print(repr(item_features))"
   ]
  },
  {
   "cell_type": "code",
   "execution_count": 22,
   "metadata": {
    "ExecuteTime": {
     "end_time": "2020-08-04T13:08:52.838240Z",
     "start_time": "2020-08-04T13:08:52.765312Z"
    }
   },
   "outputs": [
    {
     "data": {
      "text/plain": [
       "271379"
      ]
     },
     "execution_count": 22,
     "metadata": {},
     "output_type": "execute_result"
    }
   ],
   "source": [
    "len(set([x['ISBN'] for x in df]))"
   ]
  },
  {
   "cell_type": "markdown",
   "metadata": {},
   "source": [
    "# ARRRRRR"
   ]
  },
  {
   "cell_type": "code",
   "execution_count": 23,
   "metadata": {
    "ExecuteTime": {
     "end_time": "2020-08-04T13:18:26.527088Z",
     "start_time": "2020-08-04T13:18:24.532208Z"
    }
   },
   "outputs": [],
   "source": [
    "import numpy as np\n",
    "\n",
    "from lightfm.datasets import fetch_stackexchange\n",
    "\n",
    "data = fetch_stackexchange('crossvalidated',\n",
    "                           test_set_fraction=0.1,\n",
    "                           indicator_features=False,\n",
    "                           tag_features=True)\n",
    "\n",
    "train = data['train']\n",
    "test = data['test']"
   ]
  },
  {
   "cell_type": "code",
   "execution_count": 24,
   "metadata": {
    "ExecuteTime": {
     "end_time": "2020-08-04T13:18:32.947499Z",
     "start_time": "2020-08-04T13:18:32.943531Z"
    }
   },
   "outputs": [],
   "source": [
    "item_features = data['item_features']\n",
    "tag_labels = data['item_feature_labels']"
   ]
  },
  {
   "cell_type": "code",
   "execution_count": 28,
   "metadata": {
    "ExecuteTime": {
     "end_time": "2020-08-04T13:19:14.003322Z",
     "start_time": "2020-08-04T13:19:13.998363Z"
    }
   },
   "outputs": [
    {
     "data": {
      "text/plain": [
       "((3221, 72360), (3221, 72360), (72360, 1246), (1246,))"
      ]
     },
     "execution_count": 28,
     "metadata": {},
     "output_type": "execute_result"
    }
   ],
   "source": [
    "train.shape, test.shape, item_features.shape, tag_labels.shape"
   ]
  },
  {
   "cell_type": "code",
   "execution_count": 36,
   "metadata": {
    "ExecuteTime": {
     "end_time": "2020-08-04T13:20:44.348697Z",
     "start_time": "2020-08-04T13:20:42.004603Z"
    }
   },
   "outputs": [
    {
     "data": {
      "text/plain": [
       "array([0., 1.], dtype=float32)"
      ]
     },
     "execution_count": 36,
     "metadata": {},
     "output_type": "execute_result"
    }
   ],
   "source": [
    "itf = item_features.toarray()\n",
    "np.unique(itf)"
   ]
  },
  {
   "cell_type": "code",
   "execution_count": 40,
   "metadata": {
    "ExecuteTime": {
     "end_time": "2020-08-04T13:22:26.117630Z",
     "start_time": "2020-08-04T13:22:19.709810Z"
    }
   },
   "outputs": [
    {
     "data": {
      "text/plain": [
       "array([0., 1., 2., 3., 4., 5., 6., 8.], dtype=float32)"
      ]
     },
     "execution_count": 40,
     "metadata": {},
     "output_type": "execute_result"
    }
   ],
   "source": [
    "tden = train.toarray()\n",
    "np.unique(tden)"
   ]
  },
  {
   "cell_type": "code",
   "execution_count": 42,
   "metadata": {
    "ExecuteTime": {
     "end_time": "2020-08-04T13:23:06.641768Z",
     "start_time": "2020-08-04T13:23:04.661242Z"
    }
   },
   "outputs": [],
   "source": [
    "from lightfm import LightFM\n",
    "\n",
    "NUM_THREADS = 2\n",
    "NUM_COMPONENTS = 30\n",
    "NUM_EPOCHS = 3\n",
    "ITEM_ALPHA = 1e-6\n",
    "\n",
    "# Define a new model instance\n",
    "model = LightFM(loss='warp',\n",
    "                item_alpha=ITEM_ALPHA,\n",
    "                no_components=NUM_COMPONENTS)\n",
    "\n",
    "# Fit the hybrid model. Note that this time, we pass\n",
    "# in the item features matrix.\n",
    "model = model.fit(train,\n",
    "                item_features=item_features,\n",
    "                epochs=NUM_EPOCHS,\n",
    "                num_threads=NUM_THREADS)"
   ]
  },
  {
   "cell_type": "code",
   "execution_count": 44,
   "metadata": {
    "ExecuteTime": {
     "end_time": "2020-08-04T13:23:39.629305Z",
     "start_time": "2020-08-04T13:23:39.625337Z"
    }
   },
   "outputs": [],
   "source": [
    "from lightfm.evaluation import auc_score"
   ]
  },
  {
   "cell_type": "code",
   "execution_count": 45,
   "metadata": {
    "ExecuteTime": {
     "end_time": "2020-08-04T13:24:10.964737Z",
     "start_time": "2020-08-04T13:23:39.799074Z"
    }
   },
   "outputs": [
    {
     "name": "stdout",
     "output_type": "stream",
     "text": [
      "Hybrid training set AUC: 0.85741806\n"
     ]
    }
   ],
   "source": [
    "# Don't forget the pass in the item features again!\n",
    "train_auc = auc_score(model,\n",
    "                      train,\n",
    "                      item_features=item_features,\n",
    "                      num_threads=NUM_THREADS).mean()\n",
    "print('Hybrid training set AUC: %s' % train_auc)"
   ]
  },
  {
   "cell_type": "code",
   "execution_count": 47,
   "metadata": {
    "ExecuteTime": {
     "end_time": "2020-08-04T13:27:48.159611Z",
     "start_time": "2020-08-04T13:27:42.822158Z"
    }
   },
   "outputs": [
    {
     "name": "stdout",
     "output_type": "stream",
     "text": [
      "Hybrid test set AUC: 0.71975696\n"
     ]
    }
   ],
   "source": [
    "test_auc = auc_score(model,\n",
    "                    test,\n",
    "                    train_interactions=train,\n",
    "                    item_features=item_features,\n",
    "                    num_threads=NUM_THREADS, check_intersections=False).mean()\n",
    "print('Hybrid test set AUC: %s' % test_auc)"
   ]
  },
  {
   "cell_type": "markdown",
   "metadata": {},
   "source": [
    "# MYTASK"
   ]
  },
  {
   "cell_type": "code",
   "execution_count": 48,
   "metadata": {
    "ExecuteTime": {
     "end_time": "2020-08-04T13:29:14.354449Z",
     "start_time": "2020-08-04T13:29:13.741148Z"
    }
   },
   "outputs": [],
   "source": [
    "import pandas as pd\n",
    "import numpy as np\n",
    "\n",
    "%matplotlib inline\n",
    "import matplotlib.pyplot as plt\n",
    "import seaborn as sns"
   ]
  },
  {
   "cell_type": "code",
   "execution_count": 52,
   "metadata": {
    "ExecuteTime": {
     "end_time": "2020-08-04T13:31:46.334945Z",
     "start_time": "2020-08-04T13:31:46.329491Z"
    }
   },
   "outputs": [],
   "source": [
    "from scipy.sparse import csr_matrix\n",
    "\n",
    "from lightfm.cross_validation import random_train_test_split\n",
    "from lightfm import LightFM\n",
    "from lightfm.evaluation import precision_at_k"
   ]
  },
  {
   "cell_type": "code",
   "execution_count": 49,
   "metadata": {
    "ExecuteTime": {
     "end_time": "2020-08-04T13:29:21.123048Z",
     "start_time": "2020-08-04T13:29:21.088796Z"
    }
   },
   "outputs": [],
   "source": [
    "train = pd.read_csv('input/train.csv')\n",
    "test = pd.read_csv('input/test.csv')\n",
    "df_item = pd.read_csv('input/item-features.csv')\n",
    "df_user = pd.read_csv('input/user-features.csv')\n",
    "subm = pd.read_csv('input/sample-submission.csv')"
   ]
  },
  {
   "cell_type": "code",
   "execution_count": 50,
   "metadata": {
    "ExecuteTime": {
     "end_time": "2020-08-04T13:29:25.991965Z",
     "start_time": "2020-08-04T13:29:25.985020Z"
    }
   },
   "outputs": [],
   "source": [
    "df_item = df_item.drop(columns=['19','27','30','9'])\n",
    "df_item = df_item.sort_values('item_id').reset_index(drop=True)\n",
    "\n",
    "df_user = df_user.iloc[:, :2]\n",
    "df_user = df_user.sort_values('user_id').reset_index(drop=True)"
   ]
  },
  {
   "cell_type": "code",
   "execution_count": 648,
   "metadata": {
    "ExecuteTime": {
     "end_time": "2020-08-05T05:14:01.885430Z",
     "start_time": "2020-08-05T05:14:01.876007Z"
    }
   },
   "outputs": [
    {
     "data": {
      "text/plain": [
       "(497, 444)"
      ]
     },
     "execution_count": 648,
     "metadata": {},
     "output_type": "execute_result"
    }
   ],
   "source": [
    "interactions = csr_matrix((train['like'].map({0:-1, 1:1}).values, (train['user_id'] , train['item_id'])))\n",
    "interactions.shape"
   ]
  },
  {
   "cell_type": "code",
   "execution_count": 135,
   "metadata": {
    "ExecuteTime": {
     "end_time": "2020-08-04T13:45:32.629560Z",
     "start_time": "2020-08-04T13:45:32.625095Z"
    }
   },
   "outputs": [],
   "source": [
    "train_inter, test_inter = random_train_test_split(interactions, test_percentage=0.2, \n",
    "                                                  random_state=np.random.RandomState(11))"
   ]
  },
  {
   "cell_type": "code",
   "execution_count": 593,
   "metadata": {
    "ExecuteTime": {
     "end_time": "2020-08-05T04:59:48.328066Z",
     "start_time": "2020-08-05T04:59:48.321122Z"
    }
   },
   "outputs": [
    {
     "data": {
      "text/plain": [
       "(444, 28)"
      ]
     },
     "execution_count": 593,
     "metadata": {},
     "output_type": "execute_result"
    }
   ],
   "source": [
    "item_features = csr_matrix((df_item.iloc[:, 1:]))\n",
    "item_features.shape"
   ]
  },
  {
   "cell_type": "code",
   "execution_count": 597,
   "metadata": {
    "ExecuteTime": {
     "end_time": "2020-08-05T05:01:27.804909Z",
     "start_time": "2020-08-05T05:01:27.800418Z"
    }
   },
   "outputs": [
    {
     "data": {
      "text/plain": [
       "(497, 1)"
      ]
     },
     "execution_count": 597,
     "metadata": {},
     "output_type": "execute_result"
    }
   ],
   "source": [
    "user_features = csr_matrix((df_user.iloc[:, [1]]))\n",
    "user_features.shape"
   ]
  },
  {
   "cell_type": "code",
   "execution_count": 598,
   "metadata": {
    "ExecuteTime": {
     "end_time": "2020-08-05T05:01:30.719204Z",
     "start_time": "2020-08-05T05:01:30.708788Z"
    }
   },
   "outputs": [
    {
     "name": "stderr",
     "output_type": "stream",
     "text": [
      "C:\\Users\\SakaevRF\\AppData\\Local\\Continuum\\anaconda3\\lib\\site-packages\\sklearn\\preprocessing\\data.py:334: DataConversionWarning: Data with input dtype int64 were all converted to float64 by MinMaxScaler.\n",
      "  return self.partial_fit(X, y)\n"
     ]
    }
   ],
   "source": [
    "from sklearn.preprocessing import MinMaxScaler\n",
    "\n",
    "user_features = csr_matrix(MinMaxScaler().fit_transform(df_user.iloc[:, [0]]))"
   ]
  },
  {
   "cell_type": "code",
   "execution_count": 589,
   "metadata": {
    "ExecuteTime": {
     "end_time": "2020-08-05T04:57:28.135097Z",
     "start_time": "2020-08-05T04:57:27.855328Z"
    }
   },
   "outputs": [],
   "source": [
    "NUM_THREADS = 4\n",
    "NUM_COMPONENTS = 60\n",
    "NUM_EPOCHS = 30\n",
    "ITEM_ALPHA = 1e-3\n",
    "USER_ALPHA = 1e-5\n",
    "\n",
    "# Define a new model instance\n",
    "model = LightFM(loss='warp',\n",
    "                user_alpha=USER_ALPHA,\n",
    "                item_alpha=ITEM_ALPHA,\n",
    "                no_components=NUM_COMPONENTS, random_state=50)\n",
    "\n",
    "# Fit the hybrid model. Note that this time, we pass\n",
    "# in the item features matrix.\n",
    "model = model.fit(interactions,\n",
    "#                 user_features=user_features,\n",
    "#                 item_features=item_features,\n",
    "                epochs=NUM_EPOCHS,\n",
    "                num_threads=NUM_THREADS)"
   ]
  },
  {
   "cell_type": "code",
   "execution_count": 590,
   "metadata": {
    "ExecuteTime": {
     "end_time": "2020-08-05T04:57:28.228841Z",
     "start_time": "2020-08-05T04:57:28.182190Z"
    }
   },
   "outputs": [
    {
     "name": "stdout",
     "output_type": "stream",
     "text": [
      "Hybrid precision_at_k: 0.5103957\n"
     ]
    }
   ],
   "source": [
    "# Don't forget the pass in the item features again!\n",
    "train_score = precision_at_k(model,\n",
    "                          train_inter,\n",
    "#                           user_features=user_features,\n",
    "#                           item_features=item_features,\n",
    "                          num_threads=NUM_THREADS, k=3).mean()\n",
    "print('Hybrid precision_at_k: %s' % train_score)  # 0.16307846"
   ]
  },
  {
   "cell_type": "code",
   "execution_count": 591,
   "metadata": {
    "ExecuteTime": {
     "end_time": "2020-08-05T04:57:29.125506Z",
     "start_time": "2020-08-05T04:57:29.084835Z"
    }
   },
   "outputs": [
    {
     "name": "stdout",
     "output_type": "stream",
     "text": [
      "Hybrid precision_at_k: 0.21813224\n"
     ]
    }
   ],
   "source": [
    "# Don't forget the pass in the item features again!\n",
    "val_score = precision_at_k(model,\n",
    "                           test_inter,\n",
    "                           train_interactions=train_inter,\n",
    "#                            user_features=user_features,\n",
    "#                            item_features=item_features,\n",
    "                           num_threads=NUM_THREADS, k=3).mean()\n",
    "print('Hybrid precision_at_k: %s' % val_score)  # 0.049079753"
   ]
  },
  {
   "cell_type": "code",
   "execution_count": 649,
   "metadata": {
    "ExecuteTime": {
     "end_time": "2020-08-05T05:15:16.792546Z",
     "start_time": "2020-08-05T05:15:16.784088Z"
    }
   },
   "outputs": [],
   "source": [
    "# item_features = csr_matrix((df_item.iloc[:, 1:]))\n",
    "# item_features.shape\n",
    "\n",
    "from sklearn.preprocessing import StandardScaler\n",
    "\n",
    "scaler = StandardScaler()\n",
    "item_features = csr_matrix(scaler.fit_transform(df_item.iloc[:, 1:]))"
   ]
  },
  {
   "cell_type": "code",
   "execution_count": 651,
   "metadata": {
    "ExecuteTime": {
     "end_time": "2020-08-05T05:19:23.000762Z",
     "start_time": "2020-08-05T05:19:19.548107Z"
    }
   },
   "outputs": [
    {
     "name": "stdout",
     "output_type": "stream",
     "text": [
      "Hybrid precision_at_k: 0.05200963\n"
     ]
    }
   ],
   "source": [
    "NUM_THREADS = 4\n",
    "NUM_COMPONENTS = 60\n",
    "NUM_EPOCHS = 30\n",
    "ITEM_ALPHA = 1e-3\n",
    "USER_ALPHA = 3e-5\n",
    "MAX_SAMPLED = 10\n",
    "\n",
    "res_score = []\n",
    "for i in range(10):\n",
    "    train_inter, test_inter = random_train_test_split(interactions, test_percentage=0.2, \n",
    "                                                      random_state=np.random.RandomState(i))\n",
    "    \n",
    "    model = LightFM(loss='warp', user_alpha=USER_ALPHA, item_alpha=ITEM_ALPHA, max_sampled=MAX_SAMPLED,\n",
    "                    no_components=NUM_COMPONENTS, random_state=50, learning_rate=0.03)\n",
    "\n",
    "    model = model.fit(train_inter,\n",
    "#                       user_features=user_features,\n",
    "#                       item_features=item_features,\n",
    "                      epochs=NUM_EPOCHS,\n",
    "                      num_threads=NUM_THREADS)\n",
    "    \n",
    "    val_score = precision_at_k(model,\n",
    "                               test_inter,\n",
    "                               train_interactions=train_inter,\n",
    "#                                user_features=user_features,\n",
    "#                                item_features=item_features,\n",
    "                               num_threads=NUM_THREADS, k=3).mean()\n",
    "    res_score.append(val_score)\n",
    "print('Hybrid precision_at_k: %s' % np.mean(res_score))"
   ]
  },
  {
   "cell_type": "markdown",
   "metadata": {},
   "source": [
    "NUM_THREADS = 4\n",
    "NUM_COMPONENTS = 60\n",
    "NUM_EPOCHS = 30\n",
    "ITEM_ALPHA = 1e-3\n",
    "USER_ALPHA = 3e-5\n",
    "MAX_SAMPLED = 10\n",
    "Hybrid precision_at_k: 0.05200963\n",
    "\n",
    "+ user_feat 1\n",
    "Hybrid precision_at_k: 0.0427072\n",
    "\n",
    "+ user_feat 0\n",
    "Hybrid precision_at_k: 0.045940086\n",
    "\n",
    "+ item_feat\n",
    "Hybrid precision_at_k: 0.030538598"
   ]
  },
  {
   "cell_type": "code",
   "execution_count": null,
   "metadata": {},
   "outputs": [],
   "source": []
  }
 ],
 "metadata": {
  "kernelspec": {
   "display_name": "Python 3",
   "language": "python",
   "name": "python3"
  },
  "language_info": {
   "codemirror_mode": {
    "name": "ipython",
    "version": 3
   },
   "file_extension": ".py",
   "mimetype": "text/x-python",
   "name": "python",
   "nbconvert_exporter": "python",
   "pygments_lexer": "ipython3",
   "version": "3.7.3"
  }
 },
 "nbformat": 4,
 "nbformat_minor": 2
}
