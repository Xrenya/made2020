{
 "cells": [
  {
   "cell_type": "code",
   "execution_count": 1,
   "metadata": {
    "ExecuteTime": {
     "end_time": "2020-08-04T11:16:13.537727Z",
     "start_time": "2020-08-04T11:16:12.034849Z"
    }
   },
   "outputs": [],
   "source": [
    "import pandas as pd\n",
    "import numpy as np\n",
    "\n",
    "%matplotlib inline\n",
    "import matplotlib.pyplot as plt\n",
    "import seaborn as sns"
   ]
  },
  {
   "cell_type": "code",
   "execution_count": 78,
   "metadata": {
    "ExecuteTime": {
     "end_time": "2020-08-04T12:02:31.663568Z",
     "start_time": "2020-08-04T12:02:31.626865Z"
    }
   },
   "outputs": [],
   "source": [
    "train = pd.read_csv('input/train.csv')\n",
    "test = pd.read_csv('input/test.csv')\n",
    "df_item = pd.read_csv('input/item-features.csv')\n",
    "df_user = pd.read_csv('input/user-features.csv')\n",
    "subm = pd.read_csv('input/sample-submission.csv')"
   ]
  },
  {
   "cell_type": "code",
   "execution_count": 79,
   "metadata": {
    "ExecuteTime": {
     "end_time": "2020-08-04T12:02:31.817573Z",
     "start_time": "2020-08-04T12:02:31.810114Z"
    }
   },
   "outputs": [],
   "source": [
    "df_item = df_item.drop(columns=['19','27','30','9'])\n",
    "df_item = df_item.sort_values('item_id').reset_index(drop=True)\n",
    "\n",
    "df_user = df_user.iloc[:, :3]\n",
    "df_user = df_user.sort_values('user_id').reset_index(drop=True)"
   ]
  },
  {
   "cell_type": "code",
   "execution_count": 80,
   "metadata": {
    "ExecuteTime": {
     "end_time": "2020-08-04T12:02:31.994244Z",
     "start_time": "2020-08-04T12:02:31.986826Z"
    }
   },
   "outputs": [
    {
     "data": {
      "text/html": [
       "<div>\n",
       "<style scoped>\n",
       "    .dataframe tbody tr th:only-of-type {\n",
       "        vertical-align: middle;\n",
       "    }\n",
       "\n",
       "    .dataframe tbody tr th {\n",
       "        vertical-align: top;\n",
       "    }\n",
       "\n",
       "    .dataframe thead th {\n",
       "        text-align: right;\n",
       "    }\n",
       "</style>\n",
       "<table border=\"1\" class=\"dataframe\">\n",
       "  <thead>\n",
       "    <tr style=\"text-align: right;\">\n",
       "      <th></th>\n",
       "      <th>user_id</th>\n",
       "      <th>item_id</th>\n",
       "      <th>like</th>\n",
       "      <th>timestamp</th>\n",
       "    </tr>\n",
       "  </thead>\n",
       "  <tbody>\n",
       "    <tr>\n",
       "      <th>0</th>\n",
       "      <td>140</td>\n",
       "      <td>342</td>\n",
       "      <td>0</td>\n",
       "      <td>1490936622</td>\n",
       "    </tr>\n",
       "    <tr>\n",
       "      <th>1</th>\n",
       "      <td>378</td>\n",
       "      <td>172</td>\n",
       "      <td>1</td>\n",
       "      <td>1490936628</td>\n",
       "    </tr>\n",
       "    <tr>\n",
       "      <th>2</th>\n",
       "      <td>150</td>\n",
       "      <td>182</td>\n",
       "      <td>0</td>\n",
       "      <td>1490936650</td>\n",
       "    </tr>\n",
       "    <tr>\n",
       "      <th>3</th>\n",
       "      <td>455</td>\n",
       "      <td>17</td>\n",
       "      <td>0</td>\n",
       "      <td>1490936704</td>\n",
       "    </tr>\n",
       "    <tr>\n",
       "      <th>4</th>\n",
       "      <td>350</td>\n",
       "      <td>409</td>\n",
       "      <td>0</td>\n",
       "      <td>1490936735</td>\n",
       "    </tr>\n",
       "  </tbody>\n",
       "</table>\n",
       "</div>"
      ],
      "text/plain": [
       "   user_id  item_id  like   timestamp\n",
       "0      140      342     0  1490936622\n",
       "1      378      172     1  1490936628\n",
       "2      150      182     0  1490936650\n",
       "3      455       17     0  1490936704\n",
       "4      350      409     0  1490936735"
      ]
     },
     "execution_count": 80,
     "metadata": {},
     "output_type": "execute_result"
    }
   ],
   "source": [
    "train.head()"
   ]
  },
  {
   "cell_type": "code",
   "execution_count": 81,
   "metadata": {
    "ExecuteTime": {
     "end_time": "2020-08-04T12:02:32.169237Z",
     "start_time": "2020-08-04T12:02:32.158844Z"
    }
   },
   "outputs": [
    {
     "data": {
      "text/plain": [
       "((497, 2), (444, 28), (497, 444))"
      ]
     },
     "execution_count": 81,
     "metadata": {},
     "output_type": "execute_result"
    }
   ],
   "source": [
    "from scipy.sparse import csr_matrix\n",
    "\n",
    "df_user_np = df_user.iloc[:, 1:]\n",
    "df_item_np = df_item.iloc[:, 1:]\n",
    "\n",
    "y = train['like'].map({0: -1, 1:1}).to_numpy()\n",
    "X_train = train.drop(columns=['like'])\n",
    "\n",
    "data_csr = csr_matrix((y, (X_train['user_id'] , X_train['item_id'])))\n",
    "df_user_np.shape, df_item_np.shape, data_csr.shape"
   ]
  },
  {
   "cell_type": "code",
   "execution_count": 82,
   "metadata": {
    "ExecuteTime": {
     "end_time": "2020-08-04T12:02:32.329969Z",
     "start_time": "2020-08-04T12:02:32.324535Z"
    }
   },
   "outputs": [
    {
     "data": {
      "text/plain": [
       "(0, 1, -1)"
      ]
     },
     "execution_count": 82,
     "metadata": {},
     "output_type": "execute_result"
    }
   ],
   "source": [
    "data_csr[0, 0], data_csr[378, 172], data_csr[140, 342]"
   ]
  },
  {
   "cell_type": "code",
   "execution_count": 83,
   "metadata": {
    "ExecuteTime": {
     "end_time": "2020-08-04T12:02:33.062351Z",
     "start_time": "2020-08-04T12:02:33.050448Z"
    }
   },
   "outputs": [
    {
     "data": {
      "text/plain": [
       "((497, 497), (444, 444))"
      ]
     },
     "execution_count": 83,
     "metadata": {},
     "output_type": "execute_result"
    }
   ],
   "source": [
    "from  sklearn.metrics.pairwise import pairwise_distances\n",
    "\n",
    "# считаем косинусное расстояние для пользователей и фильмов \n",
    "# (построчно и поколоночно соотвественно).\n",
    "user_similarity = pairwise_distances(df_user_np, metric='cosine')\n",
    "item_similarity = pairwise_distances(df_item_np, metric='cosine')\n",
    "user_similarity.shape, item_similarity.shape"
   ]
  },
  {
   "cell_type": "markdown",
   "metadata": {},
   "source": [
    "# Article\n",
    "https://makesomecode.me/2018/09/movie-recommendation-system/"
   ]
  },
  {
   "cell_type": "code",
   "execution_count": 19,
   "metadata": {
    "ExecuteTime": {
     "end_time": "2020-08-04T11:51:16.275440Z",
     "start_time": "2020-08-04T11:51:16.270983Z"
    }
   },
   "outputs": [],
   "source": [
    "from sklearn.metrics import mean_squared_error\n",
    "from math import sqrt\n",
    "\n",
    "def rmse(prediction, ground_truth):\n",
    "    # Оставим оценки, предсказанные алгоритмом, только для соотвествующего набора данных\n",
    "    prediction = np.nan_to_num(prediction)[ground_truth.nonzero()].flatten()\n",
    "    # Оставим оценки, которые реально поставил пользователь, только для соотвествующего набора данных\n",
    "    ground_truth = np.nan_to_num(ground_truth)[ground_truth.nonzero()].flatten()\n",
    "    \n",
    "    mse = mean_squared_error(prediction, ground_truth)\n",
    "    return sqrt(mse)"
   ]
  },
  {
   "cell_type": "code",
   "execution_count": 92,
   "metadata": {
    "ExecuteTime": {
     "end_time": "2020-08-04T12:04:08.723272Z",
     "start_time": "2020-08-04T12:04:08.717792Z"
    }
   },
   "outputs": [],
   "source": [
    "n_users = 497\n",
    "n_movies = 444\n",
    "\n",
    "train_data_matrix = data_csr.toarray()\n",
    "test_data_matrix = data_csr.toarray()"
   ]
  },
  {
   "cell_type": "code",
   "execution_count": 94,
   "metadata": {
    "ExecuteTime": {
     "end_time": "2020-08-04T12:04:27.274502Z",
     "start_time": "2020-08-04T12:04:27.018261Z"
    }
   },
   "outputs": [
    {
     "name": "stderr",
     "output_type": "stream",
     "text": [
      "C:\\Users\\SakaevRF\\AppData\\Local\\Continuum\\anaconda3\\lib\\site-packages\\ipykernel_launcher.py:23: RuntimeWarning: invalid value encountered in true_divide\n"
     ]
    },
    {
     "name": "stdout",
     "output_type": "stream",
     "text": [
      "User-based CF RMSE:  1.0067670573752832\n"
     ]
    },
    {
     "name": "stderr",
     "output_type": "stream",
     "text": [
      "C:\\Users\\SakaevRF\\AppData\\Local\\Continuum\\anaconda3\\lib\\site-packages\\ipykernel_launcher.py:49: RuntimeWarning: Mean of empty slice.\n",
      "C:\\Users\\SakaevRF\\AppData\\Local\\Continuum\\anaconda3\\lib\\site-packages\\numpy\\core\\_methods.py:85: RuntimeWarning: invalid value encountered in double_scalars\n",
      "  ret = ret.dtype.type(ret / rcount)\n"
     ]
    },
    {
     "name": "stdout",
     "output_type": "stream",
     "text": [
      "Item-based CF RMSE:  1.4781127029402863\n"
     ]
    }
   ],
   "source": [
    "def k_fract_mean_predict(top):\n",
    "    top_similar = np.zeros((n_users, top))\n",
    "    \n",
    "    for i in range(n_users):\n",
    "        user_sim = user_similarity[i]\n",
    "        top_sim_users = user_sim.argsort()[1:top + 1]\n",
    "\n",
    "        for j in range(top):\n",
    "            top_similar[i, j] = top_sim_users[j]\n",
    "            \n",
    "    abs_sim = np.abs(user_similarity)\n",
    "    pred = np.zeros((n_users, n_movies))\n",
    "    \n",
    "    for i in range(n_users):\n",
    "        indexes = top_similar[i].astype(np.int)\n",
    "        numerator = user_similarity[i][indexes]\n",
    "        \n",
    "        mean_rating = np.array([x for x in train_data_matrix[i] if x > 0]).mean()\n",
    "        diff_ratings = train_data_matrix[indexes] - train_data_matrix[indexes].mean()\n",
    "        numerator = numerator.dot(diff_ratings)\n",
    "        denominator = abs_sim[i][top_similar[i].astype(np.int)].sum()\n",
    "        \n",
    "        pred[i] = mean_rating + numerator / denominator\n",
    "        \n",
    "    return pred\n",
    "\n",
    "def k_fract_mean_predict_item(top):\n",
    "    top_similar = np.zeros((n_movies, top))\n",
    "    \n",
    "    for i in range(n_movies):\n",
    "        movie_sim = item_similarity[i]\n",
    "        top_sim_movies = movie_sim.argsort()[1:top + 1]\n",
    "        \n",
    "        for j in range(top):\n",
    "            top_similar[i, j] = top_sim_movies[j]\n",
    "    \n",
    "    abs_sim = np.abs(item_similarity)\n",
    "    pred = np.zeros((n_movies, n_users))\n",
    "    \n",
    "    for i in range(n_movies):\n",
    "        indexes = top_similar[i].astype(np.int)\n",
    "        numerator = item_similarity[i][indexes]\n",
    "        \n",
    "        diff_ratings = train_data_matrix.T[indexes] - train_data_matrix.T[indexes].mean()\n",
    "        numerator = numerator.dot(diff_ratings)\n",
    "        denominator = abs_sim[i][top_similar[i].astype(np.int)].sum()\n",
    "        denominator = denominator if denominator != 0 else 1\n",
    "        \n",
    "        mean_rating = np.array([x for x in train_data_matrix.T[i] if x > 0]).mean()\n",
    "        mean_rating = 0 if np.isnan(mean_rating) else mean_rating\n",
    "        pred[i] = mean_rating + numerator / denominator\n",
    "                \n",
    "    return pred.T\n",
    "\n",
    "k_predict = k_fract_mean_predict(20)\n",
    "print('User-based CF RMSE: ', rmse(k_predict, test_data_matrix))\n",
    "\n",
    "k_predict_item = k_fract_mean_predict_item(20)\n",
    "print('Item-based CF RMSE: ', rmse(k_predict_item, test_data_matrix))"
   ]
  },
  {
   "cell_type": "markdown",
   "metadata": {},
   "source": [
    "# Surprise"
   ]
  },
  {
   "cell_type": "code",
   "execution_count": 119,
   "metadata": {
    "ExecuteTime": {
     "end_time": "2020-08-04T16:49:55.351333Z",
     "start_time": "2020-08-04T16:49:55.345877Z"
    }
   },
   "outputs": [],
   "source": [
    "from surprise import NormalPredictor, SVD\n",
    "from surprise import Dataset\n",
    "from surprise import Reader\n",
    "from surprise.model_selection import cross_validate\n",
    "\n",
    "from surprise.reader import Reader\n",
    "from surprise.dataset import Dataset\n",
    "from surprise import SVD, SVDpp, SlopeOne, NMF, NormalPredictor\n",
    "from surprise import KNNBaseline, KNNBasic, KNNWithMeans, KNNWithZScore\n",
    "from surprise import BaselineOnly, CoClustering\n",
    "from surprise.model_selection import cross_validate, train_test_split\n",
    "from surprise import accuracy"
   ]
  },
  {
   "cell_type": "code",
   "execution_count": 115,
   "metadata": {
    "ExecuteTime": {
     "end_time": "2020-08-04T16:43:40.472386Z",
     "start_time": "2020-08-04T16:43:40.445134Z"
    }
   },
   "outputs": [
    {
     "data": {
      "text/html": [
       "<div>\n",
       "<style scoped>\n",
       "    .dataframe tbody tr th:only-of-type {\n",
       "        vertical-align: middle;\n",
       "    }\n",
       "\n",
       "    .dataframe tbody tr th {\n",
       "        vertical-align: top;\n",
       "    }\n",
       "\n",
       "    .dataframe thead th {\n",
       "        text-align: right;\n",
       "    }\n",
       "</style>\n",
       "<table border=\"1\" class=\"dataframe\">\n",
       "  <thead>\n",
       "    <tr style=\"text-align: right;\">\n",
       "      <th></th>\n",
       "      <th>user_id</th>\n",
       "      <th>item_id</th>\n",
       "      <th>like</th>\n",
       "      <th>timestamp</th>\n",
       "    </tr>\n",
       "  </thead>\n",
       "  <tbody>\n",
       "    <tr>\n",
       "      <th>0</th>\n",
       "      <td>140</td>\n",
       "      <td>342</td>\n",
       "      <td>0</td>\n",
       "      <td>1490936622</td>\n",
       "    </tr>\n",
       "    <tr>\n",
       "      <th>1</th>\n",
       "      <td>378</td>\n",
       "      <td>172</td>\n",
       "      <td>1</td>\n",
       "      <td>1490936628</td>\n",
       "    </tr>\n",
       "    <tr>\n",
       "      <th>2</th>\n",
       "      <td>150</td>\n",
       "      <td>182</td>\n",
       "      <td>0</td>\n",
       "      <td>1490936650</td>\n",
       "    </tr>\n",
       "    <tr>\n",
       "      <th>3</th>\n",
       "      <td>455</td>\n",
       "      <td>17</td>\n",
       "      <td>0</td>\n",
       "      <td>1490936704</td>\n",
       "    </tr>\n",
       "    <tr>\n",
       "      <th>4</th>\n",
       "      <td>350</td>\n",
       "      <td>409</td>\n",
       "      <td>0</td>\n",
       "      <td>1490936735</td>\n",
       "    </tr>\n",
       "  </tbody>\n",
       "</table>\n",
       "</div>"
      ],
      "text/plain": [
       "   user_id  item_id  like   timestamp\n",
       "0      140      342     0  1490936622\n",
       "1      378      172     1  1490936628\n",
       "2      150      182     0  1490936650\n",
       "3      455       17     0  1490936704\n",
       "4      350      409     0  1490936735"
      ]
     },
     "execution_count": 115,
     "metadata": {},
     "output_type": "execute_result"
    }
   ],
   "source": [
    "train.head()"
   ]
  },
  {
   "cell_type": "code",
   "execution_count": 114,
   "metadata": {
    "ExecuteTime": {
     "end_time": "2020-08-04T12:17:49.407787Z",
     "start_time": "2020-08-04T12:17:47.323073Z"
    }
   },
   "outputs": [
    {
     "data": {
      "text/plain": [
       "{'test_rmse': array([0.28480864, 0.28737401, 0.29640801, 0.28969182, 0.29218496]),\n",
       " 'test_mae': array([0.17720405, 0.17962929, 0.18028459, 0.18070854, 0.1839145 ]),\n",
       " 'fit_time': (0.39881157875061035,\n",
       "  0.3943197727203369,\n",
       "  0.39627623558044434,\n",
       "  0.39580821990966797,\n",
       "  0.39583539962768555),\n",
       " 'test_time': (0.008928060531616211,\n",
       "  0.008928298950195312,\n",
       "  0.009452104568481445,\n",
       "  0.009424448013305664,\n",
       "  0.008930683135986328)}"
      ]
     },
     "execution_count": 114,
     "metadata": {},
     "output_type": "execute_result"
    }
   ],
   "source": [
    "# A reader is still needed but only the rating_scale param is requiered.\n",
    "reader = Reader(rating_scale=(0, 1))\n",
    "\n",
    "# The columns must correspond to user id, item id and ratings (in that order).\n",
    "data = Dataset.load_from_df(train[['user_id', 'item_id', 'like']], reader)\n",
    "\n",
    "# We can now use this dataset as we please, e.g. calling cross_validate\n",
    "cross_validate(SVD(), data, cv=5)"
   ]
  },
  {
   "cell_type": "code",
   "execution_count": null,
   "metadata": {},
   "outputs": [],
   "source": [
    "# [SVD(), SVDpp(), SlopeOne(), NMF(), NormalPredictor(), KNNBaseline(), \n",
    "#                   KNNBasic(), KNNWithMeans(), KNNWithZScore(), BaselineOnly(), CoClustering()]\n",
    "\n",
    "# <class 'surprise.prediction_algorithms.matrix_factorization.SVD'> 0.1825750931054188\n",
    "# <class 'surprise.prediction_algorithms.matrix_factorization.SVDpp'> 0.16760332940541206\n",
    "# <class 'surprise.prediction_algorithms.slope_one.SlopeOne'> 0.15265446170771874\n",
    "# <class 'surprise.prediction_algorithms.random_pred.NormalPredictor'> 0.33987833116682625\n",
    "# <class 'surprise.prediction_algorithms.knns.KNNBaseline'> 0.1297762283632601\n",
    "# <class 'surprise.prediction_algorithms.knns.KNNBasic'> 0.1228509348207455\n",
    "# <class 'surprise.prediction_algorithms.knns.KNNWithMeans'> 0.14724135594053778\n",
    "# <class 'surprise.prediction_algorithms.knns.KNNWithZScore'> 0.14440677662246001\n",
    "# <class 'surprise.prediction_algorithms.baseline_only.BaselineOnly'> 0.1839018552188873\n",
    "# <class 'surprise.prediction_algorithms.co_clustering.CoClustering'> 0.15628048493380628"
   ]
  },
  {
   "cell_type": "code",
   "execution_count": 178,
   "metadata": {
    "ExecuteTime": {
     "end_time": "2020-08-04T17:03:17.948204Z",
     "start_time": "2020-08-04T17:03:02.231796Z"
    }
   },
   "outputs": [
    {
     "name": "stdout",
     "output_type": "stream",
     "text": [
      "<class 'surprise.prediction_algorithms.matrix_factorization.SVD'> 0.1825750931054188\n",
      "<class 'surprise.prediction_algorithms.matrix_factorization.SVDpp'> 0.16760332940541206\n",
      "<class 'surprise.prediction_algorithms.slope_one.SlopeOne'> 0.15265446170771874\n",
      "<class 'surprise.prediction_algorithms.random_pred.NormalPredictor'> 0.33987833116682625\n",
      "<class 'surprise.prediction_algorithms.knns.KNNBaseline'> 0.1297762283632601\n",
      "<class 'surprise.prediction_algorithms.knns.KNNBasic'> 0.1228509348207455\n",
      "<class 'surprise.prediction_algorithms.knns.KNNWithMeans'> 0.14724135594053778\n",
      "<class 'surprise.prediction_algorithms.knns.KNNWithZScore'> 0.14440677662246001\n",
      "<class 'surprise.prediction_algorithms.baseline_only.BaselineOnly'> 0.1839018552188873\n",
      "<class 'surprise.prediction_algorithms.co_clustering.CoClustering'> 0.15628048493380628\n"
     ]
    }
   ],
   "source": [
    "algos = [SVD(), SVDpp(), SlopeOne(), NormalPredictor(), KNNBaseline(verbose=False), KNNBasic(verbose=False), \n",
    "         KNNWithMeans(verbose=False), KNNWithZScore(verbose=False), \n",
    "         BaselineOnly(verbose=False), CoClustering()]\n",
    "\n",
    "for algorithm in algos:\n",
    "    \n",
    "    result = cross_validate(algorithm, data, cv=5)\n",
    "    print(algorithm.__class__, result['test_mae'].mean())"
   ]
  },
  {
   "cell_type": "code",
   "execution_count": 179,
   "metadata": {
    "ExecuteTime": {
     "end_time": "2020-08-04T17:03:47.784821Z",
     "start_time": "2020-08-04T17:03:41.709817Z"
    }
   },
   "outputs": [
    {
     "name": "stdout",
     "output_type": "stream",
     "text": [
      "0.14792045242869906\n"
     ]
    }
   ],
   "source": [
    "# 0.14098334301265458\n",
    "\n",
    "algorithm = SVDpp(n_factors=5, lr_all=0.1, reg_all=0.02)  # , reg_all=0.02\n",
    "\n",
    "result = cross_validate(algorithm, data, cv=5)\n",
    "print(result['test_mae'].mean())"
   ]
  },
  {
   "cell_type": "code",
   "execution_count": 186,
   "metadata": {
    "ExecuteTime": {
     "end_time": "2020-08-04T17:04:48.671357Z",
     "start_time": "2020-08-04T17:04:44.613087Z"
    }
   },
   "outputs": [
    {
     "name": "stdout",
     "output_type": "stream",
     "text": [
      "0.11949606732813518\n"
     ]
    }
   ],
   "source": [
    "# 0.11899593180524995\n",
    "\n",
    "algorithm = KNNBasic(k=7, verbose=False)\n",
    "\n",
    "res_sum = list()\n",
    "for i in range(10):\n",
    "    result = cross_validate(algorithm, data, cv=5)\n",
    "    res_sum.append(result['test_mae'].mean())\n",
    "print(np.mean(res_sum))"
   ]
  },
  {
   "cell_type": "code",
   "execution_count": 212,
   "metadata": {
    "ExecuteTime": {
     "end_time": "2020-08-04T17:15:08.024906Z",
     "start_time": "2020-08-04T17:15:02.919971Z"
    }
   },
   "outputs": [],
   "source": [
    "def get_top_n(predictions, n=10):\n",
    "    \"\"\"Return the top-N recommendation for each user from a set of predictions.\n",
    "\n",
    "    Args:\n",
    "        predictions(list of Prediction objects): The list of predictions, as\n",
    "            returned by the test method of an algorithm.\n",
    "        n(int): The number of recommendation to output for each user. Default\n",
    "            is 10.\n",
    "\n",
    "    Returns:\n",
    "    A dict where keys are user (raw) ids and values are lists of tuples:\n",
    "        [(raw item id, rating estimation), ...] of size n.\n",
    "    \"\"\"\n",
    "\n",
    "    # First map the predictions to each user.\n",
    "    top_n = defaultdict(list)\n",
    "    for uid, iid, true_r, est, _ in predictions:\n",
    "        top_n[uid].append((iid, est))\n",
    "\n",
    "    # Then sort the predictions for each user and retrieve the k highest ones.\n",
    "    for uid, user_ratings in top_n.items():\n",
    "        user_ratings.sort(key=lambda x: x[1], reverse=True)\n",
    "        top_n[uid] = user_ratings[:n]\n",
    "\n",
    "    return top_n\n",
    "\n",
    "\n",
    "algo = KNNBasic(k=7, verbose=False)\n",
    "algo.fit(data.build_full_trainset())\n",
    "\n",
    "# Than predict ratings for all pairs (u, i) that are NOT in the training set.\n",
    "testset = trainset.build_anti_testset()\n",
    "predictions = algo.test(testset)\n",
    "\n",
    "top_n = get_top_n(predictions, n=20)\n",
    "y_pred = pd.DataFrame.from_dict({k: [z[0] for z in v] for k, v in top_n.items()}).T.reset_index()\n",
    "y_pred = y_pred.rename(columns={'index': 'user_id'})\n",
    "\n",
    "# Print the recommended items for each user\n",
    "# for uid, user_ratings in top_n.items():\n",
    "#     print(uid, [iid for (iid, _) in user_ratings])"
   ]
  },
  {
   "cell_type": "code",
   "execution_count": 214,
   "metadata": {
    "ExecuteTime": {
     "end_time": "2020-08-04T17:15:11.876506Z",
     "start_time": "2020-08-04T17:15:11.871050Z"
    },
    "scrolled": true
   },
   "outputs": [
    {
     "data": {
      "text/plain": [
       "(Index(['user_id', '0', '1', '2', '3', '4', '5', '6', '7', '8', '9', '10', '11',\n",
       "        '12', '13', '14', '15', '16', '17', '18', '19'],\n",
       "       dtype='object'),\n",
       " Index(['user_id', 0, 1, 2, 3, 4, 5, 6, 7, 8, 9, 10, 11, 12, 13, 14, 15, 16, 17,\n",
       "        18, 19],\n",
       "       dtype='object'))"
      ]
     },
     "execution_count": 214,
     "metadata": {},
     "output_type": "execute_result"
    }
   ],
   "source": [
    "subm.columns, y_pred.columns"
   ]
  },
  {
   "cell_type": "code",
   "execution_count": 216,
   "metadata": {
    "ExecuteTime": {
     "end_time": "2020-08-04T17:16:17.290727Z",
     "start_time": "2020-08-04T17:16:17.286236Z"
    }
   },
   "outputs": [
    {
     "data": {
      "text/plain": [
       "((497, 21), (497, 21))"
      ]
     },
     "execution_count": 216,
     "metadata": {},
     "output_type": "execute_result"
    }
   ],
   "source": [
    "subm.shape, y_pred.shape"
   ]
  },
  {
   "cell_type": "code",
   "execution_count": 217,
   "metadata": {
    "ExecuteTime": {
     "end_time": "2020-08-04T17:16:28.587368Z",
     "start_time": "2020-08-04T17:16:28.578439Z"
    }
   },
   "outputs": [],
   "source": [
    "subm.iloc[:, 1:] = subm.iloc[:, :1].merge(y_pred, on='user_id').iloc[:, 1:].values"
   ]
  },
  {
   "cell_type": "code",
   "execution_count": 221,
   "metadata": {
    "ExecuteTime": {
     "end_time": "2020-08-04T17:17:08.509572Z",
     "start_time": "2020-08-04T17:17:08.500147Z"
    }
   },
   "outputs": [],
   "source": [
    "subm.to_csv('input/subm004.csv', index=None)"
   ]
  },
  {
   "cell_type": "code",
   "execution_count": 225,
   "metadata": {
    "ExecuteTime": {
     "end_time": "2020-08-04T17:39:02.932407Z",
     "start_time": "2020-08-04T17:39:02.922458Z"
    }
   },
   "outputs": [
    {
     "data": {
      "text/html": [
       "<div>\n",
       "<style scoped>\n",
       "    .dataframe tbody tr th:only-of-type {\n",
       "        vertical-align: middle;\n",
       "    }\n",
       "\n",
       "    .dataframe tbody tr th {\n",
       "        vertical-align: top;\n",
       "    }\n",
       "\n",
       "    .dataframe thead th {\n",
       "        text-align: right;\n",
       "    }\n",
       "</style>\n",
       "<table border=\"1\" class=\"dataframe\">\n",
       "  <thead>\n",
       "    <tr style=\"text-align: right;\">\n",
       "      <th></th>\n",
       "      <th>user_id</th>\n",
       "      <th>item_id</th>\n",
       "      <th>like</th>\n",
       "      <th>timestamp</th>\n",
       "    </tr>\n",
       "  </thead>\n",
       "  <tbody>\n",
       "    <tr>\n",
       "      <th>298</th>\n",
       "      <td>1</td>\n",
       "      <td>54</td>\n",
       "      <td>0</td>\n",
       "      <td>1490945876</td>\n",
       "    </tr>\n",
       "    <tr>\n",
       "      <th>366</th>\n",
       "      <td>1</td>\n",
       "      <td>20</td>\n",
       "      <td>0</td>\n",
       "      <td>1490947707</td>\n",
       "    </tr>\n",
       "    <tr>\n",
       "      <th>1675</th>\n",
       "      <td>1</td>\n",
       "      <td>0</td>\n",
       "      <td>0</td>\n",
       "      <td>1490988759</td>\n",
       "    </tr>\n",
       "    <tr>\n",
       "      <th>2328</th>\n",
       "      <td>1</td>\n",
       "      <td>27</td>\n",
       "      <td>0</td>\n",
       "      <td>1491008981</td>\n",
       "    </tr>\n",
       "    <tr>\n",
       "      <th>2506</th>\n",
       "      <td>1</td>\n",
       "      <td>108</td>\n",
       "      <td>0</td>\n",
       "      <td>1491014450</td>\n",
       "    </tr>\n",
       "    <tr>\n",
       "      <th>3069</th>\n",
       "      <td>1</td>\n",
       "      <td>213</td>\n",
       "      <td>0</td>\n",
       "      <td>1491032049</td>\n",
       "    </tr>\n",
       "    <tr>\n",
       "      <th>3721</th>\n",
       "      <td>1</td>\n",
       "      <td>210</td>\n",
       "      <td>0</td>\n",
       "      <td>1491051735</td>\n",
       "    </tr>\n",
       "    <tr>\n",
       "      <th>4109</th>\n",
       "      <td>1</td>\n",
       "      <td>4</td>\n",
       "      <td>1</td>\n",
       "      <td>1491064028</td>\n",
       "    </tr>\n",
       "    <tr>\n",
       "      <th>4739</th>\n",
       "      <td>1</td>\n",
       "      <td>132</td>\n",
       "      <td>0</td>\n",
       "      <td>1491083480</td>\n",
       "    </tr>\n",
       "    <tr>\n",
       "      <th>5607</th>\n",
       "      <td>1</td>\n",
       "      <td>5</td>\n",
       "      <td>1</td>\n",
       "      <td>1491112270</td>\n",
       "    </tr>\n",
       "    <tr>\n",
       "      <th>5627</th>\n",
       "      <td>1</td>\n",
       "      <td>3</td>\n",
       "      <td>1</td>\n",
       "      <td>1491112954</td>\n",
       "    </tr>\n",
       "    <tr>\n",
       "      <th>5635</th>\n",
       "      <td>1</td>\n",
       "      <td>218</td>\n",
       "      <td>0</td>\n",
       "      <td>1491113281</td>\n",
       "    </tr>\n",
       "    <tr>\n",
       "      <th>5782</th>\n",
       "      <td>1</td>\n",
       "      <td>96</td>\n",
       "      <td>0</td>\n",
       "      <td>1491118112</td>\n",
       "    </tr>\n",
       "    <tr>\n",
       "      <th>6087</th>\n",
       "      <td>1</td>\n",
       "      <td>217</td>\n",
       "      <td>0</td>\n",
       "      <td>1491128031</td>\n",
       "    </tr>\n",
       "    <tr>\n",
       "      <th>7627</th>\n",
       "      <td>1</td>\n",
       "      <td>214</td>\n",
       "      <td>0</td>\n",
       "      <td>1491178010</td>\n",
       "    </tr>\n",
       "    <tr>\n",
       "      <th>8308</th>\n",
       "      <td>1</td>\n",
       "      <td>215</td>\n",
       "      <td>0</td>\n",
       "      <td>1491201390</td>\n",
       "    </tr>\n",
       "    <tr>\n",
       "      <th>8445</th>\n",
       "      <td>1</td>\n",
       "      <td>211</td>\n",
       "      <td>0</td>\n",
       "      <td>1491206499</td>\n",
       "    </tr>\n",
       "    <tr>\n",
       "      <th>8654</th>\n",
       "      <td>1</td>\n",
       "      <td>125</td>\n",
       "      <td>0</td>\n",
       "      <td>1491214948</td>\n",
       "    </tr>\n",
       "  </tbody>\n",
       "</table>\n",
       "</div>"
      ],
      "text/plain": [
       "      user_id  item_id  like   timestamp\n",
       "298         1       54     0  1490945876\n",
       "366         1       20     0  1490947707\n",
       "1675        1        0     0  1490988759\n",
       "2328        1       27     0  1491008981\n",
       "2506        1      108     0  1491014450\n",
       "3069        1      213     0  1491032049\n",
       "3721        1      210     0  1491051735\n",
       "4109        1        4     1  1491064028\n",
       "4739        1      132     0  1491083480\n",
       "5607        1        5     1  1491112270\n",
       "5627        1        3     1  1491112954\n",
       "5635        1      218     0  1491113281\n",
       "5782        1       96     0  1491118112\n",
       "6087        1      217     0  1491128031\n",
       "7627        1      214     0  1491178010\n",
       "8308        1      215     0  1491201390\n",
       "8445        1      211     0  1491206499\n",
       "8654        1      125     0  1491214948"
      ]
     },
     "execution_count": 225,
     "metadata": {},
     "output_type": "execute_result"
    }
   ],
   "source": [
    "train[train.user_id==1]"
   ]
  },
  {
   "cell_type": "code",
   "execution_count": 223,
   "metadata": {
    "ExecuteTime": {
     "end_time": "2020-08-04T17:37:47.094379Z",
     "start_time": "2020-08-04T17:37:47.075063Z"
    }
   },
   "outputs": [
    {
     "data": {
      "text/html": [
       "<div>\n",
       "<style scoped>\n",
       "    .dataframe tbody tr th:only-of-type {\n",
       "        vertical-align: middle;\n",
       "    }\n",
       "\n",
       "    .dataframe tbody tr th {\n",
       "        vertical-align: top;\n",
       "    }\n",
       "\n",
       "    .dataframe thead th {\n",
       "        text-align: right;\n",
       "    }\n",
       "</style>\n",
       "<table border=\"1\" class=\"dataframe\">\n",
       "  <thead>\n",
       "    <tr style=\"text-align: right;\">\n",
       "      <th></th>\n",
       "      <th>user_id</th>\n",
       "      <th>0</th>\n",
       "      <th>1</th>\n",
       "      <th>2</th>\n",
       "      <th>3</th>\n",
       "      <th>4</th>\n",
       "      <th>5</th>\n",
       "      <th>6</th>\n",
       "      <th>7</th>\n",
       "      <th>8</th>\n",
       "      <th>...</th>\n",
       "      <th>10</th>\n",
       "      <th>11</th>\n",
       "      <th>12</th>\n",
       "      <th>13</th>\n",
       "      <th>14</th>\n",
       "      <th>15</th>\n",
       "      <th>16</th>\n",
       "      <th>17</th>\n",
       "      <th>18</th>\n",
       "      <th>19</th>\n",
       "    </tr>\n",
       "  </thead>\n",
       "  <tbody>\n",
       "    <tr>\n",
       "      <th>393</th>\n",
       "      <td>0</td>\n",
       "      <td>95</td>\n",
       "      <td>105</td>\n",
       "      <td>35</td>\n",
       "      <td>80</td>\n",
       "      <td>65</td>\n",
       "      <td>66</td>\n",
       "      <td>22</td>\n",
       "      <td>39</td>\n",
       "      <td>11</td>\n",
       "      <td>...</td>\n",
       "      <td>15</td>\n",
       "      <td>87</td>\n",
       "      <td>7</td>\n",
       "      <td>76</td>\n",
       "      <td>103</td>\n",
       "      <td>19</td>\n",
       "      <td>18</td>\n",
       "      <td>49</td>\n",
       "      <td>136</td>\n",
       "      <td>37</td>\n",
       "    </tr>\n",
       "    <tr>\n",
       "      <th>152</th>\n",
       "      <td>1</td>\n",
       "      <td>105</td>\n",
       "      <td>35</td>\n",
       "      <td>65</td>\n",
       "      <td>22</td>\n",
       "      <td>11</td>\n",
       "      <td>15</td>\n",
       "      <td>102</td>\n",
       "      <td>76</td>\n",
       "      <td>72</td>\n",
       "      <td>...</td>\n",
       "      <td>191</td>\n",
       "      <td>55</td>\n",
       "      <td>145</td>\n",
       "      <td>37</td>\n",
       "      <td>60</td>\n",
       "      <td>110</td>\n",
       "      <td>1</td>\n",
       "      <td>192</td>\n",
       "      <td>142</td>\n",
       "      <td>85</td>\n",
       "    </tr>\n",
       "    <tr>\n",
       "      <th>81</th>\n",
       "      <td>2</td>\n",
       "      <td>30</td>\n",
       "      <td>105</td>\n",
       "      <td>21</td>\n",
       "      <td>23</td>\n",
       "      <td>35</td>\n",
       "      <td>44</td>\n",
       "      <td>182</td>\n",
       "      <td>26</td>\n",
       "      <td>65</td>\n",
       "      <td>...</td>\n",
       "      <td>24</td>\n",
       "      <td>34</td>\n",
       "      <td>50</td>\n",
       "      <td>66</td>\n",
       "      <td>22</td>\n",
       "      <td>39</td>\n",
       "      <td>11</td>\n",
       "      <td>40</td>\n",
       "      <td>45</td>\n",
       "      <td>7</td>\n",
       "    </tr>\n",
       "    <tr>\n",
       "      <th>114</th>\n",
       "      <td>3</td>\n",
       "      <td>105</td>\n",
       "      <td>21</td>\n",
       "      <td>23</td>\n",
       "      <td>35</td>\n",
       "      <td>80</td>\n",
       "      <td>101</td>\n",
       "      <td>65</td>\n",
       "      <td>24</td>\n",
       "      <td>66</td>\n",
       "      <td>...</td>\n",
       "      <td>181</td>\n",
       "      <td>14</td>\n",
       "      <td>40</td>\n",
       "      <td>45</td>\n",
       "      <td>102</td>\n",
       "      <td>7</td>\n",
       "      <td>48</td>\n",
       "      <td>76</td>\n",
       "      <td>75</td>\n",
       "      <td>147</td>\n",
       "    </tr>\n",
       "    <tr>\n",
       "      <th>210</th>\n",
       "      <td>4</td>\n",
       "      <td>105</td>\n",
       "      <td>35</td>\n",
       "      <td>182</td>\n",
       "      <td>24</td>\n",
       "      <td>22</td>\n",
       "      <td>11</td>\n",
       "      <td>64</td>\n",
       "      <td>15</td>\n",
       "      <td>45</td>\n",
       "      <td>...</td>\n",
       "      <td>76</td>\n",
       "      <td>127</td>\n",
       "      <td>72</td>\n",
       "      <td>49</td>\n",
       "      <td>73</td>\n",
       "      <td>37</td>\n",
       "      <td>31</td>\n",
       "      <td>60</td>\n",
       "      <td>110</td>\n",
       "      <td>8</td>\n",
       "    </tr>\n",
       "    <tr>\n",
       "      <th>...</th>\n",
       "      <td>...</td>\n",
       "      <td>...</td>\n",
       "      <td>...</td>\n",
       "      <td>...</td>\n",
       "      <td>...</td>\n",
       "      <td>...</td>\n",
       "      <td>...</td>\n",
       "      <td>...</td>\n",
       "      <td>...</td>\n",
       "      <td>...</td>\n",
       "      <td>...</td>\n",
       "      <td>...</td>\n",
       "      <td>...</td>\n",
       "      <td>...</td>\n",
       "      <td>...</td>\n",
       "      <td>...</td>\n",
       "      <td>...</td>\n",
       "      <td>...</td>\n",
       "      <td>...</td>\n",
       "      <td>...</td>\n",
       "      <td>...</td>\n",
       "    </tr>\n",
       "    <tr>\n",
       "      <th>79</th>\n",
       "      <td>492</td>\n",
       "      <td>35</td>\n",
       "      <td>65</td>\n",
       "      <td>58</td>\n",
       "      <td>24</td>\n",
       "      <td>66</td>\n",
       "      <td>22</td>\n",
       "      <td>15</td>\n",
       "      <td>72</td>\n",
       "      <td>202</td>\n",
       "      <td>...</td>\n",
       "      <td>186</td>\n",
       "      <td>103</td>\n",
       "      <td>19</td>\n",
       "      <td>49</td>\n",
       "      <td>86</td>\n",
       "      <td>167</td>\n",
       "      <td>98</td>\n",
       "      <td>170</td>\n",
       "      <td>136</td>\n",
       "      <td>37</td>\n",
       "    </tr>\n",
       "    <tr>\n",
       "      <th>345</th>\n",
       "      <td>493</td>\n",
       "      <td>35</td>\n",
       "      <td>58</td>\n",
       "      <td>66</td>\n",
       "      <td>22</td>\n",
       "      <td>40</td>\n",
       "      <td>76</td>\n",
       "      <td>72</td>\n",
       "      <td>119</td>\n",
       "      <td>19</td>\n",
       "      <td>...</td>\n",
       "      <td>86</td>\n",
       "      <td>98</td>\n",
       "      <td>37</td>\n",
       "      <td>60</td>\n",
       "      <td>171</td>\n",
       "      <td>110</td>\n",
       "      <td>8</td>\n",
       "      <td>142</td>\n",
       "      <td>199</td>\n",
       "      <td>85</td>\n",
       "    </tr>\n",
       "    <tr>\n",
       "      <th>260</th>\n",
       "      <td>494</td>\n",
       "      <td>35</td>\n",
       "      <td>65</td>\n",
       "      <td>58</td>\n",
       "      <td>24</td>\n",
       "      <td>66</td>\n",
       "      <td>22</td>\n",
       "      <td>15</td>\n",
       "      <td>76</td>\n",
       "      <td>72</td>\n",
       "      <td>...</td>\n",
       "      <td>202</td>\n",
       "      <td>75</td>\n",
       "      <td>186</td>\n",
       "      <td>103</td>\n",
       "      <td>19</td>\n",
       "      <td>49</td>\n",
       "      <td>86</td>\n",
       "      <td>167</td>\n",
       "      <td>98</td>\n",
       "      <td>170</td>\n",
       "    </tr>\n",
       "    <tr>\n",
       "      <th>332</th>\n",
       "      <td>495</td>\n",
       "      <td>168</td>\n",
       "      <td>205</td>\n",
       "      <td>207</td>\n",
       "      <td>177</td>\n",
       "      <td>4</td>\n",
       "      <td>80</td>\n",
       "      <td>125</td>\n",
       "      <td>43</td>\n",
       "      <td>65</td>\n",
       "      <td>...</td>\n",
       "      <td>22</td>\n",
       "      <td>94</td>\n",
       "      <td>14</td>\n",
       "      <td>69</td>\n",
       "      <td>76</td>\n",
       "      <td>72</td>\n",
       "      <td>174</td>\n",
       "      <td>75</td>\n",
       "      <td>79</td>\n",
       "      <td>147</td>\n",
       "    </tr>\n",
       "    <tr>\n",
       "      <th>387</th>\n",
       "      <td>496</td>\n",
       "      <td>35</td>\n",
       "      <td>65</td>\n",
       "      <td>58</td>\n",
       "      <td>24</td>\n",
       "      <td>66</td>\n",
       "      <td>22</td>\n",
       "      <td>94</td>\n",
       "      <td>15</td>\n",
       "      <td>72</td>\n",
       "      <td>...</td>\n",
       "      <td>75</td>\n",
       "      <td>186</td>\n",
       "      <td>103</td>\n",
       "      <td>147</td>\n",
       "      <td>49</td>\n",
       "      <td>86</td>\n",
       "      <td>167</td>\n",
       "      <td>170</td>\n",
       "      <td>136</td>\n",
       "      <td>37</td>\n",
       "    </tr>\n",
       "  </tbody>\n",
       "</table>\n",
       "<p>497 rows × 21 columns</p>\n",
       "</div>"
      ],
      "text/plain": [
       "     user_id    0    1    2    3   4    5    6    7    8  ...   10   11   12  \\\n",
       "393        0   95  105   35   80  65   66   22   39   11  ...   15   87    7   \n",
       "152        1  105   35   65   22  11   15  102   76   72  ...  191   55  145   \n",
       "81         2   30  105   21   23  35   44  182   26   65  ...   24   34   50   \n",
       "114        3  105   21   23   35  80  101   65   24   66  ...  181   14   40   \n",
       "210        4  105   35  182   24  22   11   64   15   45  ...   76  127   72   \n",
       "..       ...  ...  ...  ...  ...  ..  ...  ...  ...  ...  ...  ...  ...  ...   \n",
       "79       492   35   65   58   24  66   22   15   72  202  ...  186  103   19   \n",
       "345      493   35   58   66   22  40   76   72  119   19  ...   86   98   37   \n",
       "260      494   35   65   58   24  66   22   15   76   72  ...  202   75  186   \n",
       "332      495  168  205  207  177   4   80  125   43   65  ...   22   94   14   \n",
       "387      496   35   65   58   24  66   22   94   15   72  ...   75  186  103   \n",
       "\n",
       "      13   14   15   16   17   18   19  \n",
       "393   76  103   19   18   49  136   37  \n",
       "152   37   60  110    1  192  142   85  \n",
       "81    66   22   39   11   40   45    7  \n",
       "114   45  102    7   48   76   75  147  \n",
       "210   49   73   37   31   60  110    8  \n",
       "..   ...  ...  ...  ...  ...  ...  ...  \n",
       "79    49   86  167   98  170  136   37  \n",
       "345   60  171  110    8  142  199   85  \n",
       "260  103   19   49   86  167   98  170  \n",
       "332   69   76   72  174   75   79  147  \n",
       "387  147   49   86  167  170  136   37  \n",
       "\n",
       "[497 rows x 21 columns]"
      ]
     },
     "execution_count": 223,
     "metadata": {},
     "output_type": "execute_result"
    }
   ],
   "source": [
    "subm.sort_values('user_id')"
   ]
  },
  {
   "cell_type": "code",
   "execution_count": null,
   "metadata": {},
   "outputs": [],
   "source": []
  },
  {
   "cell_type": "markdown",
   "metadata": {},
   "source": [
    "# LGB"
   ]
  },
  {
   "cell_type": "code",
   "execution_count": 300,
   "metadata": {
    "ExecuteTime": {
     "end_time": "2020-08-04T05:52:59.369207Z",
     "start_time": "2020-08-04T05:52:59.259398Z"
    }
   },
   "outputs": [],
   "source": [
    "from sklearn.model_selection import KFold, StratifiedKFold, TimeSeriesSplit\n",
    "from sklearn.metrics import roc_auc_score\n",
    "import lightgbm as lgb\n",
    "\n",
    "import time"
   ]
  },
  {
   "cell_type": "code",
   "execution_count": 344,
   "metadata": {
    "ExecuteTime": {
     "end_time": "2020-08-04T06:34:57.921058Z",
     "start_time": "2020-08-04T06:34:57.902109Z"
    }
   },
   "outputs": [],
   "source": [
    "def predict_k(model, X_test, item_params, k=20):\n",
    "    items_data = item_params.iloc[:, 1:].values\n",
    "    n_items = len(item_params)\n",
    "    y_pred = list()\n",
    "    \n",
    "    for user_idx in range(X_test.shape[0]):\n",
    "#         result = pd.DataFrame(columns=['item_id', 'proba'])\n",
    "#         result['item_id'] = range(n_items)\n",
    "        \n",
    "        user_data = np.tile(X_test[[user_idx]], (n_items, 1))\n",
    "        data = np.concatenate([user_data, items_data], axis=1)\n",
    "        \n",
    "        pred = model.predict(data)\n",
    "        y_pred.append(pred)\n",
    "        \n",
    "#         result['proba'] = model.predict(data)\n",
    "#         result = result.sort_values('proba', ascending=False)\n",
    "#         y_pred.append(result['item_id'].values)\n",
    "        \n",
    "    return np.array(y_pred)\n",
    "\n",
    "\n",
    "def train_model(X, X_test, y, params, folds, model_type='lgb', averaging='usual', \n",
    "                verbose_eval=False, plot_feature_importance=False):\n",
    "    oof = np.zeros(len(X))\n",
    "    prediction = np.zeros((len(X_test), len(df_item)))\n",
    "    scores = []\n",
    "    feature_importance = pd.DataFrame()\n",
    "    for fold_n, (train_index, valid_index) in enumerate(folds.split(X, y)):\n",
    "        if verbose_eval:\n",
    "            print('Fold', fold_n, 'started at', time.ctime())\n",
    "        X_train, X_valid = X[train_index], X[valid_index]\n",
    "        y_train, y_valid = y[train_index], y[valid_index]\n",
    "        \n",
    "        if model_type == 'lgb':\n",
    "            train_data = lgb.Dataset(X_train, label=y_train, params={'verbose': -1})\n",
    "            valid_data = lgb.Dataset(X_valid, label=y_valid, params={'verbose': -1})\n",
    "            \n",
    "            model = lgb.train(params,\n",
    "                    train_data,\n",
    "                    num_boost_round=20000,\n",
    "                    valid_sets = [train_data, valid_data],\n",
    "                    verbose_eval=verbose_eval,\n",
    "                    early_stopping_rounds = 200)\n",
    "            \n",
    "            y_pred_valid = model.predict(X_valid)\n",
    "            y_pred = predict_k(model, X_test, df_item)\n",
    "            \n",
    "        oof[valid_index] = y_pred_valid.reshape(-1,)\n",
    "        scores.append(roc_auc_score(y_valid, y_pred_valid))\n",
    "\n",
    "        if averaging == 'usual':\n",
    "            prediction += y_pred\n",
    "        elif averaging == 'rank':\n",
    "            prediction += pd.Series(y_pred).rank().values  \n",
    "        \n",
    "        if model_type == 'lgb':\n",
    "            # feature importance\n",
    "            fold_importance = pd.DataFrame()\n",
    "            fold_importance[\"feature\"] = [f'col{ncol}' for ncol in range(X.shape[-1])]\n",
    "            fold_importance[\"importance\"] = model.feature_importance()\n",
    "            fold_importance[\"fold\"] = fold_n + 1\n",
    "            feature_importance = pd.concat([feature_importance, fold_importance], axis=0)\n",
    "\n",
    "    prediction /= n_fold\n",
    "    \n",
    "    print('CV mean score: {0:.4f}, std: {1:.4f}.'.format(np.mean(scores), np.std(scores)))\n",
    "    \n",
    "    if model_type == 'lgb':\n",
    "        feature_importance[\"importance\"] /= n_fold\n",
    "        if plot_feature_importance:\n",
    "            cols = feature_importance[[\"feature\", \"importance\"]].groupby(\"feature\").mean().sort_values(\n",
    "                   by=\"importance\", ascending=False)[:50].index\n",
    "\n",
    "            best_features = feature_importance.loc[feature_importance.feature.isin(cols)]\n",
    "\n",
    "            plt.figure(figsize=(16, 12));\n",
    "            sns.barplot(x=\"importance\", y=\"feature\", data=best_features.sort_values(by=\"importance\", ascending=False));\n",
    "            plt.title('LGB Features (avg over folds)');\n",
    "        \n",
    "            return oof, prediction, feature_importance\n",
    "        return oof, prediction, scores\n",
    "    \n",
    "    else:\n",
    "        return oof, prediction, scores"
   ]
  },
  {
   "cell_type": "code",
   "execution_count": 361,
   "metadata": {
    "ExecuteTime": {
     "end_time": "2020-08-04T06:38:02.373745Z",
     "start_time": "2020-08-04T06:38:02.369759Z"
    }
   },
   "outputs": [],
   "source": [
    "n_fold = 5\n",
    "folds = KFold(n_splits=n_fold, shuffle=True, random_state=42)\n",
    "# folds = StratifiedKFold(n_splits=n_fold, shuffle=True, random_state=42)\n",
    "# folds = TimeSeriesSplit(n_splits=n_fold)"
   ]
  },
  {
   "cell_type": "code",
   "execution_count": 377,
   "metadata": {
    "ExecuteTime": {
     "end_time": "2020-08-04T06:40:28.694645Z",
     "start_time": "2020-08-04T06:40:28.690656Z"
    }
   },
   "outputs": [],
   "source": [
    "params = {'boost': 'gbdt', \n",
    "          'feature_fraction': 0.5, \n",
    "          'lambda_l2': 0.57, \n",
    "          'learning_rate': 0.01, \n",
    "          'max_depth': 13, \n",
    "          'metric': 'auc', \n",
    "          'min_data_in_leaf': 63, \n",
    "          'num_leaves': 226, \n",
    "          'num_threads': -1, \n",
    "          'objective': 'binary', \n",
    "          'verbosity': -1}"
   ]
  },
  {
   "cell_type": "code",
   "execution_count": 407,
   "metadata": {
    "ExecuteTime": {
     "end_time": "2020-08-04T07:00:11.906913Z",
     "start_time": "2020-08-04T07:00:11.897937Z"
    }
   },
   "outputs": [
    {
     "data": {
      "text/plain": [
       "((8674, 37), (497, 9))"
      ]
     },
     "execution_count": 407,
     "metadata": {},
     "output_type": "execute_result"
    }
   ],
   "source": [
    "X = X_train.values\n",
    "y_like = y.values.flatten()\n",
    "X_test_np = X_test.values\n",
    "X.shape, X_test_np.shape\n",
    "\n",
    "# X = X_train.values[:, 1:]\n",
    "# y_like = y.values.flatten()\n",
    "# X_test_np = X_test.values[:, 1:]\n",
    "# X.shape, X_test_np.shape"
   ]
  },
  {
   "cell_type": "code",
   "execution_count": 408,
   "metadata": {
    "ExecuteTime": {
     "end_time": "2020-08-04T07:00:19.295191Z",
     "start_time": "2020-08-04T07:00:12.088475Z"
    }
   },
   "outputs": [
    {
     "name": "stdout",
     "output_type": "stream",
     "text": [
      "CV mean score: 0.5594, std: 0.0207.\n"
     ]
    },
    {
     "data": {
      "image/png": "[encoded data removed]",
      "text/plain": [
       "<Figure size 1152x864 with 1 Axes>"
      ]
     },
     "metadata": {
      "needs_background": "light"
     },
     "output_type": "display_data"
    }
   ],
   "source": [
    "oof_lgb, prediction_lgb, scores = train_model(X, X_test_np, y_like, params=params, plot_feature_importance=True,\n",
    "                                              folds=folds, model_type='lgb', verbose_eval=False)"
   ]
  },
  {
   "cell_type": "code",
   "execution_count": 393,
   "metadata": {
    "ExecuteTime": {
     "end_time": "2020-08-04T06:43:52.658229Z",
     "start_time": "2020-08-04T06:43:52.644266Z"
    }
   },
   "outputs": [],
   "source": [
    "pred = np.zeros((prediction_lgb.shape[0], 20), dtype=int)\n",
    "\n",
    "for i in range(prediction_lgb.shape[0]):\n",
    "    pred[i] = np.argsort(prediction_lgb[i])[::-1][:20]"
   ]
  },
  {
   "cell_type": "markdown",
   "metadata": {},
   "source": [
    "# Hyperopt"
   ]
  },
  {
   "cell_type": "code",
   "execution_count": 335,
   "metadata": {
    "ExecuteTime": {
     "end_time": "2020-08-04T06:00:59.250021Z",
     "start_time": "2020-08-04T06:00:58.286576Z"
    }
   },
   "outputs": [],
   "source": [
    "from hyperopt import hp"
   ]
  },
  {
   "cell_type": "code",
   "execution_count": 338,
   "metadata": {
    "ExecuteTime": {
     "end_time": "2020-08-04T06:05:13.512850Z",
     "start_time": "2020-08-04T06:05:13.505868Z"
    }
   },
   "outputs": [],
   "source": [
    "def to_max(hp_params):\n",
    "    oof_lgb, prediction_lgb, scores = train_model(X, X_test_np, y_like, params=hp_params, \n",
    "                                                  folds=folds, model_type='lgb')\n",
    "    return -np.mean(scores)\n",
    "\n",
    "lgb_params = {'boost': 'gbdt',\n",
    "          'feature_fraction': hp.uniform('feature_fraction', 0.05, 1),\n",
    "          'learning_rate': 0.01,\n",
    "          'max_depth': hp.choice('max_depth', [5, 9, 13, 17, 23, -1]),  \n",
    "          'metric': 'auc',\n",
    "          'min_data_in_leaf': hp.uniformint('min_data_in_leaf', 11, 151),\n",
    "          'num_leaves': hp.uniformint('num_leaves', 31, 351),\n",
    "          'num_threads': -1,\n",
    "          'verbosity': -1,\n",
    "          'lambda_l2': hp.uniform('lambda_l2', 0, 3),\n",
    "          'objective': 'binary',\n",
    "         }"
   ]
  },
  {
   "cell_type": "code",
   "execution_count": 339,
   "metadata": {
    "ExecuteTime": {
     "end_time": "2020-08-04T06:21:24.867938Z",
     "start_time": "2020-08-04T06:05:14.200854Z"
    }
   },
   "outputs": [
    {
     "name": "stdout",
     "output_type": "stream",
     "text": [
      "CV mean score: 0.5484, std: 0.0200.                                                                                    \n",
      "CV mean score: 0.5467, std: 0.0220.                                                                                    \n",
      "CV mean score: 0.5564, std: 0.0230.                                                                                    \n",
      "CV mean score: 0.5495, std: 0.0140.                                                                                    \n",
      "CV mean score: 0.5495, std: 0.0151.                                                                                    \n",
      "CV mean score: 0.5576, std: 0.0178.                                                                                    \n",
      "CV mean score: 0.5511, std: 0.0202.                                                                                    \n",
      "CV mean score: 0.5544, std: 0.0140.                                                                                    \n",
      "CV mean score: 0.5574, std: 0.0181.                                                                                    \n",
      "CV mean score: 0.5529, std: 0.0246.                                                                                    \n",
      "CV mean score: 0.5442, std: 0.0133.                                                                                    \n",
      "CV mean score: 0.5474, std: 0.0143.                                                                                    \n",
      "CV mean score: 0.5538, std: 0.0165.                                                                                    \n",
      "CV mean score: 0.5530, std: 0.0149.                                                                                    \n",
      "CV mean score: 0.5524, std: 0.0187.                                                                                    \n",
      "CV mean score: 0.5482, std: 0.0129.                                                                                    \n",
      "CV mean score: 0.5516, std: 0.0137.                                                                                    \n",
      "CV mean score: 0.5524, std: 0.0211.                                                                                    \n",
      "CV mean score: 0.5575, std: 0.0123.                                                                                    \n",
      "CV mean score: 0.5537, std: 0.0147.                                                                                    \n",
      "CV mean score: 0.5471, std: 0.0107.                                                                                    \n",
      "CV mean score: 0.5526, std: 0.0101.                                                                                    \n",
      "CV mean score: 0.5529, std: 0.0151.                                                                                    \n",
      "CV mean score: 0.5472, std: 0.0146.                                                                                    \n",
      "CV mean score: 0.5532, std: 0.0149.                                                                                    \n",
      "CV mean score: 0.5493, std: 0.0158.                                                                                    \n",
      "CV mean score: 0.5500, std: 0.0034.                                                                                    \n",
      "CV mean score: 0.5469, std: 0.0156.                                                                                    \n",
      "CV mean score: 0.5563, std: 0.0151.                                                                                    \n",
      "CV mean score: 0.5491, std: 0.0120.                                                                                    \n",
      "CV mean score: 0.5485, std: 0.0196.                                                                                    \n",
      "CV mean score: 0.5543, std: 0.0151.                                                                                    \n",
      "CV mean score: 0.5509, std: 0.0234.                                                                                    \n",
      "CV mean score: 0.5504, std: 0.0153.                                                                                    \n",
      "CV mean score: 0.5478, std: 0.0203.                                                                                    \n",
      "CV mean score: 0.5582, std: 0.0183.                                                                                    \n",
      "CV mean score: 0.5444, std: 0.0171.                                                                                    \n",
      "CV mean score: 0.5494, std: 0.0206.                                                                                    \n",
      "CV mean score: 0.5552, std: 0.0199.                                                                                    \n",
      "CV mean score: 0.5559, std: 0.0126.                                                                                    \n",
      "CV mean score: 0.5572, std: 0.0258.                                                                                    \n",
      "CV mean score: 0.5475, std: 0.0193.                                                                                    \n",
      "CV mean score: 0.5537, std: 0.0156.                                                                                    \n",
      "CV mean score: 0.5538, std: 0.0166.                                                                                    \n",
      "CV mean score: 0.5564, std: 0.0096.                                                                                    \n",
      "CV mean score: 0.5526, std: 0.0216.                                                                                    \n",
      "CV mean score: 0.5510, std: 0.0130.                                                                                    \n",
      "CV mean score: 0.5541, std: 0.0184.                                                                                    \n",
      "CV mean score: 0.5501, std: 0.0160.                                                                                    \n",
      "CV mean score: 0.5552, std: 0.0162.                                                                                    \n",
      "CV mean score: 0.5520, std: 0.0198.                                                                                    \n",
      "CV mean score: 0.5547, std: 0.0123.                                                                                    \n",
      "CV mean score: 0.5515, std: 0.0107.                                                                                    \n",
      "CV mean score: 0.5517, std: 0.0209.                                                                                    \n",
      "CV mean score: 0.5481, std: 0.0190.                                                                                    \n",
      "CV mean score: 0.5560, std: 0.0234.                                                                                    \n",
      "CV mean score: 0.5489, std: 0.0108.                                                                                    \n",
      "CV mean score: 0.5453, std: 0.0176.                                                                                    \n",
      "CV mean score: 0.5511, std: 0.0087.                                                                                    \n",
      "CV mean score: 0.5541, std: 0.0151.                                                                                    \n",
      "CV mean score: 0.5540, std: 0.0156.                                                                                    \n",
      "CV mean score: 0.5446, std: 0.0093.                                                                                    \n",
      "CV mean score: 0.5581, std: 0.0228.                                                                                    \n",
      "CV mean score: 0.5455, std: 0.0163.                                                                                    \n",
      "CV mean score: 0.5497, std: 0.0071.                                                                                    \n",
      "CV mean score: 0.5591, std: 0.0171.                                                                                    \n",
      "CV mean score: 0.5536, std: 0.0154.                                                                                    \n",
      "CV mean score: 0.5563, std: 0.0208.                                                                                    \n",
      "CV mean score: 0.5508, std: 0.0146.                                                                                    \n",
      "CV mean score: 0.5522, std: 0.0058.                                                                                    \n",
      "CV mean score: 0.5594, std: 0.0207.                                                                                    \n",
      "CV mean score: 0.5514, std: 0.0150.                                                                                    \n",
      "CV mean score: 0.5548, std: 0.0156.                                                                                    \n",
      "CV mean score: 0.5564, std: 0.0203.                                                                                    \n",
      "CV mean score: 0.5523, std: 0.0158.                                                                                    \n",
      "CV mean score: 0.5564, std: 0.0167.                                                                                    \n",
      "CV mean score: 0.5509, std: 0.0173.                                                                                    \n",
      "CV mean score: 0.5545, std: 0.0238.                                                                                    \n",
      "CV mean score: 0.5491, std: 0.0186.                                                                                    \n",
      "CV mean score: 0.5521, std: 0.0173.                                                                                    \n",
      "CV mean score: 0.5540, std: 0.0207.                                                                                    \n",
      "CV mean score: 0.5470, std: 0.0093.                                                                                    \n",
      "CV mean score: 0.5522, std: 0.0145.                                                                                    \n",
      "CV mean score: 0.5520, std: 0.0173.                                                                                    \n",
      "CV mean score: 0.5547, std: 0.0172.                                                                                    \n",
      "CV mean score: 0.5579, std: 0.0131.                                                                                    \n",
      "CV mean score: 0.5530, std: 0.0184.                                                                                    \n",
      "CV mean score: 0.5527, std: 0.0158.                                                                                    \n",
      "CV mean score: 0.5479, std: 0.0052.                                                                                    \n",
      "CV mean score: 0.5529, std: 0.0165.                                                                                    \n",
      "CV mean score: 0.5503, std: 0.0168.                                                                                    \n",
      "CV mean score: 0.5516, std: 0.0165.                                                                                    \n",
      "CV mean score: 0.5434, std: 0.0180.                                                                                    \n",
      "CV mean score: 0.5564, std: 0.0165.                                                                                    \n",
      "CV mean score: 0.5535, std: 0.0143.                                                                                    \n",
      "CV mean score: 0.5496, std: 0.0117.                                                                                    \n",
      "CV mean score: 0.5540, std: 0.0184.                                                                                    \n",
      "CV mean score: 0.5540, std: 0.0170.                                                                                    \n",
      "CV mean score: 0.5535, std: 0.0159.                                                                                    \n",
      "CV mean score: 0.5512, std: 0.0154.                                                                                    \n",
      "100%|████████████████████████████████████████████████| 100/100 [16:10<00:00,  7.22s/it, best loss: -0.5594155787840644]\n",
      "{'feature_fraction': 0.4996105709851735, 'lambda_l2': 0.5664981514489538, 'max_depth': 2, 'min_data_in_leaf': 63.0, 'num_leaves': 226.0}\n",
      "{'boost': 'gbdt', 'feature_fraction': 0.4996105709851735, 'lambda_l2': 0.5664981514489538, 'learning_rate': 0.01, 'max_depth': 13, 'metric': 'auc', 'min_data_in_leaf': 63, 'num_leaves': 226, 'num_threads': -1, 'objective': 'binary', 'verbosity': -1}\n"
     ]
    }
   ],
   "source": [
    "# minimize the objective over the space\n",
    "from hyperopt import fmin, tpe, space_eval\n",
    "best = fmin(to_max, lgb_params, algo=tpe.suggest, max_evals=100)\n",
    "\n",
    "print(best)\n",
    "print(space_eval(lgb_params, best))"
   ]
  },
  {
   "cell_type": "code",
   "execution_count": null,
   "metadata": {},
   "outputs": [],
   "source": []
  },
  {
   "cell_type": "markdown",
   "metadata": {},
   "source": [
    "# First try"
   ]
  },
  {
   "cell_type": "code",
   "execution_count": null,
   "metadata": {},
   "outputs": [],
   "source": [
    "from sklearn.preprocessing import StandardScaler, MinMaxScaler\n",
    "from scipy.sparse import csr_matrix\n",
    "\n",
    "scaler = MinMaxScaler()  # StandardScaler()\n",
    "df_item_np = csr_matrix(scaler.fit_transform(df_item.iloc[:, 1:]))\n",
    "\n",
    "# df_user_np = csr_matrix(df_user.iloc[:, [1]].values)\n",
    "df_user_np = csr_matrix(scaler.fit_transform(df_user.iloc[:, [1]].values))\n",
    "\n",
    "y_np = y.map({0:-1, 1:1}).values\n",
    "\n",
    "data_csr = csr_matrix((y_np, (train['user_id'] , train['item_id'])))\n",
    "\n",
    "from sklearn.metrics.pairwise import linear_kernel\n",
    "\n",
    "# Compute the cosine similarity matrix\n",
    "item_sim = linear_kernel(df_item_np, df_item_np)\n",
    "item_sim = csr_matrix(item_sim)"
   ]
  },
  {
   "cell_type": "code",
   "execution_count": null,
   "metadata": {},
   "outputs": [],
   "source": []
  },
  {
   "cell_type": "code",
   "execution_count": 409,
   "metadata": {
    "ExecuteTime": {
     "end_time": "2020-08-04T09:09:37.975279Z",
     "start_time": "2020-08-04T09:09:37.968335Z"
    }
   },
   "outputs": [],
   "source": [
    "from scipy.sparse import csr_matrix\n",
    "\n",
    "from lightfm import LightFM\n",
    "from lightfm.evaluation import precision_at_k"
   ]
  },
  {
   "cell_type": "code",
   "execution_count": 443,
   "metadata": {
    "ExecuteTime": {
     "end_time": "2020-08-04T09:22:16.992191Z",
     "start_time": "2020-08-04T09:22:16.981223Z"
    }
   },
   "outputs": [],
   "source": [
    "from sklearn.preprocessing import StandardScaler, MinMaxScaler\n",
    "\n",
    "scaler = MinMaxScaler()  # StandardScaler()\n",
    "df_item_np = csr_matrix(scaler.fit_transform(df_item.iloc[:, 1:]))\n",
    "\n",
    "# df_user_np = csr_matrix(df_user.iloc[:, [1]].values)\n",
    "df_user_np = csr_matrix(scaler.fit_transform(df_user.iloc[:, [1]].values))\n",
    "\n",
    "y_np = y.map({0:-1, 1:1}).values\n",
    "\n",
    "data_csr = csr_matrix((y_np, (train['user_id'] , train['item_id'])))"
   ]
  },
  {
   "cell_type": "code",
   "execution_count": 444,
   "metadata": {
    "ExecuteTime": {
     "end_time": "2020-08-04T09:22:17.315818Z",
     "start_time": "2020-08-04T09:22:17.283726Z"
    }
   },
   "outputs": [],
   "source": [
    "from sklearn.metrics.pairwise import linear_kernel\n",
    "\n",
    "# Compute the cosine similarity matrix\n",
    "item_sim = linear_kernel(df_item_np, df_item_np)\n",
    "item_sim = csr_matrix(item_sim)"
   ]
  },
  {
   "cell_type": "code",
   "execution_count": 428,
   "metadata": {
    "ExecuteTime": {
     "end_time": "2020-08-04T09:19:08.959731Z",
     "start_time": "2020-08-04T09:19:08.954769Z"
    }
   },
   "outputs": [],
   "source": [
    "model = LightFM(no_components=30, loss='warp')"
   ]
  },
  {
   "cell_type": "code",
   "execution_count": 429,
   "metadata": {
    "ExecuteTime": {
     "end_time": "2020-08-04T09:19:16.028244Z",
     "start_time": "2020-08-04T09:19:09.645293Z"
    }
   },
   "outputs": [
    {
     "name": "stdout",
     "output_type": "stream",
     "text": [
      "0.08209256\n"
     ]
    }
   ],
   "source": [
    "# 0.08209256\n",
    "\n",
    "model = LightFM(no_components=50, loss='warp', random_state=11)\n",
    "model.fit(data_csr,\n",
    "          user_features=df_user_np,\n",
    "          item_features=df_item_np,\n",
    "          epochs=50)\n",
    "\n",
    "train_precision = precision_at_k(model, data_csr, user_features=df_user_np, item_features=df_item_np, k=20).mean()\n",
    "\n",
    "print(train_precision)"
   ]
  },
  {
   "cell_type": "code",
   "execution_count": 261,
   "metadata": {
    "ExecuteTime": {
     "end_time": "2020-08-04T05:11:05.279143Z",
     "start_time": "2020-08-04T05:11:03.596619Z"
    }
   },
   "outputs": [
    {
     "name": "stdout",
     "output_type": "stream",
     "text": [
      "0.07605634\n"
     ]
    }
   ],
   "source": [
    "# 0.02\n",
    "\n",
    "model = LightFM(no_components=30, loss='warp', random_state=11)\n",
    "model.fit(data_csr,\n",
    "          item_features=df_item_np,\n",
    "          epochs=20)\n",
    "\n",
    "train_precision = precision_at_k(model, data_csr, item_features=df_item_np, k=20).mean()\n",
    "\n",
    "print(train_precision)"
   ]
  },
  {
   "cell_type": "code",
   "execution_count": 259,
   "metadata": {
    "ExecuteTime": {
     "end_time": "2020-08-04T05:08:10.923545Z",
     "start_time": "2020-08-04T05:08:10.495691Z"
    }
   },
   "outputs": [
    {
     "name": "stdout",
     "output_type": "stream",
     "text": [
      "0.10150906\n"
     ]
    }
   ],
   "source": [
    "model = LightFM(no_components=60, loss='warp', random_state=11)\n",
    "model.fit(data_csr,\n",
    "          user_features=df_user_np,\n",
    "          epochs=20)\n",
    "\n",
    "train_precision = precision_at_k(model, data_csr, user_features=df_user_np, k=20).mean()\n",
    "\n",
    "print(train_precision)"
   ]
  },
  {
   "cell_type": "code",
   "execution_count": 260,
   "metadata": {
    "ExecuteTime": {
     "end_time": "2020-08-04T05:08:11.707448Z",
     "start_time": "2020-08-04T05:08:10.924543Z"
    }
   },
   "outputs": [
    {
     "name": "stdout",
     "output_type": "stream",
     "text": [
      "0.22072434\n"
     ]
    }
   ],
   "source": [
    "model = LightFM(no_components=60, loss='warp', random_state=11, max_sampled=250)\n",
    "model.fit(data_csr,\n",
    "          epochs=20)\n",
    "\n",
    "train_precision = precision_at_k(model, data_csr, k=20).mean()\n",
    "\n",
    "print(train_precision)"
   ]
  },
  {
   "cell_type": "markdown",
   "metadata": {},
   "source": [
    "# HYPEROPT FM"
   ]
  },
  {
   "cell_type": "code",
   "execution_count": null,
   "metadata": {},
   "outputs": [],
   "source": [
    "# item_alpha, user_alpha, max_sampled"
   ]
  },
  {
   "cell_type": "code",
   "execution_count": 430,
   "metadata": {
    "ExecuteTime": {
     "end_time": "2020-08-04T09:19:21.597846Z",
     "start_time": "2020-08-04T09:19:21.592818Z"
    }
   },
   "outputs": [],
   "source": [
    "def to_max_fm_all(hp_params):\n",
    "    model = LightFM(**hp_params)\n",
    "    model.fit(data_csr,\n",
    "              user_features=df_user_np,\n",
    "              item_features=df_item_np,\n",
    "              epochs=50)\n",
    "    \n",
    "    train_precision = precision_at_k(model, data_csr, user_features=df_user_np, \n",
    "                                     item_features=df_item_np, k=20).mean()\n",
    "\n",
    "    return -train_precision"
   ]
  },
  {
   "cell_type": "code",
   "execution_count": 451,
   "metadata": {
    "ExecuteTime": {
     "end_time": "2020-08-04T09:27:32.844525Z",
     "start_time": "2020-08-04T09:27:32.836547Z"
    }
   },
   "outputs": [],
   "source": [
    "def to_max_fm(hp_params):\n",
    "    model = LightFM(**hp_params)\n",
    "    model.fit(data_csr, epochs=20)\n",
    "    train_precision = precision_at_k(model, data_csr, k=20).mean()\n",
    "    return -train_precision\n",
    "\n",
    "def to_max_fm_all(hp_params):\n",
    "    try:\n",
    "        model = LightFM(**hp_params)\n",
    "        model.fit(data_csr,\n",
    "                  user_features=df_user_np,\n",
    "                  item_features=df_item_np,\n",
    "                  epochs=50)\n",
    "\n",
    "        train_precision = precision_at_k(model, data_csr, user_features=df_user_np, \n",
    "                                         item_features=df_item_np, k=20).mean()\n",
    "    except:\n",
    "        return 0\n",
    "\n",
    "    return -train_precision\n",
    "\n",
    "hp_params = {'no_components': hp.uniformint('no_components', 10, 150),\n",
    "              'loss': 'warp',\n",
    "              'random_state': 11,\n",
    "              'item_alpha': hp.uniform('item_alpha', 0, 0.5),  \n",
    "              'user_alpha': hp.uniform('user_alpha', 0, 0.5),  \n",
    "              'max_sampled': hp.uniformint('max_sampled', 10, 500),\n",
    "             'learning_rate': 0.01\n",
    "             }"
   ]
  },
  {
   "cell_type": "code",
   "execution_count": 452,
   "metadata": {
    "ExecuteTime": {
     "end_time": "2020-08-04T09:44:27.596361Z",
     "start_time": "2020-08-04T09:27:37.717841Z"
    }
   },
   "outputs": [
    {
     "name": "stdout",
     "output_type": "stream",
     "text": [
      " 11%|█████▍                                           | 11/100 [01:40<11:59,  8.08s/it, best loss: -0.0825955793261528]"
     ]
    },
    {
     "name": "stderr",
     "output_type": "stream",
     "text": [
      "C:\\Users\\SakaevRF\\AppData\\Local\\Continuum\\anaconda3\\lib\\site-packages\\numpy\\core\\fromnumeric.py:90: RuntimeWarning: overflow encountered in reduce\n",
      "  return ufunc.reduce(obj, axis, dtype, out, **passkwargs)\n",
      "\n"
     ]
    },
    {
     "name": "stdout",
     "output_type": "stream",
     "text": [
      " 27%|█████████████▏                                   | 27/100 [03:39<11:12,  9.21s/it, best loss: -0.0825955793261528]"
     ]
    },
    {
     "name": "stderr",
     "output_type": "stream",
     "text": [
      "C:\\Users\\SakaevRF\\AppData\\Local\\Continuum\\anaconda3\\lib\\site-packages\\numpy\\core\\fromnumeric.py:90: RuntimeWarning: overflow encountered in reduce\n",
      "  return ufunc.reduce(obj, axis, dtype, out, **passkwargs)\n",
      "\n"
     ]
    },
    {
     "name": "stdout",
     "output_type": "stream",
     "text": [
      " 37%|██████████████████▏                              | 37/100 [05:18<09:17,  8.85s/it, best loss: -0.0825955793261528]"
     ]
    },
    {
     "name": "stderr",
     "output_type": "stream",
     "text": [
      "C:\\Users\\SakaevRF\\AppData\\Local\\Continuum\\anaconda3\\lib\\site-packages\\numpy\\core\\fromnumeric.py:90: RuntimeWarning: overflow encountered in reduce\n",
      "  return ufunc.reduce(obj, axis, dtype, out, **passkwargs)\n",
      "\n"
     ]
    },
    {
     "name": "stdout",
     "output_type": "stream",
     "text": [
      " 43%|█████████████████████                            | 43/100 [06:38<13:29, 14.21s/it, best loss: -0.0825955793261528]"
     ]
    },
    {
     "name": "stderr",
     "output_type": "stream",
     "text": [
      "C:\\Users\\SakaevRF\\AppData\\Local\\Continuum\\anaconda3\\lib\\site-packages\\numpy\\core\\fromnumeric.py:90: RuntimeWarning: overflow encountered in reduce\n",
      "  return ufunc.reduce(obj, axis, dtype, out, **passkwargs)\n",
      "\n"
     ]
    },
    {
     "name": "stdout",
     "output_type": "stream",
     "text": [
      "100%|███████████████████████████████████████████████| 100/100 [16:49<00:00, 15.67s/it, best loss: -0.08360160887241364]\n",
      "{'item_alpha': 0.08047197091783757, 'max_sampled': 249.0, 'no_components': 95.0, 'user_alpha': 0.09924232044168897}\n",
      "{'item_alpha': 0.08047197091783757, 'learning_rate': 0.01, 'loss': 'warp', 'max_sampled': 249, 'no_components': 95, 'random_state': 11, 'user_alpha': 0.09924232044168897}\n"
     ]
    }
   ],
   "source": [
    "# minimize the objective over the space\n",
    "from hyperopt import fmin, tpe, space_eval\n",
    "best = fmin(to_max_fm_all, hp_params, algo=tpe.suggest, max_evals=100)\n",
    "\n",
    "print(best)\n",
    "print(space_eval(hp_params, best))"
   ]
  },
  {
   "cell_type": "code",
   "execution_count": null,
   "metadata": {},
   "outputs": [],
   "source": []
  },
  {
   "cell_type": "code",
   "execution_count": null,
   "metadata": {},
   "outputs": [],
   "source": []
  },
  {
   "cell_type": "code",
   "execution_count": 271,
   "metadata": {
    "ExecuteTime": {
     "end_time": "2020-08-04T05:25:39.046383Z",
     "start_time": "2020-08-04T05:23:34.965499Z"
    },
    "collapsed": true
   },
   "outputs": [
    {
     "name": "stdout",
     "output_type": "stream",
     "text": [
      "[ True  True  True  True False False False False False  True False  True\n",
      "  True  True False False False  True  True False False  True False  True\n",
      " False  True  True  True] 0.08269618\n",
      "[False  True False False False False  True False  True  True  True  True\n",
      "  True False False  True False  True  True False False  True  True  True\n",
      " False False False False] 0.07354125\n",
      "[False  True False False  True False False False False  True False  True\n",
      " False  True  True  True False  True  True False  True  True False  True\n",
      " False  True  True False] 0.08028169\n",
      "[False  True False  True False False  True False False  True False  True\n",
      "  True  True False  True  True  True False  True  True False False  True\n",
      " False False False False] 0.07233401\n",
      "[False  True False  True  True False  True  True False  True  True False\n",
      " False  True  True  True False False  True False  True  True False False\n",
      " False False False False] 0.07877264\n",
      "[ True  True False False False False  True False  True  True  True False\n",
      "  True  True  True False False False False  True False False  True False\n",
      " False  True False  True] 0.07595573\n",
      "[False  True  True False  True False  True False False False False False\n",
      " False False  True False  True  True  True  True  True  True  True False\n",
      "  True False  True False] 0.075855136\n",
      "[ True False  True False  True False  True  True  True False  True False\n",
      "  True  True  True False False  True  True False  True False False  True\n",
      " False False False  True] 0.08259558\n",
      "[ True  True False False  True  True False False  True  True  True  True\n",
      "  True False  True False  True  True  True  True False False False False\n",
      "  True  True  True False] 0.0804829\n",
      "[ True False False False False False False False False  True  True False\n",
      " False False False False False  True False False  True False False False\n",
      " False False False False] 0.069315895\n",
      "[False  True False  True  True False False False  True False False False\n",
      "  True  True  True  True  True False False  True False False  True False\n",
      "  True  True False False] 0.07565392\n",
      "[False False  True  True False False  True False  True False False  True\n",
      "  True False False False  True False False False  True  True False False\n",
      " False  True False False] 0.07696177\n",
      "[False  True  True  True False False  True  True False  True False  True\n",
      " False False  True False  True False  True False False False  True  True\n",
      " False  True  True  True] 0.08028169\n",
      "[ True  True  True False False False  True  True False  True False False\n",
      " False False False False  True  True  True False  True  True  True False\n",
      "  True False False False] 0.07253522\n",
      "[False  True  True False False False  True  True  True  True  True False\n",
      "  True False  True  True False False False  True  True  True  True False\n",
      " False False  True False] 0.07957747\n",
      "[ True  True False  True  True  True False  True False  True False  True\n",
      " False False False  True False  True False False False False  True False\n",
      " False False  True  True] 0.08239436\n",
      "[False  True False False False  True False False  True False False False\n",
      "  True False  True  True  True False  True  True  True False  True  True\n",
      " False  True  True  True] 0.07374246\n",
      "[ True False False False  True  True  True False False  True  True  True\n",
      "  True  True False  True False False  True False False False  True  True\n",
      " False False False  True] 0.08189135\n",
      "[ True False  True False False  True  True False  True  True  True False\n",
      " False False  True False  True False  True False False  True  True  True\n",
      " False False False False] 0.07565392\n",
      "[ True  True  True  True False False  True  True  True  True  True  True\n",
      " False  True  True False False  True  True  True False False  True  True\n",
      " False False False False] 0.08289739\n",
      "[False False  True False  True False  True False False  True False False\n",
      "  True  True  True  True False  True  True  True  True False False False\n",
      " False False False False] 0.07565392\n",
      "[ True  True  True False False  True  True  True False  True  True  True\n",
      "  True False  True False False  True  True False  True False  True False\n",
      "  True  True False  True] 0.07253521\n",
      "[False False  True  True  True False False False  True False  True False\n",
      "  True  True False False  True False  True False False  True  True False\n",
      " False False  True  True] 0.08028169\n",
      "[False  True False  True  True  True  True False False  True  True  True\n",
      " False False False  True False  True False False  True  True False  True\n",
      "  True False  True False] 0.08169014\n",
      "[ True False False  True  True  True  True False  True False  True  True\n",
      "  True False False False  True  True  True False False False False False\n",
      " False False False  True] 0.080181085\n",
      "[False  True False  True False False False False False  True  True  True\n",
      " False  True  True  True  True  True False  True False  True False False\n",
      " False  True  True False] 0.07424547\n",
      "[ True False False False False  True False  True False  True  True False\n",
      " False  True False False  True  True  True  True  True False False  True\n",
      " False False  True False] 0.069718316\n",
      "[False False False False False False  True  True False  True False False\n",
      " False False  True  True  True False False  True False False False  True\n",
      "  True  True False False] 0.069718316\n",
      "[False  True False  True  True  True False False  True False  True  True\n",
      " False False False False False  True False False False  True  True  True\n",
      "  True False  True  True] 0.07605634\n",
      "[ True  True False False  True False False  True  True  True  True False\n",
      " False False False False  True False  True False  True  True False False\n",
      " False  True  True False] 0.074245475\n",
      "[False  True False  True False False False  True False False False  True\n",
      " False False False False False False False False  True  True  True  True\n",
      "  True False False  True] 0.072434604\n",
      "[ True  True  True  True  True  True  True False  True  True False False\n",
      " False  True False  True  True False  True  True False False False  True\n",
      "  True False  True False] 0.08289739\n",
      "[False False  True  True  True False False False False  True  True  True\n",
      "  True  True False False  True False  True False False False  True False\n",
      " False  True  True False] 0.08249497\n",
      "[False False False False  True  True  True False  True  True  True False\n",
      "  True  True False  True False  True  True  True  True  True False False\n",
      "  True  True False  True] 0.07394366\n",
      "[ True False  True False False False False False  True False  True  True\n",
      " False  True False  True  True  True False  True  True  True  True  True\n",
      " False False  True False] 0.07887324\n",
      "[False False False False False  True  True False  True False False False\n",
      "  True False  True False False  True False False False  True  True  True\n",
      " False  True False False] 0.08008049\n",
      "[ True False  True  True  True  True False  True False False  True  True\n",
      " False False False  True False False  True False  True  True  True False\n",
      " False  True  True  True] 0.08239437\n",
      "[False  True  True False False False  True False  True  True False False\n",
      "  True  True  True  True False  True  True  True  True False False False\n",
      " False  True False False] 0.079879284\n",
      "[False  True False False  True  True False False  True  True  True  True\n",
      " False False False  True False False False False  True False  True False\n",
      "  True  True  True  True] 0.07082495\n",
      "[False  True False  True False  True False False  True False False False\n",
      "  True False  True False False  True False  True False False False  True\n",
      " False  True False  True] 0.075855136\n",
      "[False False  True False  True  True  True  True False  True False  True\n",
      "  True  True False False  True False False  True  True False False  True\n",
      " False  True False  True] 0.08289738\n",
      "[False False False False False  True False False  True  True  True False\n",
      "  True  True  True False  True False  True False  True False False False\n",
      "  True False False  True] 0.077565394\n",
      "[ True False  True  True  True False False  True False False False  True\n",
      "  True False  True  True False  True False  True False  True  True  True\n",
      "  True False  True  True] 0.080382295\n",
      "[False  True False  True False False  True  True  True  True  True False\n",
      "  True  True False False False  True False False False  True False  True\n",
      "  True  True False  True] 0.08249497\n",
      "[False  True False False False False False False  True  True  True False\n",
      " False False False False False False False  True  True  True  True  True\n",
      "  True False False False] 0.06991952\n"
     ]
    },
    {
     "name": "stdout",
     "output_type": "stream",
     "text": [
      "[ True  True False False  True False False  True False False False  True\n",
      " False  True  True  True  True  True False False  True  True False  True\n",
      " False  True False  True] 0.080181085\n",
      "[False False False  True  True  True  True  True False False  True  True\n",
      "  True  True  True False False  True  True  True False False False  True\n",
      "  True  True False  True] 0.07595573\n",
      "[ True  True False False False False  True  True False False  True  True\n",
      " False  True False  True  True False False  True False False False False\n",
      "  True False False  True] 0.07273642\n",
      "[ True  True  True  True  True  True  True  True  True  True False  True\n",
      "  True  True  True  True  True False  True  True  True False False False\n",
      " False  True  True False] 0.08289739\n",
      "[ True  True  True False False  True  True False  True  True False False\n",
      "  True False  True False False False  True False False False  True False\n",
      " False  True  True  True] 0.07957747\n",
      "[False False  True False  True False False False  True False  True  True\n",
      "  True False False False  True  True False False  True False False  True\n",
      "  True False  True  True] 0.07414486\n",
      "[ True False False  True False  True False  True  True False False  True\n",
      "  True  True False  True False False  True  True  True False  True False\n",
      " False False  True False] 0.072434604\n",
      "[ True False False False False  True False False False  True False  True\n",
      " False  True  True  True  True  True False False False  True False  True\n",
      "  True False False False] 0.07253522\n",
      "[ True False False  True False False False  True False  True  True False\n",
      " False  True False False  True False False False  True  True  True False\n",
      "  True False  True  True] 0.07253522\n",
      "[False False  True  True False False False False False  True  True  True\n",
      " False  True  True  True  True  True False False False  True False  True\n",
      "  True  True False False] 0.080181085\n",
      "[False False  True False False False  True  True  True  True False False\n",
      " False False False  True False  True  True  True False  True  True False\n",
      "  True  True False False] 0.07987928\n",
      "[False  True  True  True  True  True  True False False  True False  True\n",
      "  True  True False  True  True False False  True  True  True  True False\n",
      "  True False False  True] 0.08269618\n",
      "[ True False False  True  True False  True False False  True False False\n",
      " False False False False  True False  True False  True False  True False\n",
      " False False False  True] 0.07977868\n",
      "[ True  True  True False False False  True False False False False  True\n",
      "  True  True  True  True  True False False False False False  True False\n",
      "  True  True  True  True] 0.07575453\n",
      "[False  True  True False  True False  True False  True False False False\n",
      " False  True False False False False False  True False  True False False\n",
      " False  True False  True] 0.08008049\n",
      "[ True False False False False  True False  True  True  True False  True\n",
      "  True  True False False False  True  True False  True False False False\n",
      " False False  True False] 0.07414488\n",
      "[False False  True  True False  True  True  True False  True False  True\n",
      " False False  True  True False  True  True  True False False  True False\n",
      " False False  True  True] 0.080382295\n",
      "[ True False  True False  True False  True False False  True False False\n",
      "  True False False False  True False False  True  True False  True  True\n",
      " False False False False] 0.0722334\n",
      "[False False False  True False  True  True False  True  True False False\n",
      "  True False False  True False  True False False  True  True False  True\n",
      " False  True False  True] 0.07997988\n",
      "[ True  True  True  True  True False  True False False  True  True  True\n",
      " False  True  True  True False False  True False  True  True False  True\n",
      "  True False  True  True] 0.08269618\n",
      "[ True False  True False  True  True  True False False  True  True False\n",
      "  True  True  True False  True  True  True  True  True  True  True False\n",
      " False  True  True  True] 0.0750503\n",
      "[False  True False  True  True False False False False  True  True False\n",
      " False  True  True False  True  True False False  True False False  True\n",
      " False  True  True  True] 0.07555332\n",
      "[False False False False False False  True False False  True  True False\n",
      " False  True  True False  True False  True False  True  True False  True\n",
      " False  True  True False] 0.07253521\n",
      "[ True False  True False  True  True  True False False False  True  True\n",
      " False False False  True False  True  True False  True  True False False\n",
      " False False  True False] 0.07595573\n",
      "[False False  True  True False False False False  True False False  True\n",
      " False  True False False  True False False False False  True False  True\n",
      "  True False  True False] 0.07786721\n",
      "[False False  True False  True  True False False False  True False False\n",
      "  True False  True False False False False  True  True  True False  True\n",
      "  True False False  True] 0.08008048\n",
      "[False  True  True False False  True  True False  True False False False\n",
      "  True  True  True False False  True  True  True  True  True False  True\n",
      "  True False False False] 0.07575453\n",
      "[ True False False  True False False  True False  True False  True False\n",
      " False  True False False False False  True False  True False False  True\n",
      "  True  True False False] 0.0806841\n",
      "[False  True False  True False  True False  True  True False False False\n",
      " False False False  True False False  True  True False False  True  True\n",
      "  True False  True False] 0.076559365\n",
      "[False False  True False  True  True False False False False False  True\n",
      " False  True  True False  True  True False  True False  True  True False\n",
      "  True False  True False] 0.075855136\n",
      "[ True  True False  True  True False  True  True False False  True  True\n",
      "  True False  True False False  True  True  True False  True  True False\n",
      " False False False  True] 0.07987928\n",
      "[False False False  True False False False False False False  True  True\n",
      " False False False  True False  True  True False  True False  True False\n",
      "  True  True False  True] 0.07253522\n",
      "[ True False False False  True False  True False  True  True False  True\n",
      "  True False False False False  True  True False False  True  True False\n",
      " False  True False  True] 0.08239437\n",
      "[ True False False  True False  True  True False False  True False  True\n",
      "  True  True False  True  True False False False False  True  True  True\n",
      "  True  True False False] 0.07987928\n",
      "[ True False  True False  True  True False False False  True False False\n",
      "  True False  True  True False False False  True False  True  True  True\n",
      " False False False  True] 0.07273642\n",
      "[False  True  True False False  True False  True  True False  True  True\n",
      " False False False False  True  True  True False  True  True False False\n",
      " False  True False  True] 0.072635815\n",
      "[ True False  True  True False  True False False  True False  True  True\n",
      "  True  True False  True False  True False False  True False  True False\n",
      " False False False False] 0.08249497\n",
      "[False False False False  True False  True  True False  True  True  True\n",
      "  True False  True False False False  True  True False  True False  True\n",
      "  True False  True  True] 0.07957747\n",
      "[False  True False  True  True False False False  True  True False False\n",
      "  True False  True False False False  True False False  True  True  True\n",
      " False  True False False] 0.07997988\n",
      "[ True  True False  True  True  True False False  True  True False False\n",
      " False False  True False False False  True  True  True  True  True  True\n",
      "  True  True  True False] 0.08199195\n",
      "[ True False  True  True False False False  True False False False  True\n",
      " False False False False  True False False  True False False  True  True\n",
      " False  True False  True] 0.07595573\n",
      "[ True  True False False  True False False  True  True  True  True False\n",
      " False False False False False  True  True False  True False  True False\n",
      " False False False False] 0.07555332\n",
      "[False False False  True  True False False False False False False False\n",
      " False  True False False  True False False False  True  True False False\n",
      " False  True False  True] 0.07575453\n",
      "[False  True  True  True False False  True False False  True False False\n",
      "  True  True  True False False False False  True False  True  True  True\n",
      " False  True  True False] 0.08028169\n",
      "[False  True False  True  True False False  True False  True  True  True\n",
      " False  True  True  True False  True False False  True False  True False\n",
      " False False  True  True] 0.08289739\n"
     ]
    },
    {
     "name": "stdout",
     "output_type": "stream",
     "text": [
      "[False False False  True  True  True False  True  True False False False\n",
      "  True False False  True False  True False  True  True  True False False\n",
      " False  True  True False] 0.07997988\n",
      "[ True False  True  True  True  True  True  True False False  True  True\n",
      "  True  True  True False  True  True  True False  True False False  True\n",
      "  True False  True False] 0.08018109\n",
      "[False  True False  True  True False False False  True  True False False\n",
      "  True  True False False  True  True False False False False  True  True\n",
      "  True False  True False] 0.076861165\n",
      "[False False  True False  True  True False False False  True  True False\n",
      "  True  True False  True False False  True  True False False False  True\n",
      " False False  True  True] 0.0750503\n",
      "[ True  True  True  True  True  True False  True  True  True False  True\n",
      "  True  True False  True False  True  True  True False False False  True\n",
      "  True  True False  True] 0.082696185\n",
      "[False  True False  True  True  True False False  True False  True False\n",
      " False  True  True False  True  True False  True  True  True False  True\n",
      " False False False  True] 0.07816901\n",
      "[ True  True False  True False  True  True False  True False  True  True\n",
      " False  True  True  True False False  True False  True False False False\n",
      " False False  True False] 0.07535212\n",
      "[ True  True False False  True  True False False  True  True  True False\n",
      "  True False False False  True  True  True False False  True  True False\n",
      " False  True  True  True] 0.07273642\n",
      "[False False  True False False False False False False False False False\n",
      "  True False False  True False False False False  True  True  True  True\n",
      " False False  True False] 0.06991952\n",
      "[False False  True False  True  True  True False False  True  True  True\n",
      " False False  True False  True False  True  True  True  True  True  True\n",
      "  True  True  True  True] 0.08209255\n"
     ]
    }
   ],
   "source": [
    "for i in range(100):\n",
    "    mask = np.random.randint(2, size=(28), dtype='bool')\n",
    "    scaler = StandardScaler()\n",
    "    \n",
    "    # to_scale = scaler.fit_transform(df_item.iloc[:, 1:])[:, mask]\n",
    "    to_scale = df_item.iloc[:, 1:].values[:, mask]\n",
    "    \n",
    "    df_item_np = csr_matrix(to_scale)\n",
    "    item_sim = linear_kernel(df_item_np, dense_output=False)\n",
    "\n",
    "    model = LightFM(no_components=30, loss='warp', random_state=11)\n",
    "    model.fit(data_csr,\n",
    "              item_features=df_item_np,\n",
    "              epochs=20)\n",
    "\n",
    "    train_precision = precision_at_k(model, data_csr, item_features=df_item_np, k=20).mean()\n",
    "\n",
    "    print(mask, train_precision)"
   ]
  },
  {
   "cell_type": "code",
   "execution_count": 208,
   "metadata": {
    "ExecuteTime": {
     "end_time": "2020-08-03T16:52:31.135633Z",
     "start_time": "2020-08-03T16:52:30.976898Z"
    },
    "code_folding": []
   },
   "outputs": [],
   "source": [
    "def sample_recommendation(model, data, user_ids, k=20):\n",
    "    n_users, n_items = data_csr.shape\n",
    "    items = np.arange(n_items)\n",
    "    answers = list()\n",
    "\n",
    "    for user_id in user_ids:\n",
    "        scores = model.predict(user_id, items)\n",
    "        top_items = items[np.argsort(-scores)]\n",
    "        answers.append(top_items[:k])\n",
    "    return np.array(answers)\n",
    "\n",
    "pred = sample_recommendation(model, data, test.iloc[:, 0].to_list())"
   ]
  },
  {
   "cell_type": "code",
   "execution_count": 395,
   "metadata": {
    "ExecuteTime": {
     "end_time": "2020-08-04T06:44:00.824600Z",
     "start_time": "2020-08-04T06:44:00.819587Z"
    }
   },
   "outputs": [],
   "source": [
    "subm.iloc[:, 1:] = pred"
   ]
  },
  {
   "cell_type": "code",
   "execution_count": 396,
   "metadata": {
    "ExecuteTime": {
     "end_time": "2020-08-04T06:44:01.855023Z",
     "start_time": "2020-08-04T06:44:01.839064Z"
    }
   },
   "outputs": [
    {
     "data": {
      "text/html": [
       "<div>\n",
       "<style scoped>\n",
       "    .dataframe tbody tr th:only-of-type {\n",
       "        vertical-align: middle;\n",
       "    }\n",
       "\n",
       "    .dataframe tbody tr th {\n",
       "        vertical-align: top;\n",
       "    }\n",
       "\n",
       "    .dataframe thead th {\n",
       "        text-align: right;\n",
       "    }\n",
       "</style>\n",
       "<table border=\"1\" class=\"dataframe\">\n",
       "  <thead>\n",
       "    <tr style=\"text-align: right;\">\n",
       "      <th></th>\n",
       "      <th>user_id</th>\n",
       "      <th>0</th>\n",
       "      <th>1</th>\n",
       "      <th>2</th>\n",
       "      <th>3</th>\n",
       "      <th>4</th>\n",
       "      <th>5</th>\n",
       "      <th>6</th>\n",
       "      <th>7</th>\n",
       "      <th>8</th>\n",
       "      <th>...</th>\n",
       "      <th>10</th>\n",
       "      <th>11</th>\n",
       "      <th>12</th>\n",
       "      <th>13</th>\n",
       "      <th>14</th>\n",
       "      <th>15</th>\n",
       "      <th>16</th>\n",
       "      <th>17</th>\n",
       "      <th>18</th>\n",
       "      <th>19</th>\n",
       "    </tr>\n",
       "  </thead>\n",
       "  <tbody>\n",
       "    <tr>\n",
       "      <th>0</th>\n",
       "      <td>166</td>\n",
       "      <td>37</td>\n",
       "      <td>35</td>\n",
       "      <td>76</td>\n",
       "      <td>66</td>\n",
       "      <td>200</td>\n",
       "      <td>80</td>\n",
       "      <td>72</td>\n",
       "      <td>7</td>\n",
       "      <td>58</td>\n",
       "      <td>...</td>\n",
       "      <td>60</td>\n",
       "      <td>22</td>\n",
       "      <td>65</td>\n",
       "      <td>232</td>\n",
       "      <td>405</td>\n",
       "      <td>402</td>\n",
       "      <td>229</td>\n",
       "      <td>240</td>\n",
       "      <td>239</td>\n",
       "      <td>390</td>\n",
       "    </tr>\n",
       "    <tr>\n",
       "      <th>1</th>\n",
       "      <td>26</td>\n",
       "      <td>216</td>\n",
       "      <td>311</td>\n",
       "      <td>276</td>\n",
       "      <td>402</td>\n",
       "      <td>399</td>\n",
       "      <td>232</td>\n",
       "      <td>391</td>\n",
       "      <td>274</td>\n",
       "      <td>173</td>\n",
       "      <td>...</td>\n",
       "      <td>413</td>\n",
       "      <td>390</td>\n",
       "      <td>230</td>\n",
       "      <td>168</td>\n",
       "      <td>405</td>\n",
       "      <td>411</td>\n",
       "      <td>239</td>\n",
       "      <td>432</td>\n",
       "      <td>388</td>\n",
       "      <td>229</td>\n",
       "    </tr>\n",
       "    <tr>\n",
       "      <th>2</th>\n",
       "      <td>41</td>\n",
       "      <td>216</td>\n",
       "      <td>232</td>\n",
       "      <td>413</td>\n",
       "      <td>230</td>\n",
       "      <td>276</td>\n",
       "      <td>352</td>\n",
       "      <td>408</td>\n",
       "      <td>311</td>\n",
       "      <td>239</td>\n",
       "      <td>...</td>\n",
       "      <td>168</td>\n",
       "      <td>173</td>\n",
       "      <td>240</td>\n",
       "      <td>399</td>\n",
       "      <td>274</td>\n",
       "      <td>411</td>\n",
       "      <td>272</td>\n",
       "      <td>374</td>\n",
       "      <td>156</td>\n",
       "      <td>405</td>\n",
       "    </tr>\n",
       "    <tr>\n",
       "      <th>3</th>\n",
       "      <td>286</td>\n",
       "      <td>173</td>\n",
       "      <td>216</td>\n",
       "      <td>178</td>\n",
       "      <td>262</td>\n",
       "      <td>413</td>\n",
       "      <td>274</td>\n",
       "      <td>168</td>\n",
       "      <td>311</td>\n",
       "      <td>296</td>\n",
       "      <td>...</td>\n",
       "      <td>230</td>\n",
       "      <td>276</td>\n",
       "      <td>352</td>\n",
       "      <td>408</td>\n",
       "      <td>391</td>\n",
       "      <td>440</td>\n",
       "      <td>73</td>\n",
       "      <td>184</td>\n",
       "      <td>24</td>\n",
       "      <td>50</td>\n",
       "    </tr>\n",
       "    <tr>\n",
       "      <th>4</th>\n",
       "      <td>108</td>\n",
       "      <td>216</td>\n",
       "      <td>262</td>\n",
       "      <td>413</td>\n",
       "      <td>168</td>\n",
       "      <td>311</td>\n",
       "      <td>173</td>\n",
       "      <td>276</td>\n",
       "      <td>274</td>\n",
       "      <td>230</td>\n",
       "      <td>...</td>\n",
       "      <td>296</td>\n",
       "      <td>408</td>\n",
       "      <td>214</td>\n",
       "      <td>352</td>\n",
       "      <td>229</td>\n",
       "      <td>440</td>\n",
       "      <td>302</td>\n",
       "      <td>396</td>\n",
       "      <td>382</td>\n",
       "      <td>204</td>\n",
       "    </tr>\n",
       "  </tbody>\n",
       "</table>\n",
       "<p>5 rows × 21 columns</p>\n",
       "</div>"
      ],
      "text/plain": [
       "   user_id    0    1    2    3    4    5    6    7    8  ...   10   11   12  \\\n",
       "0      166   37   35   76   66  200   80   72    7   58  ...   60   22   65   \n",
       "1       26  216  311  276  402  399  232  391  274  173  ...  413  390  230   \n",
       "2       41  216  232  413  230  276  352  408  311  239  ...  168  173  240   \n",
       "3      286  173  216  178  262  413  274  168  311  296  ...  230  276  352   \n",
       "4      108  216  262  413  168  311  173  276  274  230  ...  296  408  214   \n",
       "\n",
       "    13   14   15   16   17   18   19  \n",
       "0  232  405  402  229  240  239  390  \n",
       "1  168  405  411  239  432  388  229  \n",
       "2  399  274  411  272  374  156  405  \n",
       "3  408  391  440   73  184   24   50  \n",
       "4  352  229  440  302  396  382  204  \n",
       "\n",
       "[5 rows x 21 columns]"
      ]
     },
     "execution_count": 396,
     "metadata": {},
     "output_type": "execute_result"
    }
   ],
   "source": [
    "subm.head()"
   ]
  },
  {
   "cell_type": "code",
   "execution_count": 397,
   "metadata": {
    "ExecuteTime": {
     "end_time": "2020-08-04T06:44:06.603442Z",
     "start_time": "2020-08-04T06:44:06.593445Z"
    }
   },
   "outputs": [],
   "source": [
    "subm.to_csv('input/subm002.csv', index=None)"
   ]
  },
  {
   "cell_type": "code",
   "execution_count": null,
   "metadata": {},
   "outputs": [],
   "source": []
  }
 ],
 "metadata": {
  "kernelspec": {
   "display_name": "Python 3",
   "language": "python",
   "name": "python3"
  },
  "language_info": {
   "codemirror_mode": {
    "name": "ipython",
    "version": 3
   },
   "file_extension": ".py",
   "mimetype": "text/x-python",
   "name": "python",
   "nbconvert_exporter": "python",
   "pygments_lexer": "ipython3",
   "version": "3.7.3"
  }
 },
 "nbformat": 4,
 "nbformat_minor": 2
}
