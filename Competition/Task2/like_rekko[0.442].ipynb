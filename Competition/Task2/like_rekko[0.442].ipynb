{
 "cells": [
  {
   "cell_type": "code",
   "execution_count": 1,
   "metadata": {
    "ExecuteTime": {
     "end_time": "2020-08-04T11:16:13.537727Z",
     "start_time": "2020-08-04T11:16:12.034849Z"
    }
   },
   "outputs": [],
   "source": [
    "import pandas as pd\n",
    "import numpy as np\n",
    "\n",
    "%matplotlib inline\n",
    "import matplotlib.pyplot as plt\n",
    "import seaborn as sns"
   ]
  },
  {
   "cell_type": "code",
   "execution_count": 78,
   "metadata": {
    "ExecuteTime": {
     "end_time": "2020-08-04T12:02:31.663568Z",
     "start_time": "2020-08-04T12:02:31.626865Z"
    }
   },
   "outputs": [],
   "source": [
    "train = pd.read_csv('input/train.csv')\n",
    "test = pd.read_csv('input/test.csv')\n",
    "df_item = pd.read_csv('input/item-features.csv')\n",
    "df_user = pd.read_csv('input/user-features.csv')\n",
    "subm = pd.read_csv('input/sample-submission.csv')"
   ]
  },
  {
   "cell_type": "code",
   "execution_count": 79,
   "metadata": {
    "ExecuteTime": {
     "end_time": "2020-08-04T12:02:31.817573Z",
     "start_time": "2020-08-04T12:02:31.810114Z"
    }
   },
   "outputs": [],
   "source": [
    "df_item = df_item.drop(columns=['19','27','30','9'])\n",
    "df_item = df_item.sort_values('item_id').reset_index(drop=True)\n",
    "\n",
    "df_user = df_user.iloc[:, :3]\n",
    "df_user = df_user.sort_values('user_id').reset_index(drop=True)"
   ]
  },
  {
   "cell_type": "code",
   "execution_count": 80,
   "metadata": {
    "ExecuteTime": {
     "end_time": "2020-08-04T12:02:31.994244Z",
     "start_time": "2020-08-04T12:02:31.986826Z"
    }
   },
   "outputs": [
    {
     "data": {
      "text/html": [
       "<div>\n",
       "<style scoped>\n",
       "    .dataframe tbody tr th:only-of-type {\n",
       "        vertical-align: middle;\n",
       "    }\n",
       "\n",
       "    .dataframe tbody tr th {\n",
       "        vertical-align: top;\n",
       "    }\n",
       "\n",
       "    .dataframe thead th {\n",
       "        text-align: right;\n",
       "    }\n",
       "</style>\n",
       "<table border=\"1\" class=\"dataframe\">\n",
       "  <thead>\n",
       "    <tr style=\"text-align: right;\">\n",
       "      <th></th>\n",
       "      <th>user_id</th>\n",
       "      <th>item_id</th>\n",
       "      <th>like</th>\n",
       "      <th>timestamp</th>\n",
       "    </tr>\n",
       "  </thead>\n",
       "  <tbody>\n",
       "    <tr>\n",
       "      <th>0</th>\n",
       "      <td>140</td>\n",
       "      <td>342</td>\n",
       "      <td>0</td>\n",
       "      <td>1490936622</td>\n",
       "    </tr>\n",
       "    <tr>\n",
       "      <th>1</th>\n",
       "      <td>378</td>\n",
       "      <td>172</td>\n",
       "      <td>1</td>\n",
       "      <td>1490936628</td>\n",
       "    </tr>\n",
       "    <tr>\n",
       "      <th>2</th>\n",
       "      <td>150</td>\n",
       "      <td>182</td>\n",
       "      <td>0</td>\n",
       "      <td>1490936650</td>\n",
       "    </tr>\n",
       "    <tr>\n",
       "      <th>3</th>\n",
       "      <td>455</td>\n",
       "      <td>17</td>\n",
       "      <td>0</td>\n",
       "      <td>1490936704</td>\n",
       "    </tr>\n",
       "    <tr>\n",
       "      <th>4</th>\n",
       "      <td>350</td>\n",
       "      <td>409</td>\n",
       "      <td>0</td>\n",
       "      <td>1490936735</td>\n",
       "    </tr>\n",
       "  </tbody>\n",
       "</table>\n",
       "</div>"
      ],
      "text/plain": [
       "   user_id  item_id  like   timestamp\n",
       "0      140      342     0  1490936622\n",
       "1      378      172     1  1490936628\n",
       "2      150      182     0  1490936650\n",
       "3      455       17     0  1490936704\n",
       "4      350      409     0  1490936735"
      ]
     },
     "execution_count": 80,
     "metadata": {},
     "output_type": "execute_result"
    }
   ],
   "source": [
    "train.head()"
   ]
  },
  {
   "cell_type": "code",
   "execution_count": 81,
   "metadata": {
    "ExecuteTime": {
     "end_time": "2020-08-04T12:02:32.169237Z",
     "start_time": "2020-08-04T12:02:32.158844Z"
    }
   },
   "outputs": [
    {
     "data": {
      "text/plain": [
       "((497, 2), (444, 28), (497, 444))"
      ]
     },
     "execution_count": 81,
     "metadata": {},
     "output_type": "execute_result"
    }
   ],
   "source": [
    "from scipy.sparse import csr_matrix\n",
    "\n",
    "df_user_np = df_user.iloc[:, 1:]\n",
    "df_item_np = df_item.iloc[:, 1:]\n",
    "\n",
    "y = train['like'].map({0: -1, 1:1}).to_numpy()\n",
    "X_train = train.drop(columns=['like'])\n",
    "\n",
    "data_csr = csr_matrix((y, (X_train['user_id'] , X_train['item_id'])))\n",
    "df_user_np.shape, df_item_np.shape, data_csr.shape"
   ]
  },
  {
   "cell_type": "code",
   "execution_count": 82,
   "metadata": {
    "ExecuteTime": {
     "end_time": "2020-08-04T12:02:32.329969Z",
     "start_time": "2020-08-04T12:02:32.324535Z"
    }
   },
   "outputs": [
    {
     "data": {
      "text/plain": [
       "(0, 1, -1)"
      ]
     },
     "execution_count": 82,
     "metadata": {},
     "output_type": "execute_result"
    }
   ],
   "source": [
    "data_csr[0, 0], data_csr[378, 172], data_csr[140, 342]"
   ]
  },
  {
   "cell_type": "code",
   "execution_count": 83,
   "metadata": {
    "ExecuteTime": {
     "end_time": "2020-08-04T12:02:33.062351Z",
     "start_time": "2020-08-04T12:02:33.050448Z"
    }
   },
   "outputs": [
    {
     "data": {
      "text/plain": [
       "((497, 497), (444, 444))"
      ]
     },
     "execution_count": 83,
     "metadata": {},
     "output_type": "execute_result"
    }
   ],
   "source": [
    "from  sklearn.metrics.pairwise import pairwise_distances\n",
    "\n",
    "# считаем косинусное расстояние для пользователей и фильмов \n",
    "# (построчно и поколоночно соотвественно).\n",
    "user_similarity = pairwise_distances(df_user_np, metric='cosine')\n",
    "item_similarity = pairwise_distances(df_item_np, metric='cosine')\n",
    "user_similarity.shape, item_similarity.shape"
   ]
  },
  {
   "cell_type": "markdown",
   "metadata": {},
   "source": [
    "# Surprise"
   ]
  },
  {
   "cell_type": "code",
   "execution_count": 119,
   "metadata": {
    "ExecuteTime": {
     "end_time": "2020-08-04T16:49:55.351333Z",
     "start_time": "2020-08-04T16:49:55.345877Z"
    }
   },
   "outputs": [],
   "source": [
    "from surprise import NormalPredictor, SVD\n",
    "from surprise import Dataset\n",
    "from surprise import Reader\n",
    "from surprise.model_selection import cross_validate\n",
    "\n",
    "from surprise.reader import Reader\n",
    "from surprise.dataset import Dataset\n",
    "from surprise import SVD, SVDpp, SlopeOne, NMF, NormalPredictor\n",
    "from surprise import KNNBaseline, KNNBasic, KNNWithMeans, KNNWithZScore\n",
    "from surprise import BaselineOnly, CoClustering\n",
    "from surprise.model_selection import cross_validate, train_test_split\n",
    "from surprise import accuracy"
   ]
  },
  {
   "cell_type": "code",
   "execution_count": 115,
   "metadata": {
    "ExecuteTime": {
     "end_time": "2020-08-04T16:43:40.472386Z",
     "start_time": "2020-08-04T16:43:40.445134Z"
    }
   },
   "outputs": [
    {
     "data": {
      "text/html": [
       "<div>\n",
       "<style scoped>\n",
       "    .dataframe tbody tr th:only-of-type {\n",
       "        vertical-align: middle;\n",
       "    }\n",
       "\n",
       "    .dataframe tbody tr th {\n",
       "        vertical-align: top;\n",
       "    }\n",
       "\n",
       "    .dataframe thead th {\n",
       "        text-align: right;\n",
       "    }\n",
       "</style>\n",
       "<table border=\"1\" class=\"dataframe\">\n",
       "  <thead>\n",
       "    <tr style=\"text-align: right;\">\n",
       "      <th></th>\n",
       "      <th>user_id</th>\n",
       "      <th>item_id</th>\n",
       "      <th>like</th>\n",
       "      <th>timestamp</th>\n",
       "    </tr>\n",
       "  </thead>\n",
       "  <tbody>\n",
       "    <tr>\n",
       "      <th>0</th>\n",
       "      <td>140</td>\n",
       "      <td>342</td>\n",
       "      <td>0</td>\n",
       "      <td>1490936622</td>\n",
       "    </tr>\n",
       "    <tr>\n",
       "      <th>1</th>\n",
       "      <td>378</td>\n",
       "      <td>172</td>\n",
       "      <td>1</td>\n",
       "      <td>1490936628</td>\n",
       "    </tr>\n",
       "    <tr>\n",
       "      <th>2</th>\n",
       "      <td>150</td>\n",
       "      <td>182</td>\n",
       "      <td>0</td>\n",
       "      <td>1490936650</td>\n",
       "    </tr>\n",
       "    <tr>\n",
       "      <th>3</th>\n",
       "      <td>455</td>\n",
       "      <td>17</td>\n",
       "      <td>0</td>\n",
       "      <td>1490936704</td>\n",
       "    </tr>\n",
       "    <tr>\n",
       "      <th>4</th>\n",
       "      <td>350</td>\n",
       "      <td>409</td>\n",
       "      <td>0</td>\n",
       "      <td>1490936735</td>\n",
       "    </tr>\n",
       "  </tbody>\n",
       "</table>\n",
       "</div>"
      ],
      "text/plain": [
       "   user_id  item_id  like   timestamp\n",
       "0      140      342     0  1490936622\n",
       "1      378      172     1  1490936628\n",
       "2      150      182     0  1490936650\n",
       "3      455       17     0  1490936704\n",
       "4      350      409     0  1490936735"
      ]
     },
     "execution_count": 115,
     "metadata": {},
     "output_type": "execute_result"
    }
   ],
   "source": [
    "train.head()"
   ]
  },
  {
   "cell_type": "code",
   "execution_count": 114,
   "metadata": {
    "ExecuteTime": {
     "end_time": "2020-08-04T12:17:49.407787Z",
     "start_time": "2020-08-04T12:17:47.323073Z"
    }
   },
   "outputs": [
    {
     "data": {
      "text/plain": [
       "{'test_rmse': array([0.28480864, 0.28737401, 0.29640801, 0.28969182, 0.29218496]),\n",
       " 'test_mae': array([0.17720405, 0.17962929, 0.18028459, 0.18070854, 0.1839145 ]),\n",
       " 'fit_time': (0.39881157875061035,\n",
       "  0.3943197727203369,\n",
       "  0.39627623558044434,\n",
       "  0.39580821990966797,\n",
       "  0.39583539962768555),\n",
       " 'test_time': (0.008928060531616211,\n",
       "  0.008928298950195312,\n",
       "  0.009452104568481445,\n",
       "  0.009424448013305664,\n",
       "  0.008930683135986328)}"
      ]
     },
     "execution_count": 114,
     "metadata": {},
     "output_type": "execute_result"
    }
   ],
   "source": [
    "# A reader is still needed but only the rating_scale param is requiered.\n",
    "reader = Reader(rating_scale=(0, 1))\n",
    "\n",
    "# The columns must correspond to user id, item id and ratings (in that order).\n",
    "data = Dataset.load_from_df(train[['user_id', 'item_id', 'like']], reader)\n",
    "\n",
    "# We can now use this dataset as we please, e.g. calling cross_validate\n",
    "cross_validate(SVD(), data, cv=5)"
   ]
  },
  {
   "cell_type": "code",
   "execution_count": null,
   "metadata": {},
   "outputs": [],
   "source": [
    "# [SVD(), SVDpp(), SlopeOne(), NMF(), NormalPredictor(), KNNBaseline(), \n",
    "#                   KNNBasic(), KNNWithMeans(), KNNWithZScore(), BaselineOnly(), CoClustering()]\n",
    "\n",
    "# <class 'surprise.prediction_algorithms.matrix_factorization.SVD'> 0.1825750931054188\n",
    "# <class 'surprise.prediction_algorithms.matrix_factorization.SVDpp'> 0.16760332940541206\n",
    "# <class 'surprise.prediction_algorithms.slope_one.SlopeOne'> 0.15265446170771874\n",
    "# <class 'surprise.prediction_algorithms.random_pred.NormalPredictor'> 0.33987833116682625\n",
    "# <class 'surprise.prediction_algorithms.knns.KNNBaseline'> 0.1297762283632601\n",
    "# <class 'surprise.prediction_algorithms.knns.KNNBasic'> 0.1228509348207455\n",
    "# <class 'surprise.prediction_algorithms.knns.KNNWithMeans'> 0.14724135594053778\n",
    "# <class 'surprise.prediction_algorithms.knns.KNNWithZScore'> 0.14440677662246001\n",
    "# <class 'surprise.prediction_algorithms.baseline_only.BaselineOnly'> 0.1839018552188873\n",
    "# <class 'surprise.prediction_algorithms.co_clustering.CoClustering'> 0.15628048493380628"
   ]
  },
  {
   "cell_type": "code",
   "execution_count": 178,
   "metadata": {
    "ExecuteTime": {
     "end_time": "2020-08-04T17:03:17.948204Z",
     "start_time": "2020-08-04T17:03:02.231796Z"
    }
   },
   "outputs": [
    {
     "name": "stdout",
     "output_type": "stream",
     "text": [
      "<class 'surprise.prediction_algorithms.matrix_factorization.SVD'> 0.1825750931054188\n",
      "<class 'surprise.prediction_algorithms.matrix_factorization.SVDpp'> 0.16760332940541206\n",
      "<class 'surprise.prediction_algorithms.slope_one.SlopeOne'> 0.15265446170771874\n",
      "<class 'surprise.prediction_algorithms.random_pred.NormalPredictor'> 0.33987833116682625\n",
      "<class 'surprise.prediction_algorithms.knns.KNNBaseline'> 0.1297762283632601\n",
      "<class 'surprise.prediction_algorithms.knns.KNNBasic'> 0.1228509348207455\n",
      "<class 'surprise.prediction_algorithms.knns.KNNWithMeans'> 0.14724135594053778\n",
      "<class 'surprise.prediction_algorithms.knns.KNNWithZScore'> 0.14440677662246001\n",
      "<class 'surprise.prediction_algorithms.baseline_only.BaselineOnly'> 0.1839018552188873\n",
      "<class 'surprise.prediction_algorithms.co_clustering.CoClustering'> 0.15628048493380628\n"
     ]
    }
   ],
   "source": [
    "algos = [SVD(), SVDpp(), SlopeOne(), NormalPredictor(), KNNBaseline(verbose=False), KNNBasic(verbose=False), \n",
    "         KNNWithMeans(verbose=False), KNNWithZScore(verbose=False), \n",
    "         BaselineOnly(verbose=False), CoClustering()]\n",
    "\n",
    "for algorithm in algos:\n",
    "    \n",
    "    result = cross_validate(algorithm, data, cv=5)\n",
    "    print(algorithm.__class__, result['test_mae'].mean())"
   ]
  },
  {
   "cell_type": "code",
   "execution_count": 179,
   "metadata": {
    "ExecuteTime": {
     "end_time": "2020-08-04T17:03:47.784821Z",
     "start_time": "2020-08-04T17:03:41.709817Z"
    }
   },
   "outputs": [
    {
     "name": "stdout",
     "output_type": "stream",
     "text": [
      "0.14792045242869906\n"
     ]
    }
   ],
   "source": [
    "# 0.14098334301265458\n",
    "\n",
    "algorithm = SVDpp(n_factors=5, lr_all=0.1, reg_all=0.02)  # , reg_all=0.02\n",
    "\n",
    "result = cross_validate(algorithm, data, cv=5)\n",
    "print(result['test_mae'].mean())"
   ]
  },
  {
   "cell_type": "code",
   "execution_count": 186,
   "metadata": {
    "ExecuteTime": {
     "end_time": "2020-08-04T17:04:48.671357Z",
     "start_time": "2020-08-04T17:04:44.613087Z"
    }
   },
   "outputs": [
    {
     "name": "stdout",
     "output_type": "stream",
     "text": [
      "0.11949606732813518\n"
     ]
    }
   ],
   "source": [
    "# 0.11899593180524995\n",
    "\n",
    "algorithm = KNNBasic(k=7, verbose=False)\n",
    "\n",
    "res_sum = list()\n",
    "for i in range(10):\n",
    "    result = cross_validate(algorithm, data, cv=5)\n",
    "    res_sum.append(result['test_mae'].mean())\n",
    "print(np.mean(res_sum))"
   ]
  },
  {
   "cell_type": "code",
   "execution_count": 245,
   "metadata": {
    "ExecuteTime": {
     "end_time": "2020-08-04T17:59:23.623980Z",
     "start_time": "2020-08-04T17:59:16.446702Z"
    }
   },
   "outputs": [],
   "source": [
    "def get_top_n(predictions, n=10):\n",
    "    \"\"\"Return the top-N recommendation for each user from a set of predictions.\n",
    "\n",
    "    Args:\n",
    "        predictions(list of Prediction objects): The list of predictions, as\n",
    "            returned by the test method of an algorithm.\n",
    "        n(int): The number of recommendation to output for each user. Default\n",
    "            is 10.\n",
    "\n",
    "    Returns:\n",
    "    A dict where keys are user (raw) ids and values are lists of tuples:\n",
    "        [(raw item id, rating estimation), ...] of size n.\n",
    "    \"\"\"\n",
    "\n",
    "    # First map the predictions to each user.\n",
    "    top_n = defaultdict(list)\n",
    "    for uid, iid, true_r, est, _ in predictions:\n",
    "        top_n[uid].append((iid, est))\n",
    "\n",
    "    # Then sort the predictions for each user and retrieve the k highest ones.\n",
    "    for uid, user_ratings in top_n.items():\n",
    "        user_ratings.sort(key=lambda x: x[1], reverse=True)\n",
    "        \n",
    "        # ЧИСТИМ СОГЛАСНО ЗНАЧЕНИЮ USER_ID\n",
    "        user_ratings_filtered = [ur for ur in user_ratings if ur[0] < max_id[uid]]\n",
    "        \n",
    "        top_n[uid] = user_ratings_filtered[:n]\n",
    "\n",
    "    return top_n\n",
    "\n",
    "# USE USER_ID\n",
    "max_id = train[train['like'] == 1].groupby('user_id')['item_id'].max().rolling(40, min_periods=1).max()\n",
    "max_id += ((max_id + 30) / (max_id.index / 10 + 1)).rolling(10, min_periods=1).mean()\n",
    "\n",
    "\n",
    "algo = KNNBasic(k=7, verbose=False)\n",
    "algo.fit(data.build_full_trainset())\n",
    "\n",
    "# Than predict ratings for all pairs (u, i) that are NOT in the training set.\n",
    "testset = trainset.build_anti_testset()\n",
    "predictions = algo.test(testset)\n",
    "\n",
    "top_n = get_top_n(predictions, n=20)\n",
    "y_pred = pd.DataFrame.from_dict({k: [z[0] for z in v] for k, v in top_n.items()}).T.reset_index()\n",
    "y_pred = y_pred.rename(columns={'index': 'user_id'})\n",
    "\n",
    "# Print the recommended items for each user\n",
    "# for uid, user_ratings in top_n.items():\n",
    "#     print(uid, [iid for (iid, _) in user_ratings])"
   ]
  },
  {
   "cell_type": "code",
   "execution_count": 214,
   "metadata": {
    "ExecuteTime": {
     "end_time": "2020-08-04T17:15:11.876506Z",
     "start_time": "2020-08-04T17:15:11.871050Z"
    },
    "scrolled": true
   },
   "outputs": [
    {
     "data": {
      "text/plain": [
       "(Index(['user_id', '0', '1', '2', '3', '4', '5', '6', '7', '8', '9', '10', '11',\n",
       "        '12', '13', '14', '15', '16', '17', '18', '19'],\n",
       "       dtype='object'),\n",
       " Index(['user_id', 0, 1, 2, 3, 4, 5, 6, 7, 8, 9, 10, 11, 12, 13, 14, 15, 16, 17,\n",
       "        18, 19],\n",
       "       dtype='object'))"
      ]
     },
     "execution_count": 214,
     "metadata": {},
     "output_type": "execute_result"
    }
   ],
   "source": [
    "subm.columns, y_pred.columns"
   ]
  },
  {
   "cell_type": "code",
   "execution_count": null,
   "metadata": {
    "ExecuteTime": {
     "end_time": "2020-08-04T17:54:45.984038Z",
     "start_time": "2020-08-04T17:54:44.921Z"
    }
   },
   "outputs": [],
   "source": [
    "subm.shape, y_pred.shape"
   ]
  },
  {
   "cell_type": "code",
   "execution_count": 248,
   "metadata": {
    "ExecuteTime": {
     "end_time": "2020-08-04T18:00:02.596614Z",
     "start_time": "2020-08-04T18:00:02.589672Z"
    }
   },
   "outputs": [],
   "source": [
    "subm.iloc[:, 1:] = subm.iloc[:, :1].merge(y_pred, on='user_id').iloc[:, 1:].values"
   ]
  },
  {
   "cell_type": "code",
   "execution_count": 249,
   "metadata": {
    "ExecuteTime": {
     "end_time": "2020-08-04T18:00:05.783645Z",
     "start_time": "2020-08-04T18:00:05.775710Z"
    }
   },
   "outputs": [],
   "source": [
    "subm.to_csv('input/subm005.csv', index=None)"
   ]
  },
  {
   "cell_type": "code",
   "execution_count": 250,
   "metadata": {
    "ExecuteTime": {
     "end_time": "2020-08-04T18:00:07.248723Z",
     "start_time": "2020-08-04T18:00:07.229380Z"
    }
   },
   "outputs": [
    {
     "data": {
      "text/html": [
       "<div>\n",
       "<style scoped>\n",
       "    .dataframe tbody tr th:only-of-type {\n",
       "        vertical-align: middle;\n",
       "    }\n",
       "\n",
       "    .dataframe tbody tr th {\n",
       "        vertical-align: top;\n",
       "    }\n",
       "\n",
       "    .dataframe thead th {\n",
       "        text-align: right;\n",
       "    }\n",
       "</style>\n",
       "<table border=\"1\" class=\"dataframe\">\n",
       "  <thead>\n",
       "    <tr style=\"text-align: right;\">\n",
       "      <th></th>\n",
       "      <th>user_id</th>\n",
       "      <th>0</th>\n",
       "      <th>1</th>\n",
       "      <th>2</th>\n",
       "      <th>3</th>\n",
       "      <th>4</th>\n",
       "      <th>5</th>\n",
       "      <th>6</th>\n",
       "      <th>7</th>\n",
       "      <th>8</th>\n",
       "      <th>...</th>\n",
       "      <th>10</th>\n",
       "      <th>11</th>\n",
       "      <th>12</th>\n",
       "      <th>13</th>\n",
       "      <th>14</th>\n",
       "      <th>15</th>\n",
       "      <th>16</th>\n",
       "      <th>17</th>\n",
       "      <th>18</th>\n",
       "      <th>19</th>\n",
       "    </tr>\n",
       "  </thead>\n",
       "  <tbody>\n",
       "    <tr>\n",
       "      <th>393</th>\n",
       "      <td>0</td>\n",
       "      <td>22</td>\n",
       "      <td>11</td>\n",
       "      <td>15</td>\n",
       "      <td>7</td>\n",
       "      <td>19</td>\n",
       "      <td>18</td>\n",
       "      <td>31</td>\n",
       "      <td>3</td>\n",
       "      <td>21</td>\n",
       "      <td>...</td>\n",
       "      <td>25</td>\n",
       "      <td>26</td>\n",
       "      <td>17</td>\n",
       "      <td>9</td>\n",
       "      <td>5</td>\n",
       "      <td>28</td>\n",
       "      <td>2</td>\n",
       "      <td>6</td>\n",
       "      <td>10</td>\n",
       "      <td>20</td>\n",
       "    </tr>\n",
       "    <tr>\n",
       "      <th>152</th>\n",
       "      <td>1</td>\n",
       "      <td>35</td>\n",
       "      <td>22</td>\n",
       "      <td>11</td>\n",
       "      <td>15</td>\n",
       "      <td>5</td>\n",
       "      <td>1</td>\n",
       "      <td>12</td>\n",
       "      <td>7</td>\n",
       "      <td>19</td>\n",
       "      <td>...</td>\n",
       "      <td>26</td>\n",
       "      <td>32</td>\n",
       "      <td>33</td>\n",
       "      <td>28</td>\n",
       "      <td>6</td>\n",
       "      <td>31</td>\n",
       "      <td>2</td>\n",
       "      <td>30</td>\n",
       "      <td>25</td>\n",
       "      <td>36</td>\n",
       "    </tr>\n",
       "    <tr>\n",
       "      <th>81</th>\n",
       "      <td>2</td>\n",
       "      <td>30</td>\n",
       "      <td>21</td>\n",
       "      <td>23</td>\n",
       "      <td>35</td>\n",
       "      <td>26</td>\n",
       "      <td>24</td>\n",
       "      <td>34</td>\n",
       "      <td>22</td>\n",
       "      <td>11</td>\n",
       "      <td>...</td>\n",
       "      <td>32</td>\n",
       "      <td>19</td>\n",
       "      <td>33</td>\n",
       "      <td>8</td>\n",
       "      <td>36</td>\n",
       "      <td>13</td>\n",
       "      <td>28</td>\n",
       "      <td>12</td>\n",
       "      <td>17</td>\n",
       "      <td>5</td>\n",
       "    </tr>\n",
       "    <tr>\n",
       "      <th>114</th>\n",
       "      <td>3</td>\n",
       "      <td>21</td>\n",
       "      <td>23</td>\n",
       "      <td>35</td>\n",
       "      <td>24</td>\n",
       "      <td>22</td>\n",
       "      <td>14</td>\n",
       "      <td>7</td>\n",
       "      <td>0</td>\n",
       "      <td>37</td>\n",
       "      <td>...</td>\n",
       "      <td>1</td>\n",
       "      <td>6</td>\n",
       "      <td>11</td>\n",
       "      <td>33</td>\n",
       "      <td>5</td>\n",
       "      <td>32</td>\n",
       "      <td>18</td>\n",
       "      <td>39</td>\n",
       "      <td>17</td>\n",
       "      <td>30</td>\n",
       "    </tr>\n",
       "    <tr>\n",
       "      <th>210</th>\n",
       "      <td>4</td>\n",
       "      <td>35</td>\n",
       "      <td>24</td>\n",
       "      <td>22</td>\n",
       "      <td>11</td>\n",
       "      <td>15</td>\n",
       "      <td>37</td>\n",
       "      <td>31</td>\n",
       "      <td>8</td>\n",
       "      <td>1</td>\n",
       "      <td>...</td>\n",
       "      <td>13</td>\n",
       "      <td>3</td>\n",
       "      <td>28</td>\n",
       "      <td>25</td>\n",
       "      <td>21</td>\n",
       "      <td>18</td>\n",
       "      <td>7</td>\n",
       "      <td>19</td>\n",
       "      <td>26</td>\n",
       "      <td>32</td>\n",
       "    </tr>\n",
       "    <tr>\n",
       "      <th>...</th>\n",
       "      <td>...</td>\n",
       "      <td>...</td>\n",
       "      <td>...</td>\n",
       "      <td>...</td>\n",
       "      <td>...</td>\n",
       "      <td>...</td>\n",
       "      <td>...</td>\n",
       "      <td>...</td>\n",
       "      <td>...</td>\n",
       "      <td>...</td>\n",
       "      <td>...</td>\n",
       "      <td>...</td>\n",
       "      <td>...</td>\n",
       "      <td>...</td>\n",
       "      <td>...</td>\n",
       "      <td>...</td>\n",
       "      <td>...</td>\n",
       "      <td>...</td>\n",
       "      <td>...</td>\n",
       "      <td>...</td>\n",
       "      <td>...</td>\n",
       "    </tr>\n",
       "    <tr>\n",
       "      <th>79</th>\n",
       "      <td>492</td>\n",
       "      <td>35</td>\n",
       "      <td>65</td>\n",
       "      <td>58</td>\n",
       "      <td>24</td>\n",
       "      <td>66</td>\n",
       "      <td>22</td>\n",
       "      <td>15</td>\n",
       "      <td>72</td>\n",
       "      <td>202</td>\n",
       "      <td>...</td>\n",
       "      <td>186</td>\n",
       "      <td>103</td>\n",
       "      <td>19</td>\n",
       "      <td>49</td>\n",
       "      <td>86</td>\n",
       "      <td>167</td>\n",
       "      <td>98</td>\n",
       "      <td>170</td>\n",
       "      <td>136</td>\n",
       "      <td>37</td>\n",
       "    </tr>\n",
       "    <tr>\n",
       "      <th>345</th>\n",
       "      <td>493</td>\n",
       "      <td>35</td>\n",
       "      <td>58</td>\n",
       "      <td>66</td>\n",
       "      <td>22</td>\n",
       "      <td>40</td>\n",
       "      <td>76</td>\n",
       "      <td>72</td>\n",
       "      <td>119</td>\n",
       "      <td>19</td>\n",
       "      <td>...</td>\n",
       "      <td>86</td>\n",
       "      <td>98</td>\n",
       "      <td>37</td>\n",
       "      <td>60</td>\n",
       "      <td>171</td>\n",
       "      <td>110</td>\n",
       "      <td>8</td>\n",
       "      <td>142</td>\n",
       "      <td>199</td>\n",
       "      <td>85</td>\n",
       "    </tr>\n",
       "    <tr>\n",
       "      <th>260</th>\n",
       "      <td>494</td>\n",
       "      <td>35</td>\n",
       "      <td>65</td>\n",
       "      <td>58</td>\n",
       "      <td>24</td>\n",
       "      <td>66</td>\n",
       "      <td>22</td>\n",
       "      <td>15</td>\n",
       "      <td>76</td>\n",
       "      <td>72</td>\n",
       "      <td>...</td>\n",
       "      <td>202</td>\n",
       "      <td>75</td>\n",
       "      <td>186</td>\n",
       "      <td>103</td>\n",
       "      <td>19</td>\n",
       "      <td>49</td>\n",
       "      <td>86</td>\n",
       "      <td>167</td>\n",
       "      <td>98</td>\n",
       "      <td>170</td>\n",
       "    </tr>\n",
       "    <tr>\n",
       "      <th>332</th>\n",
       "      <td>495</td>\n",
       "      <td>168</td>\n",
       "      <td>205</td>\n",
       "      <td>207</td>\n",
       "      <td>177</td>\n",
       "      <td>4</td>\n",
       "      <td>80</td>\n",
       "      <td>125</td>\n",
       "      <td>43</td>\n",
       "      <td>65</td>\n",
       "      <td>...</td>\n",
       "      <td>22</td>\n",
       "      <td>94</td>\n",
       "      <td>14</td>\n",
       "      <td>69</td>\n",
       "      <td>76</td>\n",
       "      <td>72</td>\n",
       "      <td>174</td>\n",
       "      <td>75</td>\n",
       "      <td>79</td>\n",
       "      <td>147</td>\n",
       "    </tr>\n",
       "    <tr>\n",
       "      <th>387</th>\n",
       "      <td>496</td>\n",
       "      <td>35</td>\n",
       "      <td>65</td>\n",
       "      <td>58</td>\n",
       "      <td>24</td>\n",
       "      <td>66</td>\n",
       "      <td>22</td>\n",
       "      <td>94</td>\n",
       "      <td>15</td>\n",
       "      <td>72</td>\n",
       "      <td>...</td>\n",
       "      <td>75</td>\n",
       "      <td>186</td>\n",
       "      <td>103</td>\n",
       "      <td>147</td>\n",
       "      <td>49</td>\n",
       "      <td>86</td>\n",
       "      <td>167</td>\n",
       "      <td>170</td>\n",
       "      <td>136</td>\n",
       "      <td>37</td>\n",
       "    </tr>\n",
       "  </tbody>\n",
       "</table>\n",
       "<p>497 rows × 21 columns</p>\n",
       "</div>"
      ],
      "text/plain": [
       "     user_id    0    1    2    3   4   5    6    7    8  ...   10   11   12  \\\n",
       "393        0   22   11   15    7  19  18   31    3   21  ...   25   26   17   \n",
       "152        1   35   22   11   15   5   1   12    7   19  ...   26   32   33   \n",
       "81         2   30   21   23   35  26  24   34   22   11  ...   32   19   33   \n",
       "114        3   21   23   35   24  22  14    7    0   37  ...    1    6   11   \n",
       "210        4   35   24   22   11  15  37   31    8    1  ...   13    3   28   \n",
       "..       ...  ...  ...  ...  ...  ..  ..  ...  ...  ...  ...  ...  ...  ...   \n",
       "79       492   35   65   58   24  66  22   15   72  202  ...  186  103   19   \n",
       "345      493   35   58   66   22  40  76   72  119   19  ...   86   98   37   \n",
       "260      494   35   65   58   24  66  22   15   76   72  ...  202   75  186   \n",
       "332      495  168  205  207  177   4  80  125   43   65  ...   22   94   14   \n",
       "387      496   35   65   58   24  66  22   94   15   72  ...   75  186  103   \n",
       "\n",
       "      13   14   15   16   17   18   19  \n",
       "393    9    5   28    2    6   10   20  \n",
       "152   28    6   31    2   30   25   36  \n",
       "81     8   36   13   28   12   17    5  \n",
       "114   33    5   32   18   39   17   30  \n",
       "210   25   21   18    7   19   26   32  \n",
       "..   ...  ...  ...  ...  ...  ...  ...  \n",
       "79    49   86  167   98  170  136   37  \n",
       "345   60  171  110    8  142  199   85  \n",
       "260  103   19   49   86  167   98  170  \n",
       "332   69   76   72  174   75   79  147  \n",
       "387  147   49   86  167  170  136   37  \n",
       "\n",
       "[497 rows x 21 columns]"
      ]
     },
     "execution_count": 250,
     "metadata": {},
     "output_type": "execute_result"
    }
   ],
   "source": [
    "subm.sort_values('user_id')"
   ]
  },
  {
   "cell_type": "code",
   "execution_count": null,
   "metadata": {},
   "outputs": [],
   "source": []
  },
  {
   "cell_type": "code",
   "execution_count": null,
   "metadata": {},
   "outputs": [],
   "source": []
  }
 ],
 "metadata": {
  "kernelspec": {
   "display_name": "Python 3",
   "language": "python",
   "name": "python3"
  },
  "language_info": {
   "codemirror_mode": {
    "name": "ipython",
    "version": 3
   },
   "file_extension": ".py",
   "mimetype": "text/x-python",
   "name": "python",
   "nbconvert_exporter": "python",
   "pygments_lexer": "ipython3",
   "version": "3.7.3"
  }
 },
 "nbformat": 4,
 "nbformat_minor": 2
}
